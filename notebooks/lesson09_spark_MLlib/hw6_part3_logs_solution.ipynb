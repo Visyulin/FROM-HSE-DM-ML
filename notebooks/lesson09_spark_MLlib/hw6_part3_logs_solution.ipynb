{
 "cells": [
  {
   "cell_type": "markdown",
   "metadata": {},
   "source": [
    "<center>\n",
    "<img src=\"../../img/ml_theme.png\">\n",
    "# Дополнительное профессиональное <br> образование НИУ ВШЭ\n",
    "#### Программа \"Машинное обучение и майнинг данных\"\n",
    "<img src=\"../../img/faculty_logo.jpg\" height=\"240\" width=\"240\">\n",
    "## Автор материала: преподаватель Факультета Компьютерных Наук НИУ ВШЭ Кашницкий Юрий\n",
    "</center>\n",
    "Материал распространяется на условиях лицензии <a href=\"https://opensource.org/licenses/MS-RL\">Ms-RL</a>. Можно использовать в любых целях, кроме коммерческих, но с обязательным упоминанием автора материала."
   ]
  },
  {
   "cell_type": "markdown",
   "metadata": {},
   "source": [
    "# Занятие 8. Apache Spark\n",
    "## Домашнее задание. Анализ веб-логов. Решение"
   ]
  },
  {
   "cell_type": "markdown",
   "metadata": {},
   "source": [
    "#### Анализ веб-логов - частый случай использования Apache Spark, поскольку логов много, данные часто разреженные. Но с помощью данных из лог-файлов можно улучшать веб-сервисы, рекомендательные системы, обнаружтвать подозрительных пользователей и т.д."
   ]
  },
  {
   "cell_type": "markdown",
   "metadata": {},
   "source": [
    "#### План:\n",
    "#### *Часть 1*: Формат лог-файлов\n",
    "#### *Часть 2*: Пример анализа лог-файлов\n",
    "#### *Часть 3*: Анализ серверных лог-файлов\n",
    "#### *Часть 4*: Исследование запросов с кодом ответа 404"
   ]
  },
  {
   "cell_type": "markdown",
   "metadata": {},
   "source": [
    "### **Часть 1: Формат лог-файлов**\n",
    "#### Записи в логах в формате Apache [Common Log Format](http://httpd.apache.org/docs/1.3/logs.html#common) выглядят так:\n",
    "`127.0.0.1 - - [01/Aug/1995:00:00:01 -0400] \"GET /images/launch-logo.gif HTTP/1.0\" 200 1839`\n",
    " \n",
    "#### Подробнее:\n",
    "* `127.0.0.1`\n",
    "\n",
    "IP-адрес клиента, сделавшего запрос на сервер.\n",
    " \n",
    "* `-`\n",
    "\n",
    "Дефисы означают, что личность клиента, сделавшего запрос на сервер, не идентифицирована .\n",
    " \n",
    "* `[01/Aug/1995:00:00:01 -0400]`\n",
    "\n",
    "Время окончания обработки запроса сервером. Формат:\n",
    "`[day/month/year:hour:minute:second timezone]`\n",
    "\n",
    "  * day = 2 цифры\n",
    "  * month = 3 буквы\n",
    "  * year = 4 цифры\n",
    "  * hour = 2 цифры\n",
    "  * minute = 2 цифры\n",
    "  * second = 2 цифры\n",
    "  * zone = (\\+ | \\-) 4 цифры\n",
    " \n",
    "* `\"GET /images/launch-logo.gif HTTP/1.0\"`\n",
    "\n",
    "Первая строка запроса клиента.Тип запроса (`GET`, `POST` и т.д.), [URI](http://en.wikipedia.org/wiki/Uniform_resource_identifier) ресурса, и версия протокола клиента.\n",
    " \n",
    "* `200`\n",
    "\n",
    "Код статуса, возвращенный сервером. Успешные начинаются с 2, перенаправление запроса - с 3, ошибочные со стороны клиента запросы - с 4, ошибочные со стороны сервера запросы - с 5. \n",
    " \n",
    "* `1839`\n",
    "\n",
    "Размер объекта, возвращенного клиенту. Если ничего не было возвращено - это \"-\" или 0.\n",
    " \n",
    " \n",
    "### HTTP серверные веб-логи NASA\n",
    "#### Используем данные WWW-сервера NASA Kennedy Space Center. [Данные](http://ita.ee.lbl.gov/html/contrib/NASA-HTTP.html) включают статистику HTTP-запросов за 2 месяца."
   ]
  },
  {
   "cell_type": "markdown",
   "metadata": {},
   "source": [
    "### **Предобработка строк лог-файла**\n",
    "#### Используя регулярные выражения, выберем строки, удовлетворяющие описанному выше шаблону"
   ]
  },
  {
   "cell_type": "code",
   "execution_count": 1,
   "metadata": {
    "collapsed": false
   },
   "outputs": [],
   "source": [
    "import re\n",
    "import datetime\n",
    "\n",
    "from pyspark.sql import Row\n",
    "\n",
    "month_map = {'Jan': 1, 'Feb': 2, 'Mar':3, 'Apr':4, 'May':5, 'Jun':6, 'Jul':7,\n",
    "    'Aug':8,  'Sep': 9, 'Oct':10, 'Nov': 11, 'Dec': 12}\n",
    "\n",
    "def parse_apache_time(s):\n",
    "    \"\"\" Convert Apache time format into a Python datetime object\n",
    "    Args:\n",
    "        s (str): date and time in Apache time format\n",
    "    Returns:\n",
    "        datetime: datetime object (ignore timezone for now)\n",
    "    \"\"\"\n",
    "    return datetime.datetime(int(s[7:11]),\n",
    "                             month_map[s[3:6]],\n",
    "                             int(s[0:2]),\n",
    "                             int(s[12:14]),\n",
    "                             int(s[15:17]),\n",
    "                             int(s[18:20]))\n",
    "\n",
    "\n",
    "def parseApacheLogLine(logline):\n",
    "    \"\"\" Parse a line in the Apache Common Log format\n",
    "    Args:\n",
    "        logline (str): a line of text in the Apache Common Log format\n",
    "    Returns:\n",
    "        tuple: either a dictionary containing the parts of the Apache Access Log and 1,\n",
    "               or the original invalid log line and 0\n",
    "    \"\"\"\n",
    "    match = re.search(APACHE_ACCESS_LOG_PATTERN, logline)\n",
    "    if match is None:\n",
    "        return (logline, 0)\n",
    "    size_field = match.group(9)\n",
    "    if size_field == '-':\n",
    "        size = long(0)\n",
    "    else:\n",
    "        size = long(match.group(9))\n",
    "    return (Row(\n",
    "        host          = match.group(1),\n",
    "        client_identd = match.group(2),\n",
    "        user_id       = match.group(3),\n",
    "        date_time     = parse_apache_time(match.group(4)),\n",
    "        method        = match.group(5),\n",
    "        endpoint      = match.group(6),\n",
    "        protocol      = match.group(7),\n",
    "        response_code = int(match.group(8)),\n",
    "        content_size  = size\n",
    "    ), 1)"
   ]
  },
  {
   "cell_type": "code",
   "execution_count": 5,
   "metadata": {
    "collapsed": false
   },
   "outputs": [],
   "source": [
    "# A regular expression pattern to extract fields from the log line\n",
    "APACHE_ACCESS_LOG_PATTERN =  '^(\\S+) (\\S+) (\\S+) \\[([\\w:/]+\\s[+\\-]\\d{4})\\] \"(\\S+) (\\S+)\\s*(\\S*)\\s*\" (\\d{3}) (\\S+)'"
   ]
  },
  {
   "cell_type": "markdown",
   "metadata": {},
   "source": [
    "### **Создание RDD**\n",
    "#### Функция `parseApacheLogLine` возвращает кортежи с объектом Row и индикатором того, что соответствующая строка попала под шаблон регулярного выражения. "
   ]
  },
  {
   "cell_type": "code",
   "execution_count": 6,
   "metadata": {
    "collapsed": false
   },
   "outputs": [
    {
     "name": "stdout",
     "output_type": "stream",
     "text": [
      "Read 383304 lines, successfully parsed 383304 lines, failed to parse 0 lines\n"
     ]
    }
   ],
   "source": [
    "import sys\n",
    "import os\n",
    "\n",
    "logFile = logFile = '../../data/NASA_logs'\n",
    "\n",
    "def parseLogs():\n",
    "    \"\"\" Read and parse log file \"\"\"\n",
    "    parsed_logs = (sc\n",
    "                   .textFile(logFile)\n",
    "                   .map(parseApacheLogLine)\n",
    "                   .cache())\n",
    "\n",
    "    access_logs = (parsed_logs\n",
    "                   .filter(lambda s: s[1] == 1)\n",
    "                   .map(lambda s: s[0])\n",
    "                   .cache())\n",
    "\n",
    "    failed_logs = (parsed_logs\n",
    "                   .filter(lambda s: s[1] == 0)\n",
    "                   .map(lambda s: s[0]))\n",
    "    failed_logs_count = failed_logs.count()\n",
    "    if failed_logs_count > 0:\n",
    "        print('Number of invalid logline: %d' % failed_logs.count())\n",
    "        for line in failed_logs.take(20):\n",
    "            print('Invalid logline: %s' % line)\n",
    "\n",
    "    print('Read %d lines, successfully parsed %d lines, failed to parse %d lines' \n",
    "          % (parsed_logs.count(), access_logs.count(), failed_logs.count()))\n",
    "    return parsed_logs, access_logs, failed_logs\n",
    "\n",
    "\n",
    "parsed_logs, access_logs, failed_logs = parseLogs()"
   ]
  },
  {
   "cell_type": "markdown",
   "metadata": {},
   "source": [
    "### **Часть 2: Пример анализа лог-файлов**\n",
    " \n",
    "#### **Статистика объема контента**"
   ]
  },
  {
   "cell_type": "code",
   "execution_count": 7,
   "metadata": {
    "collapsed": false
   },
   "outputs": [
    {
     "name": "stdout",
     "output_type": "stream",
     "text": [
      "Content Size Avg: 17599, Min: 0, Max: 3155499\n"
     ]
    }
   ],
   "source": [
    "content_sizes = access_logs.map(lambda log: log.content_size).cache()\n",
    "print('Content Size Avg: %i, Min: %i, Max: %s' % (\n",
    "    content_sizes.reduce(lambda a, b : a + b) / content_sizes.count(),\n",
    "    content_sizes.min(),\n",
    "    content_sizes.max()))"
   ]
  },
  {
   "cell_type": "markdown",
   "metadata": {},
   "source": [
    "#### **Анализ кодов ответа сервера**"
   ]
  },
  {
   "cell_type": "code",
   "execution_count": 8,
   "metadata": {
    "collapsed": false
   },
   "outputs": [
    {
     "name": "stdout",
     "output_type": "stream",
     "text": [
      "Found 7 response codes\n",
      "Response Code Counts: [(200, 344346), (304, 30725), (404, 1940), (500, 2), (302, 6249), (403, 37), (501, 5)]\n"
     ]
    }
   ],
   "source": [
    "# Response Code to Count\n",
    "responseCodeToCount = (access_logs\n",
    "                       .map(lambda log: (log.response_code, 1))\n",
    "                       .reduceByKey(lambda a, b : a + b)\n",
    "                       .cache())\n",
    "responseCodeToCountList = responseCodeToCount.take(100)\n",
    "print('Found %d response codes' % len(responseCodeToCountList))\n",
    "print('Response Code Counts: %s' % responseCodeToCountList)"
   ]
  },
  {
   "cell_type": "markdown",
   "metadata": {},
   "source": [
    "#### **Отображение статистики кодов ответа с `matplotlib`**\n",
    "#### Посчитаем доли, приходящиеся на каждый код ответа, и используем Pie-chart."
   ]
  },
  {
   "cell_type": "code",
   "execution_count": 9,
   "metadata": {
    "collapsed": false
   },
   "outputs": [
    {
     "name": "stdout",
     "output_type": "stream",
     "text": [
      "[200, 304, 404, 500, 302, 403, 501]\n",
      "[0.898362657316386, 0.0801583077661595, 0.005061256861394611, 5.217790578757331e-06, 0.01630298666332728, 9.652912570701062e-05, 1.3044476446893327e-05]\n"
     ]
    }
   ],
   "source": [
    "labels = responseCodeToCount.map(lambda (x, y): x).collect()\n",
    "print(labels)\n",
    "count = access_logs.count()\n",
    "fracs = responseCodeToCount.map(lambda (x, y): (float(y) / count)).collect()\n",
    "print(fracs)"
   ]
  },
  {
   "cell_type": "code",
   "execution_count": 10,
   "metadata": {
    "collapsed": false
   },
   "outputs": [
    {
     "name": "stdout",
     "output_type": "stream",
     "text": [
      "Populating the interactive namespace from numpy and matplotlib\n"
     ]
    },
    {
     "data": {
      "text/plain": [
       "<matplotlib.legend.Legend at 0x7fcc32d69210>"
      ]
     },
     "execution_count": 10,
     "metadata": {},
     "output_type": "execute_result"
    },
    {
     "data": {
      "image/png": "[encoded data removed]",
      "text/plain": [
       "<matplotlib.figure.Figure at 0x7fcc3a4b44d0>"
      ]
     },
     "metadata": {},
     "output_type": "display_data"
    }
   ],
   "source": [
    "%pylab inline\n",
    "\n",
    "def pie_pct_format(value):\n",
    "    \"\"\" Determine the appropriate format string for the pie chart percentage label\n",
    "    Args:\n",
    "        value: value of the pie slice\n",
    "    Returns:\n",
    "        str: formated string label; if the slice is too small to fit, returns an empty string for label\n",
    "    \"\"\"\n",
    "    return '' if value < 7 else '%.0f%%' % value\n",
    "\n",
    "fig = figure(figsize=(4.5, 4.5), facecolor='white', edgecolor='white')\n",
    "colors = ['yellowgreen', 'lightskyblue', 'gold', 'purple', 'lightcoral', 'yellow', 'black']\n",
    "explode = (0.05, 0.05, 0.1, 0, 0, 0, 0)\n",
    "patches, texts, autotexts = pie(fracs, labels=labels, colors=colors,\n",
    "                                    explode=explode, autopct=pie_pct_format,\n",
    "                                    shadow=False,  startangle=125)\n",
    "for text, autotext in zip(texts, autotexts):\n",
    "    if autotext.get_text() == '':\n",
    "        text.set_text('')  # If the slice is small to fit, don't show a text label\n",
    "legend(labels, loc=(0.80, -0.1), shadow=True)"
   ]
  },
  {
   "cell_type": "markdown",
   "metadata": {},
   "source": [
    "#### **Частые адреса**"
   ]
  },
  {
   "cell_type": "code",
   "execution_count": 11,
   "metadata": {
    "collapsed": false
   },
   "outputs": [
    {
     "name": "stdout",
     "output_type": "stream",
     "text": [
      "Any 20 hosts that have accessed more then 10 times: [u'stevef.ihs.com', u'200.255.255.126', u'204.243.249.9', u'163.205.11.133', u'198.53.144.164', u'202.40.17.51', u'205.217.103.69', u'194.64.130.208', u'becks.oe.fau.edu', u'joeyt.pdial.interpath.net', u'204.174.243.61', u'dialup2.speed.net', u'163.206.112.26', u'pc-117.grassroots.ns.ca', u'152.52.29.20', u'141.225.240.2', u'ivyland52.voicenet.com', u'auto45.bconnex.net', u'rlcouch.larc.nasa.gov', u'140.82.62.134']\n"
     ]
    }
   ],
   "source": [
    "# Any hosts that has accessed the server more than 10 times.\n",
    "hostCountPairTuple = access_logs.map(lambda log: (log.host, 1))\n",
    "\n",
    "hostSum = hostCountPairTuple.reduceByKey(lambda a, b : a + b)\n",
    "\n",
    "hostMoreThan10 = hostSum.filter(lambda s: s[1] > 10)\n",
    "\n",
    "hostsPick20 = (hostMoreThan10\n",
    "               .map(lambda s: s[0])\n",
    "               .take(20))\n",
    "\n",
    "print('Any 20 hosts that have accessed more then 10 times: %s' % hostsPick20)\n",
    "# An example: [u'204.120.34.185', u'204.243.249.9', u'slip1-32.acs.ohio-state.edu', u'lapdog-14.baylor.edu', u'199.77.67.3', u'gs1.cs.ttu.edu', u'haskell.limbex.com', u'alfred.uib.no', u'146.129.66.31', u'manaus.bologna.maraut.it', u'dialup98-110.swipnet.se', u'slip-ppp02.feldspar.com', u'ad03-053.compuserve.com', u'srawlin.opsys.nwa.com', u'199.202.200.52', u'ix-den7-23.ix.netcom.com', u'151.99.247.114', u'w20-575-104.mit.edu', u'205.25.227.20', u'ns.rmc.com']"
   ]
  },
  {
   "cell_type": "markdown",
   "metadata": {},
   "source": [
    "#### **Отображение статистики обращения к ресурсам (endpoints)**"
   ]
  },
  {
   "cell_type": "code",
   "execution_count": 12,
   "metadata": {
    "collapsed": false
   },
   "outputs": [
    {
     "data": {
      "text/plain": [
       "[<matplotlib.lines.Line2D at 0x7fcc32b28b90>]"
      ]
     },
     "execution_count": 12,
     "metadata": {},
     "output_type": "execute_result"
    },
    {
     "data": {
      "image/png": "[encoded data removed]",
      "text/plain": [
       "<matplotlib.figure.Figure at 0x7fcc3a4a69d0>"
      ]
     },
     "metadata": {},
     "output_type": "display_data"
    }
   ],
   "source": [
    "endpoints = (access_logs\n",
    "             .map(lambda log: (log.endpoint, 1))\n",
    "             .reduceByKey(lambda a, b : a + b)\n",
    "             .cache())\n",
    "ends = endpoints.map(lambda (x, y): x).collect()\n",
    "counts = endpoints.map(lambda (x, y): y).collect()\n",
    "\n",
    "fig = figure(figsize=(8,4.2), facecolor='white', edgecolor='white')\n",
    "axis([0, len(ends), 0, max(counts)])\n",
    "grid(b=True, which='major', axis='y')\n",
    "xlabel('Endpoints')\n",
    "ylabel('Number of Hits')\n",
    "plot(counts)"
   ]
  },
  {
   "cell_type": "markdown",
   "metadata": {},
   "source": [
    "#### **Частые ресурсы**"
   ]
  },
  {
   "cell_type": "code",
   "execution_count": 13,
   "metadata": {
    "collapsed": false
   },
   "outputs": [
    {
     "name": "stdout",
     "output_type": "stream",
     "text": [
      "Top Ten Endpoints: [(u'/images/NASA-logosmall.gif', 21854), (u'/images/KSC-logosmall.gif', 18893), (u'/images/MOSAIC-logosmall.gif', 15568), (u'/images/USA-logosmall.gif', 15488), (u'/images/WORLD-logosmall.gif', 15351), (u'/images/ksclogo-medium.gif', 14687), (u'/history/apollo/images/apollo-logo1.gif', 10262), (u'/ksc.html', 10182), (u'/images/launch-logo.gif', 9568), (u'/', 7108)]\n"
     ]
    }
   ],
   "source": [
    "# Top Endpoints\n",
    "endpointCounts = (access_logs\n",
    "                  .map(lambda log: (log.endpoint, 1))\n",
    "                  .reduceByKey(lambda a, b : a + b))\n",
    "\n",
    "topEndpoints = endpointCounts.takeOrdered(10, lambda s: -1 * s[1])\n",
    "\n",
    "print('Top Ten Endpoints: %s' % topEndpoints)"
   ]
  },
  {
   "cell_type": "markdown",
   "metadata": {},
   "source": [
    "### **Часть 3: Анализ серверных лог-файлов**"
   ]
  },
  {
   "cell_type": "markdown",
   "metadata": {},
   "source": [
    "#### **10 самых частых ресурсов, обращение к которым вызывало ошибку**\n",
    "#### Каковы 10 ресурсов (endpoints), при обращении к которым код ответа был не 200? Создайте отсортированный список с 10 самыми частыми ресурсами и числом обращений к ним с кодом ответа, отличным от 200. "
   ]
  },
  {
   "cell_type": "code",
   "execution_count": 14,
   "metadata": {
    "collapsed": false
   },
   "outputs": [
    {
     "name": "stdout",
     "output_type": "stream",
     "text": [
      "Top Ten failed URLs: [(u'/images/NASA-logosmall.gif', 3380), (u'/images/KSC-logosmall.gif', 2658), (u'/images/MOSAIC-logosmall.gif', 1915), (u'/images/USA-logosmall.gif', 1891), (u'/images/WORLD-logosmall.gif', 1811), (u'/images/ksclogo-medium.gif', 1794), (u'/history/apollo/images/apollo-logo1.gif', 1106), (u'/images/launch-logo.gif', 1088), (u'/', 863), (u'/shuttle/missions/sts-69/sts-69-patch-small.gif', 678)]\n"
     ]
    }
   ],
   "source": [
    "not200 = access_logs.filter(lambda log: log.response_code != 200)\n",
    "\n",
    "endpointCountPairTuple = not200.map(lambda log: (log.endpoint, 1)).cache()\n",
    "\n",
    "endpointSum = endpointCountPairTuple.reduceByKey(lambda a,b: a+b)\n",
    "\n",
    "topTenErrURLs = endpointSum.takeOrdered(10, lambda s: -1 * s[1])\n",
    "print('Top Ten failed URLs: %s' % topTenErrURLs)"
   ]
  },
  {
   "cell_type": "markdown",
   "metadata": {},
   "source": [
    "#### **Число уникальных адресов**\n",
    "#### Сколько всего уникальных хостов в лог-файле?"
   ]
  },
  {
   "cell_type": "code",
   "execution_count": 15,
   "metadata": {
    "collapsed": false
   },
   "outputs": [
    {
     "name": "stdout",
     "output_type": "stream",
     "text": [
      "Unique hosts: 23315\n"
     ]
    }
   ],
   "source": [
    "hosts = (access_logs\n",
    "        .map(lambda log: log.host)\n",
    "        )\n",
    "\n",
    "uniqueHosts = hosts.distinct()\n",
    "\n",
    "uniqueHostCount = uniqueHosts.count()\n",
    "print('Unique hosts: %d' % uniqueHostCount)"
   ]
  },
  {
   "cell_type": "markdown",
   "metadata": {},
   "source": [
    "### Часть 4: Исследование запросов с кодом ответа 404"
   ]
  },
  {
   "cell_type": "markdown",
   "metadata": {},
   "source": [
    "#### Создайте RDD c запросами лога, имеющими код ответа сервера 404. Закэшируйте RDD `badRecords`."
   ]
  },
  {
   "cell_type": "code",
   "execution_count": 16,
   "metadata": {
    "collapsed": false
   },
   "outputs": [
    {
     "name": "stdout",
     "output_type": "stream",
     "text": [
      "Found 1940 404 URLs\n"
     ]
    }
   ],
   "source": [
    "badRecords = (access_logs\n",
    "              .filter(lambda log: log.response_code == 404)).cache()\n",
    "print('Found %d 404 URLs' % badRecords.count())"
   ]
  },
  {
   "cell_type": "markdown",
   "metadata": {},
   "source": [
    "#### Выведите 40 уникальных ресурсов, обращение к которым вызвало статус 404"
   ]
  },
  {
   "cell_type": "code",
   "execution_count": 17,
   "metadata": {
    "collapsed": false
   },
   "outputs": [
    {
     "name": "stdout",
     "output_type": "stream",
     "text": [
      "404 URLS: [u'/shuttle/missions/sts-71/images/KSC-95EC-0916.txt', u'/ico', u'/shuttle/missions/mission.html/', u'/shuttle/missions/sts-69/images/images/html', u'/shuttle/missions/sts-59/missions-sts-59.html', u'/spftware/winvn/winvn.html/', u\"/shuttle/technology/sts-newsref/sts-jsc.html'\", u'/shuttle/missions/sts-69/mission-sts-74.html', u'/history/discovery', u'/images/lf.gif', u'/shuttle/missions/sts-67/images/k95p0391.gif></a>', u'/IMAGES/', u'/shuttle/missions/sts-69/images/images.ht', u'/history/apollo/apollo-13/html', u'/shuttle/missions/sts-73.html', u'/procurement/business/ciao1.htm', u'/icons/blank', u'/shuttle/missions/STS-69/mission-STS-69.html', u'/persons/astronauts/thagar.html', u'/images/jpeg/', u'/history/apollo/apollo-13/apollo_13.html', u'/technology/', u'/icons/AOL.gif', u'/eggfl.hmtl', u'/shuttle.nasa.gov', u'/KSC.html', u'/elv/SCOUT/elvhead2.gif', u'/pub/win3/winvn/wv16_99.04.zip', u'/history/apollo/sa-9/images/', u'/pub/win3/winvn/', u'/elv/DELTA/uncons.htm', u'/software/winvn.html', u'/missions/missions', u'/shuttle/missions/sts-69/mission-sts-67.html', u'/software/winvn/winvm.html', u'/images/crawlerway-logo.gif', u'/history/apollo/sa-2/docs/', u'/images/sts-63-imax/low_0010.jpg', u'/asdf', u'/shuttle/art/plgosm.gif']\n"
     ]
    }
   ],
   "source": [
    "badEndpoints = badRecords.map(lambda log: log.endpoint)\n",
    "\n",
    "badUniqueEndpoints = badEndpoints.distinct()\n",
    "\n",
    "badUniqueEndpointsPick40 = badUniqueEndpoints.take(40)\n",
    "print('404 URLS: %s' % badUniqueEndpointsPick40)"
   ]
  },
  {
   "cell_type": "markdown",
   "metadata": {},
   "source": [
    "#### Создайте список топ 20 ресурсов, обращение к которым вызвало статус 404."
   ]
  },
  {
   "cell_type": "code",
   "execution_count": 18,
   "metadata": {
    "collapsed": false
   },
   "outputs": [
    {
     "name": "stdout",
     "output_type": "stream",
     "text": [
      "Top Twenty 404 URLs: [(u'/pub/winvn/readme.txt', 195), (u'/shuttle/missions/STS-69/mission-STS-69.html', 167), (u'/pub/winvn/release.txt', 163), (u'/history/apollo/sa-1/sa-1-patch-small.gif', 64), (u'/shuttle/missions/sts-68/ksc-upclose.gif', 51), (u'/images/crawlerway-logo.gif', 44), (u'/elv/DELTA/uncons.htm', 42), (u'/history/apollo/a-001/a-001-patch-small.gif', 42), (u'/://spacelink.msfc.nasa.gov', 39), (u'/history/apollo/images/little-joe.jpg', 30), (u'/shuttle/resources/orbiters/challenger.gif', 24), (u'/shuttle/resources/orbiters/discovery.gif', 24), (u'/shuttle/resources/orbiters/atlantis.gif', 19), (u'/history/apollo/sa-2/sa-2-patch-small.gif', 19), (u'/history/apollo/pad-abort-test-1/pad-abort-test-1-patch-small.gif', 19), (u'/images/lf-logo.gif', 18), (u'/elv/new01.gif>', 15), (u'/icons/image.xb', 14), (u'/software/winvn/winvn.html.', 14), (u'/robots.txt', 14)]\n"
     ]
    }
   ],
   "source": [
    "badEndpointsCountPairTuple = badRecords.map(lambda log: (log.endpoint,1))\n",
    "\n",
    "badEndpointsSum = badEndpointsCountPairTuple.reduceByKey(lambda a,b: a+b)\n",
    "\n",
    "badEndpointsTop20 = badEndpointsSum.takeOrdered(20,lambda s: -1 * s[1])\n",
    "print('Top Twenty 404 URLs: %s' % badEndpointsTop20)"
   ]
  },
  {
   "cell_type": "markdown",
   "metadata": {},
   "source": [
    "#### Создайте список топ 25 адресов, обращение к которым вызвало статус 404."
   ]
  },
  {
   "cell_type": "code",
   "execution_count": 19,
   "metadata": {
    "collapsed": false
   },
   "outputs": [
    {
     "name": "stdout",
     "output_type": "stream",
     "text": [
      "Top 25 hosts that generated errors: [(u'maz3.maz.net', 33), (u'spica.sci.isas.ac.jp', 27), (u'slip145-189.ut.nl.ibm.net', 22), (u'163.206.104.34', 18), (u'bombasto.informatik.rwth-aachen.de', 15), (u'dialup07.smartnet.net', 14), (u'205.138.53.104', 14), (u'redx3.cac.washington.edu', 14), (u'etd5a.cad.ksc.nasa.gov', 13), (u'envpow182.innopoli.fi', 12), (u'tgiwall.tg-inet.co.jp', 12), (u'pc6083-bh.nwscc.sea06.navy.mil', 11), (u'206.27.25.1', 11), (u'piweba3y.prodigy.com', 11), (u'mahalaha_a.lmig.com', 10), (u'unix.ka9q.ampr.org', 10), (u'199.174.158.13', 10), (u'204.144.151.118', 9), (u'gatekeeper.uccu.com', 9), (u'www-b5.proxy.aol.com', 8), (u'p90.allbiz.com', 8), (u'scooter.pa-x.dec.com', 8), (u'152.163.192.38', 8), (u'demornay.lanl.gov', 8), (u'129.186.97.20', 7)]\n"
     ]
    }
   ],
   "source": [
    "errHostsCountPairTuple = badRecords.map(lambda log: (log.host,1))\n",
    "\n",
    "errHostsSum = errHostsCountPairTuple.reduceByKey(lambda a,b: a+b)\n",
    "\n",
    "errHostsTop25 = errHostsSum.takeOrdered(25, lambda s: -1 * s[1])\n",
    "print('Top 25 hosts that generated errors: %s' % errHostsTop25)"
   ]
  },
  {
   "cell_type": "markdown",
   "metadata": {},
   "source": [
    "#### Посчитайте число запросов со статусом 404 в день "
   ]
  },
  {
   "cell_type": "code",
   "execution_count": 20,
   "metadata": {
    "collapsed": false
   },
   "outputs": [
    {
     "name": "stdout",
     "output_type": "stream",
     "text": [
      "404 Errors by day: [(8, 93), (9, 279), (10, 314), (11, 263), (12, 195), (13, 216), (14, 287), (15, 293)]\n"
     ]
    }
   ],
   "source": [
    "errDateCountPairTuple = badRecords.map(lambda log: (log.date_time.day,1))\n",
    "\n",
    "errDateSum = errDateCountPairTuple.reduceByKey(lambda a,b: a+b)\n",
    "\n",
    "errDateSorted = (errDateSum\n",
    "                 .sortByKey()).cache()\n",
    "errByDate = errDateSorted.collect()\n",
    "print('404 Errors by day: %s' % errByDate)"
   ]
  },
  {
   "cell_type": "markdown",
   "metadata": {},
   "source": [
    "#### Отображение числа запросов со статусом 404 в день "
   ]
  },
  {
   "cell_type": "code",
   "execution_count": 21,
   "metadata": {
    "collapsed": false
   },
   "outputs": [],
   "source": [
    "daysWithErrors404 = errDateSorted.map(lambda (day, errors): day).collect()\n",
    "errors404ByDay = errDateSorted.map(lambda (day, errors): errors).collect()"
   ]
  },
  {
   "cell_type": "code",
   "execution_count": 23,
   "metadata": {
    "collapsed": false
   },
   "outputs": [
    {
     "data": {
      "text/plain": [
       "[<matplotlib.lines.Line2D at 0x7fcc38f8c410>]"
      ]
     },
     "execution_count": 23,
     "metadata": {},
     "output_type": "execute_result"
    },
    {
     "data": {
      "image/png": "[encoded data removed]",
      "text/plain": [
       "<matplotlib.figure.Figure at 0x7fcc32b28e10>"
      ]
     },
     "metadata": {},
     "output_type": "display_data"
    }
   ],
   "source": [
    "fig = plt.figure(figsize=(8,4.2), facecolor='white', edgecolor='white')\n",
    "plt.axis([8, max(daysWithErrors404), 0, max(errors404ByDay)])\n",
    "plt.grid(b=True, which='major', axis='y')\n",
    "plt.xlabel('Day')\n",
    "plt.ylabel('404 Errors')\n",
    "plt.plot(daysWithErrors404, errors404ByDay)"
   ]
  }
 ],
 "metadata": {
  "kernelspec": {
   "display_name": "Python 2",
   "language": "python",
   "name": "python2"
  },
  "language_info": {
   "codemirror_mode": {
    "name": "ipython",
    "version": 2
   },
   "file_extension": ".py",
   "mimetype": "text/x-python",
   "name": "python",
   "nbconvert_exporter": "python",
   "pygments_lexer": "ipython2",
   "version": "2.7.10"
  },
  "name": "lesson11_practice_logs_solution.ipynb"
 },
 "nbformat": 4,
 "nbformat_minor": 0
}
