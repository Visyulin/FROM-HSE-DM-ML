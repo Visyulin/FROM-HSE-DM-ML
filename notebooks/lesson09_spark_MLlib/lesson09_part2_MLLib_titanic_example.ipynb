{
 "cells": [
  {
   "cell_type": "markdown",
   "metadata": {},
   "source": [
    "<center>\n",
    "<img src=\"../../img/ml_theme.png\">\n",
    "# Дополнительное профессиональное <br> образование НИУ ВШЭ\n",
    "#### Программа \"Машинное обучение и майнинг данных\"\n",
    "<img src=\"../../img/faculty_logo.jpg\" height=\"240\" width=\"240\">\n",
    "## Автор материала: преподаватель Факультета Компьютерных Наук НИУ ВШЭ Кашницкий Юрий\n",
    "</center>\n",
    "Материал распространяется на условиях лицензии <a href=\"https://opensource.org/licenses/MS-RL\">Ms-RL</a>. Можно использовать в любых целях, кроме коммерческих, но с обязательным упоминанием автора материала."
   ]
  },
  {
   "cell_type": "markdown",
   "metadata": {},
   "source": [
    "# Занятие 9. Машинное обучение с Apache Spark\n",
    "## Часть 2. Пример использования Apache MLLib"
   ]
  },
  {
   "cell_type": "code",
   "execution_count": 1,
   "metadata": {
    "collapsed": false
   },
   "outputs": [
    {
     "name": "stdout",
     "output_type": "stream",
     "text": [
      "Populating the interactive namespace from numpy and matplotlib\n"
     ]
    }
   ],
   "source": [
    "%pylab inline\n",
    "import numpy as np\n",
    "import pandas as pd\n",
    "from pyspark.mllib.regression import LabeledPoint\n",
    "from pyspark.mllib.classification import LogisticRegressionWithSGD"
   ]
  },
  {
   "cell_type": "markdown",
   "metadata": {},
   "source": [
    "### Загрузка данных"
   ]
  },
  {
   "cell_type": "code",
   "execution_count": 2,
   "metadata": {
    "collapsed": false
   },
   "outputs": [
    {
     "name": "stdout",
     "output_type": "stream",
     "text": [
      "('Number of samples:', 714)\n",
      "('Train positives:', 201)\n",
      "('Train negatives:', 291)\n",
      "('Test positives:', 89)\n",
      "('Test negatives:', 133)\n"
     ]
    }
   ],
   "source": [
    "def parsePoints(df):\n",
    "    data = list()\n",
    "    for i in xrange(len(df)):\n",
    "        survived = float(df[\"Survived\"][i])\n",
    "        age = float(df[\"Age\"][i])\n",
    "        pClass = float(df[\"Pclass\"][i])\n",
    "        nameL = float(len(df[\"Name\"][i]))\n",
    "        sex = 1.0 if df[\"Sex\"][i] == \"male\" else 0.0\n",
    "        sibSp = float(df[\"SibSp\"][i])\n",
    "        parch = float(df[\"Parch\"][i])\n",
    "        fare = float(df[\"Fare\"][i])\n",
    "        features = [age, pClass, nameL, sex, sibSp, parch, fare]\n",
    "        \n",
    "        # for simplicity just skip nans\n",
    "        if np.isnan(features).sum():\n",
    "            continue\n",
    "\n",
    "        p = LabeledPoint(survived, features)\n",
    "        data.append(p)\n",
    "    return data\n",
    "\n",
    "df = pd.read_csv(\"../../data/titanic_train.csv\")\n",
    "data = parsePoints(df)\n",
    "\n",
    "print(\"Number of samples:\", len(data))\n",
    "\n",
    "train, test = sc.parallelize(data).randomSplit([0.7, 0.3], seed=2l)\n",
    "\n",
    "print(\"Train positives:\", train.filter(lambda p: p.label == 1.0).count())\n",
    "print(\"Train negatives:\", train.filter(lambda p: p.label == 0.0).count())\n",
    "print(\"Test positives:\", test.filter(lambda p: p.label == 1.0).count())\n",
    "print(\"Test negatives:\", test.filter(lambda p: p.label == 0.0).count())"
   ]
  },
  {
   "cell_type": "markdown",
   "metadata": {},
   "source": [
    "### Логистическая регрессия"
   ]
  },
  {
   "cell_type": "code",
   "execution_count": 3,
   "metadata": {
    "collapsed": false
   },
   "outputs": [
    {
     "data": {
      "text/plain": [
       "(weights=[-1.09819878395,-3.0508062163,0.523233326403,-2.57743232273,-1.73622575148,-1.19341948047,0.108247255142], intercept=0.0)"
      ]
     },
     "execution_count": 3,
     "metadata": {},
     "output_type": "execute_result"
    }
   ],
   "source": [
    "logistic_model = LogisticRegressionWithSGD.train(train, iterations=250)\n",
    "logistic_model"
   ]
  },
  {
   "cell_type": "code",
   "execution_count": 4,
   "metadata": {
    "collapsed": false
   },
   "outputs": [
    {
     "data": {
      "text/plain": [
       "[(0, 0),\n",
       " (0, 0),\n",
       " (0, 0),\n",
       " (0, 0),\n",
       " (0, 1),\n",
       " (0, 0),\n",
       " (0, 0),\n",
       " (0, 0),\n",
       " (0, 0),\n",
       " (1, 0)]"
      ]
     },
     "execution_count": 4,
     "metadata": {},
     "output_type": "execute_result"
    }
   ],
   "source": [
    "validation = test.map(\n",
    "    lambda p: (int(round(p.label)), logistic_model.predict(p.features))\n",
    "    ).cache()\n",
    "\n",
    "validation.take(10)"
   ]
  },
  {
   "cell_type": "code",
   "execution_count": 5,
   "metadata": {
    "collapsed": false
   },
   "outputs": [
    {
     "name": "stdout",
     "output_type": "stream",
     "text": [
      "True positive rate: 0.07\n",
      "Frue positive rate: 0.01\n",
      "True negative rate: 0.59\n",
      "False negative rate: 0.33\n"
     ]
    }
   ],
   "source": [
    "total = float(validation.count())\n",
    "tp = validation.filter(lambda (real, pred): real == 1 and pred == 1).count() / total\n",
    "fp = validation.filter(lambda (real, pred): real == 0 and pred == 1).count() / total\n",
    "tn = validation.filter(lambda (real, pred): real == 0 and pred == 0).count() / total\n",
    "fn = validation.filter(lambda (real, pred): real == 1 and pred == 0).count() / total\n",
    "\n",
    "print(\"True positive rate: %.2f\" % tp)\n",
    "print(\"Frue positive rate: %.2f\" % fp)\n",
    "print(\"True negative rate: %.2f\" % tn)\n",
    "print(\"False negative rate: %.2f\" % fn)"
   ]
  },
  {
   "cell_type": "code",
   "execution_count": 6,
   "metadata": {
    "collapsed": false
   },
   "outputs": [],
   "source": [
    "def logistic(w):\n",
    "    from math import exp\n",
    "    def predict(x):\n",
    "        z = w.dot(x)\n",
    "        return 1. / (1 + exp(-z))\n",
    "    return predict\n",
    "\n",
    "predict_proba = logistic(logistic_model.weights)\n",
    "predicted_proba = test.map(\n",
    "    lambda p: (p.label, predict_proba(p.features))\n",
    ").collect()"
   ]
  },
  {
   "cell_type": "code",
   "execution_count": 7,
   "metadata": {
    "collapsed": false
   },
   "outputs": [
    {
     "data": {
      "image/png": "[encoded data removed]",
      "text/plain": [
       "<matplotlib.figure.Figure at 0x7f4ed077bc90>"
      ]
     },
     "metadata": {},
     "output_type": "display_data"
    }
   ],
   "source": [
    "from sklearn.metrics import roc_curve, auc\n",
    "\n",
    "# Compute ROC curve and area the curve\n",
    "fpr, tpr, thresholds = roc_curve([ r for r, p in predicted_proba ], [ p for r, p in predicted_proba ])\n",
    "roc_auc = auc(fpr, tpr)\n",
    "\n",
    "# Plot ROC curve\n",
    "\n",
    "fig = plt.figure(figsize=(7,5))\n",
    "ax = fig.add_subplot(111)\n",
    "\n",
    "plt.plot(fpr, tpr, color='lightblue', lw=2, label='ROC curve')\n",
    "plt.plot([0, 1], [0, 1], color='black', lw=2, linestyle='dotted', label='random guessing')\n",
    "plt.xlim([0.0, 1.0])\n",
    "plt.ylim([0.0, 1.0])\n",
    "plt.xlabel('False Positive Rate')\n",
    "plt.ylabel('True Positive Rate')\n",
    "plt.title('Receiver operating characteristic (ROC)')\n",
    "plt.legend(loc=\"lower right\")\n",
    "ax.annotate('AUC = %0.2f' %roc_auc, xy=(0.35, 0.6))\n",
    "plt.show()"
   ]
  },
  {
   "cell_type": "markdown",
   "metadata": {},
   "source": [
    "### Градиентный бустинг"
   ]
  },
  {
   "cell_type": "code",
   "execution_count": 8,
   "metadata": {
    "collapsed": false
   },
   "outputs": [
    {
     "name": "stdout",
     "output_type": "stream",
     "text": [
      "TreeEnsembleModel regressor with 20 trees\n",
      "\n"
     ]
    }
   ],
   "source": [
    "from pyspark.mllib.tree import GradientBoostedTrees\n",
    "\n",
    "GBTModel = GradientBoostedTrees.trainRegressor(train, dict(), \n",
    "                                               numIterations=20, maxDepth=3)\n",
    "print(GBTModel)\n",
    "testGBT = [(p.label, GBTModel.predict(p.features)) for p in test.collect()]"
   ]
  },
  {
   "cell_type": "code",
   "execution_count": 9,
   "metadata": {
    "collapsed": false
   },
   "outputs": [
    {
     "data": {
      "image/png": "[encoded data removed]",
      "text/plain": [
       "<matplotlib.figure.Figure at 0x7f4ed1bff490>"
      ]
     },
     "metadata": {},
     "output_type": "display_data"
    }
   ],
   "source": [
    "from sklearn.metrics import roc_curve, auc\n",
    "\n",
    "# Compute ROC curve and area the curve\n",
    "fpr, tpr, thresholds = roc_curve([ r for r, p in testGBT ], [ p for r, p in testGBT ])\n",
    "roc_auc = auc(fpr, tpr)\n",
    "\n",
    "# Plot ROC curve\n",
    "\n",
    "fig = plt.figure(figsize=(7,5))\n",
    "ax = fig.add_subplot(111)\n",
    "\n",
    "plt.plot(fpr, tpr, color='lightblue', lw=2, label='ROC curve')\n",
    "plt.plot([0, 1], [0, 1], color='black', lw=2, linestyle='dotted', label='random guessing')\n",
    "plt.xlim([0.0, 1.0])\n",
    "plt.ylim([0.0, 1.0])\n",
    "plt.xlabel('False Positive Rate')\n",
    "plt.ylabel('True Positive Rate')\n",
    "plt.title('Receiver operating characteristic (ROC)')\n",
    "plt.legend(loc=\"lower right\")\n",
    "ax.annotate('AUC = %0.2f' %roc_auc, xy=(0.35, 0.6))\n",
    "plt.show()"
   ]
  }
 ],
 "metadata": {
  "kernelspec": {
   "display_name": "Python 2",
   "language": "python",
   "name": "python2"
  },
  "language_info": {
   "codemirror_mode": {
    "name": "ipython",
    "version": 2
   },
   "file_extension": ".py",
   "mimetype": "text/x-python",
   "name": "python",
   "nbconvert_exporter": "python",
   "pygments_lexer": "ipython2",
   "version": "2.7.10"
  },
  "name": "lesson11_part6_MLLib_titanic_example.ipynb"
 },
 "nbformat": 4,
 "nbformat_minor": 0
}
