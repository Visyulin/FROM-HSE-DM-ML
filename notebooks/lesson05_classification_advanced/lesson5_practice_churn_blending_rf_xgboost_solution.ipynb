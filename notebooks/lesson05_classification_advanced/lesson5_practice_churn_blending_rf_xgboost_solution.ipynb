{
 "cells": [
  {
   "cell_type": "markdown",
   "metadata": {},
   "source": [
    "<center>\n",
    "<img src=\"../../img/ml_theme.png\">\n",
    "# Дополнительное профессиональное <br> образование НИУ ВШЭ\n",
    "#### Программа \"Машинное обучение и майнинг данных\"\n",
    "<img src=\"../../img/faculty_logo.jpg\" height=\"240\" width=\"240\">\n",
    "## Автор материала: преподаватель Факультета Компьютерных Наук НИУ ВШЭ Кашницкий Юрий\n",
    "</center>\n",
    "Материал распространяется на условиях лицензии <a href=\"https://opensource.org/licenses/MS-RL\">Ms-RL</a>. Можно использовать в любых целях, кроме коммерческих, но с обязательным упоминанием автора материала."
   ]
  },
  {
   "cell_type": "markdown",
   "metadata": {},
   "source": [
    "# Занятие 5. Продвинутые методы классификации и регрессии"
   ]
  },
  {
   "cell_type": "markdown",
   "metadata": {},
   "source": [
    "### Практика.  Смешивание случайного леса и градиентного бустинга для набора данных по оттоку клиентов телеком-компании. Решение"
   ]
  },
  {
   "cell_type": "code",
   "execution_count": 1,
   "metadata": {
    "collapsed": false
   },
   "outputs": [
    {
     "name": "stdout",
     "output_type": "stream",
     "text": [
      "Populating the interactive namespace from numpy and matplotlib\n"
     ]
    }
   ],
   "source": [
    "import warnings\n",
    "warnings.filterwarnings('ignore')\n",
    "import numpy as np\n",
    "import pandas as pd\n",
    "from sklearn.ensemble import RandomForestClassifier\n",
    "from xgboost import XGBClassifier\n",
    "from sklearn.cross_validation import StratifiedKFold, train_test_split\n",
    "from sklearn.metrics import roc_auc_score\n",
    "import sys\n",
    "sys.path.append('../../scripts/')\n",
    "from log_progress import log_progress\n",
    "%pylab inline"
   ]
  },
  {
   "cell_type": "markdown",
   "metadata": {},
   "source": [
    "**Считываем данные.**"
   ]
  },
  {
   "cell_type": "code",
   "execution_count": 2,
   "metadata": {
    "collapsed": false
   },
   "outputs": [],
   "source": [
    "df = pd.read_csv('../../data/telecom_churn.csv')"
   ]
  },
  {
   "cell_type": "code",
   "execution_count": 3,
   "metadata": {
    "collapsed": false
   },
   "outputs": [
    {
     "data": {
      "text/html": [
       "<div>\n",
       "<table border=\"1\" class=\"dataframe\">\n",
       "  <thead>\n",
       "    <tr style=\"text-align: right;\">\n",
       "      <th></th>\n",
       "      <th>State</th>\n",
       "      <th>Account length</th>\n",
       "      <th>Area code</th>\n",
       "      <th>International plan</th>\n",
       "      <th>Voice mail plan</th>\n",
       "      <th>Number vmail messages</th>\n",
       "      <th>Total day minutes</th>\n",
       "      <th>Total day calls</th>\n",
       "      <th>Total day charge</th>\n",
       "      <th>Total eve minutes</th>\n",
       "      <th>Total eve calls</th>\n",
       "      <th>Total eve charge</th>\n",
       "      <th>Total night minutes</th>\n",
       "      <th>Total night calls</th>\n",
       "      <th>Total night charge</th>\n",
       "      <th>Total intl minutes</th>\n",
       "      <th>Total intl calls</th>\n",
       "      <th>Total intl charge</th>\n",
       "      <th>Customer service calls</th>\n",
       "      <th>Churn</th>\n",
       "    </tr>\n",
       "  </thead>\n",
       "  <tbody>\n",
       "    <tr>\n",
       "      <th>0</th>\n",
       "      <td>KS</td>\n",
       "      <td>128</td>\n",
       "      <td>415</td>\n",
       "      <td>No</td>\n",
       "      <td>Yes</td>\n",
       "      <td>25</td>\n",
       "      <td>265.1</td>\n",
       "      <td>110</td>\n",
       "      <td>45.07</td>\n",
       "      <td>197.4</td>\n",
       "      <td>99</td>\n",
       "      <td>16.78</td>\n",
       "      <td>244.7</td>\n",
       "      <td>91</td>\n",
       "      <td>11.01</td>\n",
       "      <td>10.0</td>\n",
       "      <td>3</td>\n",
       "      <td>2.70</td>\n",
       "      <td>1</td>\n",
       "      <td>False</td>\n",
       "    </tr>\n",
       "    <tr>\n",
       "      <th>1</th>\n",
       "      <td>OH</td>\n",
       "      <td>107</td>\n",
       "      <td>415</td>\n",
       "      <td>No</td>\n",
       "      <td>Yes</td>\n",
       "      <td>26</td>\n",
       "      <td>161.6</td>\n",
       "      <td>123</td>\n",
       "      <td>27.47</td>\n",
       "      <td>195.5</td>\n",
       "      <td>103</td>\n",
       "      <td>16.62</td>\n",
       "      <td>254.4</td>\n",
       "      <td>103</td>\n",
       "      <td>11.45</td>\n",
       "      <td>13.7</td>\n",
       "      <td>3</td>\n",
       "      <td>3.70</td>\n",
       "      <td>1</td>\n",
       "      <td>False</td>\n",
       "    </tr>\n",
       "    <tr>\n",
       "      <th>2</th>\n",
       "      <td>NJ</td>\n",
       "      <td>137</td>\n",
       "      <td>415</td>\n",
       "      <td>No</td>\n",
       "      <td>No</td>\n",
       "      <td>0</td>\n",
       "      <td>243.4</td>\n",
       "      <td>114</td>\n",
       "      <td>41.38</td>\n",
       "      <td>121.2</td>\n",
       "      <td>110</td>\n",
       "      <td>10.30</td>\n",
       "      <td>162.6</td>\n",
       "      <td>104</td>\n",
       "      <td>7.32</td>\n",
       "      <td>12.2</td>\n",
       "      <td>5</td>\n",
       "      <td>3.29</td>\n",
       "      <td>0</td>\n",
       "      <td>False</td>\n",
       "    </tr>\n",
       "    <tr>\n",
       "      <th>3</th>\n",
       "      <td>OH</td>\n",
       "      <td>84</td>\n",
       "      <td>408</td>\n",
       "      <td>Yes</td>\n",
       "      <td>No</td>\n",
       "      <td>0</td>\n",
       "      <td>299.4</td>\n",
       "      <td>71</td>\n",
       "      <td>50.90</td>\n",
       "      <td>61.9</td>\n",
       "      <td>88</td>\n",
       "      <td>5.26</td>\n",
       "      <td>196.9</td>\n",
       "      <td>89</td>\n",
       "      <td>8.86</td>\n",
       "      <td>6.6</td>\n",
       "      <td>7</td>\n",
       "      <td>1.78</td>\n",
       "      <td>2</td>\n",
       "      <td>False</td>\n",
       "    </tr>\n",
       "    <tr>\n",
       "      <th>4</th>\n",
       "      <td>OK</td>\n",
       "      <td>75</td>\n",
       "      <td>415</td>\n",
       "      <td>Yes</td>\n",
       "      <td>No</td>\n",
       "      <td>0</td>\n",
       "      <td>166.7</td>\n",
       "      <td>113</td>\n",
       "      <td>28.34</td>\n",
       "      <td>148.3</td>\n",
       "      <td>122</td>\n",
       "      <td>12.61</td>\n",
       "      <td>186.9</td>\n",
       "      <td>121</td>\n",
       "      <td>8.41</td>\n",
       "      <td>10.1</td>\n",
       "      <td>3</td>\n",
       "      <td>2.73</td>\n",
       "      <td>3</td>\n",
       "      <td>False</td>\n",
       "    </tr>\n",
       "  </tbody>\n",
       "</table>\n",
       "</div>"
      ],
      "text/plain": [
       "  State  Account length  Area code International plan Voice mail plan  \\\n",
       "0    KS             128        415                 No             Yes   \n",
       "1    OH             107        415                 No             Yes   \n",
       "2    NJ             137        415                 No              No   \n",
       "3    OH              84        408                Yes              No   \n",
       "4    OK              75        415                Yes              No   \n",
       "\n",
       "   Number vmail messages  Total day minutes  Total day calls  \\\n",
       "0                     25              265.1              110   \n",
       "1                     26              161.6              123   \n",
       "2                      0              243.4              114   \n",
       "3                      0              299.4               71   \n",
       "4                      0              166.7              113   \n",
       "\n",
       "   Total day charge  Total eve minutes  Total eve calls  Total eve charge  \\\n",
       "0             45.07              197.4               99             16.78   \n",
       "1             27.47              195.5              103             16.62   \n",
       "2             41.38              121.2              110             10.30   \n",
       "3             50.90               61.9               88              5.26   \n",
       "4             28.34              148.3              122             12.61   \n",
       "\n",
       "   Total night minutes  Total night calls  Total night charge  \\\n",
       "0                244.7                 91               11.01   \n",
       "1                254.4                103               11.45   \n",
       "2                162.6                104                7.32   \n",
       "3                196.9                 89                8.86   \n",
       "4                186.9                121                8.41   \n",
       "\n",
       "   Total intl minutes  Total intl calls  Total intl charge  \\\n",
       "0                10.0                 3               2.70   \n",
       "1                13.7                 3               3.70   \n",
       "2                12.2                 5               3.29   \n",
       "3                 6.6                 7               1.78   \n",
       "4                10.1                 3               2.73   \n",
       "\n",
       "   Customer service calls  Churn  \n",
       "0                       1  False  \n",
       "1                       1  False  \n",
       "2                       0  False  \n",
       "3                       2  False  \n",
       "4                       3  False  "
      ]
     },
     "execution_count": 3,
     "metadata": {},
     "output_type": "execute_result"
    }
   ],
   "source": [
    "df.head()"
   ]
  },
  {
   "cell_type": "code",
   "execution_count": 4,
   "metadata": {
    "collapsed": false
   },
   "outputs": [],
   "source": [
    "y = df['Churn']\n",
    "df.drop(['State', 'Churn'], axis=1, inplace=True)"
   ]
  },
  {
   "cell_type": "code",
   "execution_count": 5,
   "metadata": {
    "collapsed": true
   },
   "outputs": [],
   "source": [
    "df['International plan'] = (df['International plan'] == 'Yes').astype('int')\n",
    "df['Voice mail plan'] = (df['Voice mail plan'] == 'Yes').astype('int')"
   ]
  },
  {
   "cell_type": "markdown",
   "metadata": {},
   "source": [
    "**Определим важность признаков с помощью случайного леса.**"
   ]
  },
  {
   "cell_type": "code",
   "execution_count": 6,
   "metadata": {
    "collapsed": true
   },
   "outputs": [],
   "source": [
    "rf = RandomForestClassifier(random_state=1).fit(df, y)"
   ]
  },
  {
   "cell_type": "code",
   "execution_count": 7,
   "metadata": {
    "collapsed": false
   },
   "outputs": [
    {
     "data": {
      "text/html": [
       "<div>\n",
       "<table border=\"1\" class=\"dataframe\">\n",
       "  <thead>\n",
       "    <tr style=\"text-align: right;\">\n",
       "      <th></th>\n",
       "      <th>0</th>\n",
       "    </tr>\n",
       "  </thead>\n",
       "  <tbody>\n",
       "    <tr>\n",
       "      <th>Total day minutes</th>\n",
       "      <td>0.166285</td>\n",
       "    </tr>\n",
       "    <tr>\n",
       "      <th>Customer service calls</th>\n",
       "      <td>0.120678</td>\n",
       "    </tr>\n",
       "    <tr>\n",
       "      <th>Total day charge</th>\n",
       "      <td>0.105372</td>\n",
       "    </tr>\n",
       "    <tr>\n",
       "      <th>International plan</th>\n",
       "      <td>0.076782</td>\n",
       "    </tr>\n",
       "    <tr>\n",
       "      <th>Total eve charge</th>\n",
       "      <td>0.075501</td>\n",
       "    </tr>\n",
       "    <tr>\n",
       "      <th>Total eve minutes</th>\n",
       "      <td>0.065616</td>\n",
       "    </tr>\n",
       "    <tr>\n",
       "      <th>Total intl calls</th>\n",
       "      <td>0.059661</td>\n",
       "    </tr>\n",
       "    <tr>\n",
       "      <th>Total intl charge</th>\n",
       "      <td>0.046290</td>\n",
       "    </tr>\n",
       "    <tr>\n",
       "      <th>Total intl minutes</th>\n",
       "      <td>0.041530</td>\n",
       "    </tr>\n",
       "    <tr>\n",
       "      <th>Total night charge</th>\n",
       "      <td>0.040650</td>\n",
       "    </tr>\n",
       "    <tr>\n",
       "      <th>Voice mail plan</th>\n",
       "      <td>0.033341</td>\n",
       "    </tr>\n",
       "    <tr>\n",
       "      <th>Total night minutes</th>\n",
       "      <td>0.030808</td>\n",
       "    </tr>\n",
       "    <tr>\n",
       "      <th>Number vmail messages</th>\n",
       "      <td>0.027750</td>\n",
       "    </tr>\n",
       "    <tr>\n",
       "      <th>Total night calls</th>\n",
       "      <td>0.026354</td>\n",
       "    </tr>\n",
       "    <tr>\n",
       "      <th>Account length</th>\n",
       "      <td>0.025802</td>\n",
       "    </tr>\n",
       "    <tr>\n",
       "      <th>Total day calls</th>\n",
       "      <td>0.025161</td>\n",
       "    </tr>\n",
       "    <tr>\n",
       "      <th>Total eve calls</th>\n",
       "      <td>0.023440</td>\n",
       "    </tr>\n",
       "    <tr>\n",
       "      <th>Area code</th>\n",
       "      <td>0.008977</td>\n",
       "    </tr>\n",
       "  </tbody>\n",
       "</table>\n",
       "</div>"
      ],
      "text/plain": [
       "                               0\n",
       "Total day minutes       0.166285\n",
       "Customer service calls  0.120678\n",
       "Total day charge        0.105372\n",
       "International plan      0.076782\n",
       "Total eve charge        0.075501\n",
       "Total eve minutes       0.065616\n",
       "Total intl calls        0.059661\n",
       "Total intl charge       0.046290\n",
       "Total intl minutes      0.041530\n",
       "Total night charge      0.040650\n",
       "Voice mail plan         0.033341\n",
       "Total night minutes     0.030808\n",
       "Number vmail messages   0.027750\n",
       "Total night calls       0.026354\n",
       "Account length          0.025802\n",
       "Total day calls         0.025161\n",
       "Total eve calls         0.023440\n",
       "Area code               0.008977"
      ]
     },
     "execution_count": 7,
     "metadata": {},
     "output_type": "execute_result"
    }
   ],
   "source": [
    "feaure_imp_df = pd.DataFrame(rf.feature_importances_,\n",
    "             index=df.columns).sort([0], ascending=False)\n",
    "feaure_imp_df"
   ]
  },
  {
   "cell_type": "markdown",
   "metadata": {},
   "source": [
    "**Будем обучать лес на четных признаках, а Xgboost - на нечетных (в порядке убывания важности).**"
   ]
  },
  {
   "cell_type": "code",
   "execution_count": 8,
   "metadata": {
    "collapsed": true
   },
   "outputs": [],
   "source": [
    "rf_features = feaure_imp_df.index.tolist()[::2]\n",
    "xgb_features = feaure_imp_df.index.tolist()[1::2]"
   ]
  },
  {
   "cell_type": "markdown",
   "metadata": {},
   "source": [
    "**Отделим 30% данных, чтоб в конце проверять настроенные модели.**"
   ]
  },
  {
   "cell_type": "code",
   "execution_count": 9,
   "metadata": {
    "collapsed": false
   },
   "outputs": [],
   "source": [
    "X_train, X_holdout, y_train, y_holdout = \\\n",
    "                                train_test_split(df, y, test_size=0.3,\n",
    "                                                 random_state=42)"
   ]
  },
  {
   "cell_type": "markdown",
   "metadata": {},
   "source": [
    "### Кросс-валидация"
   ]
  },
  {
   "cell_type": "code",
   "execution_count": 10,
   "metadata": {
    "collapsed": true
   },
   "outputs": [],
   "source": [
    "def out_of_fold_prediction(clf, train_df, y_series, folds, scale=False):\n",
    "    \n",
    "    prediction = y_series.copy()\n",
    "    for train_idx, test_idx in folds:\n",
    "        X_train, X_test = train_df.iloc[train_idx, :], train_df.iloc[test_idx,:]\n",
    "        y_train, y_test = y_series.iloc[train_idx], y_series.iloc[test_idx]\n",
    "        \n",
    "        if scale:\n",
    "            scaler = StandardScaler()\n",
    "            X_train = scaler.fit_transform(X_train)\n",
    "            X_test = scaler.transform(X_test)\n",
    "        \n",
    "        clf.fit(X_train, y_train)\n",
    "        \n",
    "        prediction.iloc[test_idx] = clf.predict_proba(X_test)[:, 1]\n",
    "        \n",
    "    return(prediction)"
   ]
  },
  {
   "cell_type": "code",
   "execution_count": 11,
   "metadata": {
    "collapsed": false
   },
   "outputs": [],
   "source": [
    "folds = StratifiedKFold(y_train, n_folds=5, random_state=42)"
   ]
  },
  {
   "cell_type": "markdown",
   "metadata": {},
   "source": [
    "**Out-of-Fold-прогноз RF. Подбираем глубину деревьев.**"
   ]
  },
  {
   "cell_type": "code",
   "execution_count": 12,
   "metadata": {
    "collapsed": false
   },
   "outputs": [
    {
     "name": "stdout",
     "output_type": "stream",
     "text": [
      "(0.73455255157758037, 14)\n",
      "CPU times: user 24.8 s, sys: 2.15 s, total: 26.9 s\n",
      "Wall time: 20.2 s\n"
     ]
    },
    {
     "data": {
      "image/png": "[encoded data removed]",
      "text/plain": [
       "<matplotlib.figure.Figure at 0x11545a790>"
      ]
     },
     "metadata": {},
     "output_type": "display_data"
    }
   ],
   "source": [
    "%%time\n",
    "depths = range(13, 20)\n",
    "scores = []\n",
    "\n",
    "for depth in log_progress(depths):\n",
    "    pred = out_of_fold_prediction(RandomForestClassifier(max_depth=depth,\n",
    "                                                         n_estimators=100,\n",
    "                                                        n_jobs=-1,\n",
    "                                                        random_state=1),\n",
    "                                 X_train[rf_features], y_train, folds)\n",
    "    scores.append(roc_auc_score(y_train, pred))\n",
    "\n",
    "plot(depths, scores)\n",
    "print(max(scores), depths[np.argmax(scores)])"
   ]
  },
  {
   "cell_type": "markdown",
   "metadata": {},
   "source": [
    "**У RandomForest на CV - 0.7346, на оставленной выборке - 0.7883.**"
   ]
  },
  {
   "cell_type": "code",
   "execution_count": 14,
   "metadata": {
    "collapsed": false
   },
   "outputs": [
    {
     "name": "stdout",
     "output_type": "stream",
     "text": [
      "CV: 0.7346, Holdout: 0.7883\n",
      "CPU times: user 4.48 s, sys: 358 ms, total: 4.84 s\n",
      "Wall time: 3.5 s\n"
     ]
    }
   ],
   "source": [
    "%%time\n",
    "forest = RandomForestClassifier(max_depth=14, n_estimators=100, \n",
    "                                n_jobs=-1,\n",
    "                                random_state=1)\n",
    "forest.fit(X_train, y_train)\n",
    "forest_oof_pred = out_of_fold_prediction(forest, \n",
    "                                         X_train[rf_features], y_train, folds)\n",
    "forest_ho_pred = forest.predict_proba(X_holdout[rf_features])[:,1]\n",
    "print('CV: {0}, Holdout: {1}'.format(round(roc_auc_score(y_train, \n",
    "                                                         forest_oof_pred), 4),\n",
    "                                     round(roc_auc_score(y_holdout, \n",
    "                                                         forest_ho_pred), 4)))"
   ]
  },
  {
   "cell_type": "markdown",
   "metadata": {},
   "source": [
    "**Out-of-Fold-прогноз Xgboost. Подбираем глубину деревьев.**"
   ]
  },
  {
   "cell_type": "code",
   "execution_count": 15,
   "metadata": {
    "collapsed": false
   },
   "outputs": [
    {
     "name": "stdout",
     "output_type": "stream",
     "text": [
      "(0.77617322393081678, 2)\n",
      "CPU times: user 12.2 s, sys: 60.9 ms, total: 12.3 s\n",
      "Wall time: 12.4 s\n"
     ]
    },
    {
     "data": {
      "image/png": "[encoded data removed]",
      "text/plain": [
       "<matplotlib.figure.Figure at 0x1187be950>"
      ]
     },
     "metadata": {},
     "output_type": "display_data"
    }
   ],
   "source": [
    "%%time\n",
    "\n",
    "depths = range(1, 13)\n",
    "scores = []\n",
    "\n",
    "for depth in log_progress(depths):\n",
    "    pred = out_of_fold_prediction(XGBClassifier(max_depth=depth,\n",
    "                                               n_estimators=100),\n",
    "                                 X_train[xgb_features], y_train, folds)\n",
    "    scores.append(roc_auc_score(y_train, pred))\n",
    "\n",
    "plot(depths, scores)\n",
    "print(max(scores), depths[np.argmax(scores)])"
   ]
  },
  {
   "cell_type": "markdown",
   "metadata": {},
   "source": [
    "**У Xgboost на CV - 0.7762, на оставленной выборке - 0.7707.**"
   ]
  },
  {
   "cell_type": "code",
   "execution_count": 17,
   "metadata": {
    "collapsed": false
   },
   "outputs": [
    {
     "name": "stdout",
     "output_type": "stream",
     "text": [
      "CV: 0.7762, Holdout: 0.7707\n",
      "CPU times: user 482 ms, sys: 2.46 ms, total: 484 ms\n",
      "Wall time: 484 ms\n"
     ]
    }
   ],
   "source": [
    "%%time\n",
    "xgb = XGBClassifier(max_depth=2, n_estimators=100)\n",
    "xgb.fit(X_train, y_train)\n",
    "xgb_oof_pred = out_of_fold_prediction(xgb,\n",
    "                                 X_train[xgb_features], y_train, folds)\n",
    "xgb_ho_pred = xgb.predict_proba(X_holdout[xgb_features])[:,1]\n",
    "print('CV: {0}, Holdout: {1}'.format(round(roc_auc_score(y_train, \n",
    "                                                         xgb_oof_pred), 4),\n",
    "                                     round(roc_auc_score(y_holdout, \n",
    "                                                         xgb_ho_pred), 4)))"
   ]
  },
  {
   "cell_type": "markdown",
   "metadata": {},
   "source": [
    "### Смешивание Xgboost и RF"
   ]
  },
  {
   "cell_type": "code",
   "execution_count": 18,
   "metadata": {
    "collapsed": true
   },
   "outputs": [],
   "source": [
    "def best_linear_mix(target, pred1, pred2, metric=roc_auc_score):\n",
    "    best_metric, best_w1 = 0, 0\n",
    "    for w1 in np.linspace(0, 1, 20):\n",
    "        curr_pred = (w1 * pred1 + (1 - w1) * pred2)\n",
    "        curr_metric = metric(target, curr_pred)\n",
    "        if curr_metric > best_metric:\n",
    "            best_metric = curr_metric\n",
    "            best_pred = curr_pred\n",
    "            best_w1 = w1\n",
    "    return best_metric, best_pred, best_w1"
   ]
  },
  {
   "cell_type": "code",
   "execution_count": 19,
   "metadata": {
    "collapsed": false
   },
   "outputs": [],
   "source": [
    "best_auc, best_pred, best_w1 = best_linear_mix(y_train, \n",
    "                                        xgb_oof_pred, forest_oof_pred)"
   ]
  },
  {
   "cell_type": "code",
   "execution_count": 21,
   "metadata": {
    "collapsed": false
   },
   "outputs": [
    {
     "data": {
      "text/plain": [
       "(0.8762, 0.58)"
      ]
     },
     "execution_count": 21,
     "metadata": {},
     "output_type": "execute_result"
    }
   ],
   "source": [
    "round(best_auc, 4), round(best_w1, 2)"
   ]
  },
  {
   "cell_type": "code",
   "execution_count": 22,
   "metadata": {
    "collapsed": false
   },
   "outputs": [],
   "source": [
    "xgb_rf_ho_pred = best_w1 * xgb_ho_pred + (1 - best_w1) * forest_ho_pred"
   ]
  },
  {
   "cell_type": "markdown",
   "metadata": {},
   "source": [
    "**У смеси на CV - 0.8762, на оставленной выборке - 0.9053.**"
   ]
  },
  {
   "cell_type": "code",
   "execution_count": 24,
   "metadata": {
    "collapsed": false
   },
   "outputs": [
    {
     "name": "stdout",
     "output_type": "stream",
     "text": [
      "0.9053\n"
     ]
    }
   ],
   "source": [
    "print(round(roc_auc_score(y_holdout, \n",
    "                          best_w1 * xgb_ho_pred + \n",
    "                          (1 - best_w1) * forest_ho_pred), 4))"
   ]
  },
  {
   "cell_type": "markdown",
   "metadata": {},
   "source": [
    "**Есть все основания полагать, что смесь Xgboost и RF сработала лучше, чем алгоритмы по отдельности.**"
   ]
  },
  {
   "cell_type": "markdown",
   "metadata": {
    "collapsed": true
   },
   "source": [
    "         _______________________________________\n",
    "         |  ROC AUC    | Out-of-fold | Holdout |\n",
    "         |_____________|_____________|_________|\n",
    "         | XGBoost     | .7762       | .7707   |\n",
    "         | RF          | .7346       | .7883   |\n",
    "         | XGB + RF    | .8762       | .9053   |\n",
    "         |_____________|_____________|_________|"
   ]
  }
 ],
 "metadata": {
  "kernelspec": {
   "display_name": "Python 2",
   "language": "python",
   "name": "python2"
  },
  "language_info": {
   "codemirror_mode": {
    "name": "ipython",
    "version": 2
   },
   "file_extension": ".py",
   "mimetype": "text/x-python",
   "name": "python",
   "nbconvert_exporter": "python",
   "pygments_lexer": "ipython2",
   "version": "2.7.11"
  }
 },
 "nbformat": 4,
 "nbformat_minor": 0
}
