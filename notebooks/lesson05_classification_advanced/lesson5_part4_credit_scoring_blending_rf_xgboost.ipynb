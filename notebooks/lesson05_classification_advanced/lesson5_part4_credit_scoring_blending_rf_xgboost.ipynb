{
 "cells": [
  {
   "cell_type": "markdown",
   "metadata": {},
   "source": [
    "<center>\n",
    "<img src=\"../../img/ml_theme.png\">\n",
    "# Дополнительное профессиональное <br> образование НИУ ВШЭ\n",
    "#### Программа \"Машинное обучение и майнинг данных\"\n",
    "<img src=\"../../img/faculty_logo.jpg\" height=\"240\" width=\"240\">\n",
    "## Автор материала: преподаватель Факультета Компьютерных Наук НИУ ВШЭ Кашницкий Юрий\n",
    "</center>\n",
    "Материал распространяется на условиях лицензии <a href=\"https://opensource.org/licenses/MS-RL\">Ms-RL</a>. Можно использовать в любых целях, кроме коммерческих, но с обязательным упоминанием автора материала."
   ]
  },
  {
   "cell_type": "markdown",
   "metadata": {},
   "source": [
    "# Занятие 5. Продвинутые методы классификации и регрессии. Переобучение"
   ]
  },
  {
   "cell_type": "markdown",
   "metadata": {},
   "source": [
    "### Часть 4.  Смешивание случайного леса и градиентного бустинга для набора данных по кредитному скорингу."
   ]
  },
  {
   "cell_type": "markdown",
   "metadata": {},
   "source": [
    "[Соревнование](https://inclass.kaggle.com/c/beeline-credit-scoring-competition). Цель - спрогнозировать, что человек просрочит выплаты по кредиту на 3 месяца и более (целевой признак - Delinquent90).\n",
    "\n",
    "Признаки клиентов банка:\n",
    "\n",
    "- Age - возраст (вещественный)\n",
    "- Income - месячный доход (вещественный)\n",
    "- BalanceToCreditLimit - отношение баланса на кредитной карте к лимиту по кредиту (вещественный)\n",
    "- DIR - Debt-to-income Ratio (вещественный)\n",
    "- NumLoans - число заемов и кредитных линий\n",
    "- NumRealEstateLoans - число ипотек и заемов, связанных с недвижимостью (натуральное число)\n",
    "- NumDependents - число членов семьи, которых содержит клиент, исключая самого клиента (натуральное число)\n",
    "- Num30-59Delinquencies - число просрочек выплат по кредиту от 30 до 59 дней (натуральное число)\n",
    "- Num60-89Delinquencies - число просрочек выплат по кредиту от 60 до 89 дней (натуральное число)\n",
    "- Delinquent90 - были ли просрочки выплат по кредиту более 90 дней (бинарный) - имеется только в обучающей выборке"
   ]
  },
  {
   "cell_type": "code",
   "execution_count": 1,
   "metadata": {
    "collapsed": false
   },
   "outputs": [
    {
     "name": "stdout",
     "output_type": "stream",
     "text": [
      "Populating the interactive namespace from numpy and matplotlib\n"
     ]
    }
   ],
   "source": [
    "import warnings\n",
    "warnings.filterwarnings('ignore')\n",
    "import numpy as np\n",
    "import pandas as pd\n",
    "from sklearn.ensemble import RandomForestClassifier\n",
    "from xgboost import XGBClassifier\n",
    "from sklearn.cross_validation import StratifiedKFold, train_test_split\n",
    "from sklearn.metrics import roc_auc_score\n",
    "import sys\n",
    "sys.path.append('../../scripts/')\n",
    "from log_progress import log_progress\n",
    "%pylab inline"
   ]
  },
  {
   "cell_type": "markdown",
   "metadata": {},
   "source": [
    "**Считываем данные.**"
   ]
  },
  {
   "cell_type": "code",
   "execution_count": 2,
   "metadata": {
    "collapsed": false
   },
   "outputs": [],
   "source": [
    "train_df = pd.read_csv('../../data/credit_scoring_train.csv', \n",
    "                       index_col='client_id')\n",
    "test_df = pd.read_csv('../../data/credit_scoring_test.csv', \n",
    "                      index_col='client_id')"
   ]
  },
  {
   "cell_type": "code",
   "execution_count": 3,
   "metadata": {
    "collapsed": true
   },
   "outputs": [],
   "source": [
    "y = train_df['Delinquent90']\n",
    "train_df.drop('Delinquent90', axis=1, inplace=True)"
   ]
  },
  {
   "cell_type": "code",
   "execution_count": 4,
   "metadata": {
    "collapsed": false
   },
   "outputs": [
    {
     "data": {
      "text/html": [
       "<div>\n",
       "<table border=\"1\" class=\"dataframe\">\n",
       "  <thead>\n",
       "    <tr style=\"text-align: right;\">\n",
       "      <th></th>\n",
       "      <th>DIR</th>\n",
       "      <th>Age</th>\n",
       "      <th>NumLoans</th>\n",
       "      <th>NumRealEstateLoans</th>\n",
       "      <th>NumDependents</th>\n",
       "      <th>Num30-59Delinquencies</th>\n",
       "      <th>Num60-89Delinquencies</th>\n",
       "      <th>Income</th>\n",
       "      <th>BalanceToCreditLimit</th>\n",
       "    </tr>\n",
       "    <tr>\n",
       "      <th>client_id</th>\n",
       "      <th></th>\n",
       "      <th></th>\n",
       "      <th></th>\n",
       "      <th></th>\n",
       "      <th></th>\n",
       "      <th></th>\n",
       "      <th></th>\n",
       "      <th></th>\n",
       "      <th></th>\n",
       "    </tr>\n",
       "  </thead>\n",
       "  <tbody>\n",
       "    <tr>\n",
       "      <th>0</th>\n",
       "      <td>0.496289</td>\n",
       "      <td>49.1</td>\n",
       "      <td>13</td>\n",
       "      <td>0</td>\n",
       "      <td>0.0</td>\n",
       "      <td>2</td>\n",
       "      <td>0</td>\n",
       "      <td>5298.360639</td>\n",
       "      <td>0.387028</td>\n",
       "    </tr>\n",
       "    <tr>\n",
       "      <th>1</th>\n",
       "      <td>0.433567</td>\n",
       "      <td>48.0</td>\n",
       "      <td>9</td>\n",
       "      <td>2</td>\n",
       "      <td>2.0</td>\n",
       "      <td>1</td>\n",
       "      <td>0</td>\n",
       "      <td>6008.056256</td>\n",
       "      <td>0.234679</td>\n",
       "    </tr>\n",
       "    <tr>\n",
       "      <th>2</th>\n",
       "      <td>2206.731199</td>\n",
       "      <td>55.5</td>\n",
       "      <td>21</td>\n",
       "      <td>1</td>\n",
       "      <td>NaN</td>\n",
       "      <td>1</td>\n",
       "      <td>0</td>\n",
       "      <td>NaN</td>\n",
       "      <td>0.348227</td>\n",
       "    </tr>\n",
       "    <tr>\n",
       "      <th>3</th>\n",
       "      <td>886.132793</td>\n",
       "      <td>55.3</td>\n",
       "      <td>3</td>\n",
       "      <td>0</td>\n",
       "      <td>0.0</td>\n",
       "      <td>0</td>\n",
       "      <td>0</td>\n",
       "      <td>NaN</td>\n",
       "      <td>0.971930</td>\n",
       "    </tr>\n",
       "    <tr>\n",
       "      <th>4</th>\n",
       "      <td>0.000000</td>\n",
       "      <td>52.3</td>\n",
       "      <td>1</td>\n",
       "      <td>0</td>\n",
       "      <td>0.0</td>\n",
       "      <td>0</td>\n",
       "      <td>0</td>\n",
       "      <td>2504.613105</td>\n",
       "      <td>1.004350</td>\n",
       "    </tr>\n",
       "  </tbody>\n",
       "</table>\n",
       "</div>"
      ],
      "text/plain": [
       "                   DIR   Age  NumLoans  NumRealEstateLoans  NumDependents  \\\n",
       "client_id                                                                   \n",
       "0             0.496289  49.1        13                   0            0.0   \n",
       "1             0.433567  48.0         9                   2            2.0   \n",
       "2          2206.731199  55.5        21                   1            NaN   \n",
       "3           886.132793  55.3         3                   0            0.0   \n",
       "4             0.000000  52.3         1                   0            0.0   \n",
       "\n",
       "           Num30-59Delinquencies  Num60-89Delinquencies       Income  \\\n",
       "client_id                                                              \n",
       "0                              2                      0  5298.360639   \n",
       "1                              1                      0  6008.056256   \n",
       "2                              1                      0          NaN   \n",
       "3                              0                      0          NaN   \n",
       "4                              0                      0  2504.613105   \n",
       "\n",
       "           BalanceToCreditLimit  \n",
       "client_id                        \n",
       "0                      0.387028  \n",
       "1                      0.234679  \n",
       "2                      0.348227  \n",
       "3                      0.971930  \n",
       "4                      1.004350  "
      ]
     },
     "execution_count": 4,
     "metadata": {},
     "output_type": "execute_result"
    }
   ],
   "source": [
    "train_df.head()"
   ]
  },
  {
   "cell_type": "markdown",
   "metadata": {},
   "source": [
    "**Посчитаем, число пропусков в каждом признаке.**"
   ]
  },
  {
   "cell_type": "code",
   "execution_count": 5,
   "metadata": {
    "collapsed": false
   },
   "outputs": [
    {
     "name": "stdout",
     "output_type": "stream",
     "text": [
      "DIR, num. NA's: 0\n",
      "Age, num. NA's: 0\n",
      "NumLoans, num. NA's: 0\n",
      "NumRealEstateLoans, num. NA's: 0\n",
      "NumDependents, num. NA's: 1916\n",
      "Num30-59Delinquencies, num. NA's: 0\n",
      "Num60-89Delinquencies, num. NA's: 0\n",
      "Income, num. NA's: 14847\n",
      "BalanceToCreditLimit, num. NA's: 0\n"
     ]
    }
   ],
   "source": [
    "for col in train_df.columns:\n",
    "    print(\"{0}, num. NA's: {1}\".format(col, pd.isnull(train_df[col]).sum()))"
   ]
  },
  {
   "cell_type": "code",
   "execution_count": 6,
   "metadata": {
    "collapsed": false
   },
   "outputs": [
    {
     "name": "stdout",
     "output_type": "stream",
     "text": [
      "DIR, num. NA's: 0\n",
      "Age, num. NA's: 0\n",
      "NumLoans, num. NA's: 0\n",
      "NumRealEstateLoans, num. NA's: 0\n",
      "NumDependents, num. NA's: 2008\n",
      "Num30-59Delinquencies, num. NA's: 0\n",
      "Num60-89Delinquencies, num. NA's: 0\n",
      "Income, num. NA's: 14884\n",
      "BalanceToCreditLimit, num. NA's: 0\n"
     ]
    }
   ],
   "source": [
    "for col in test_df.columns:\n",
    "    print(\"{0}, num. NA's: {1}\".format(col, pd.isnull(test_df[col]).sum()))"
   ]
  },
  {
   "cell_type": "markdown",
   "metadata": {},
   "source": [
    "**Заменим пропуски медианными значениями.**"
   ]
  },
  {
   "cell_type": "code",
   "execution_count": 7,
   "metadata": {
    "collapsed": true
   },
   "outputs": [],
   "source": [
    "train_df['NumDependents'].fillna(train_df['NumDependents'].median(), inplace=True)\n",
    "train_df['Income'].fillna(train_df['Income'].median(), inplace=True)\n",
    "test_df['NumDependents'].fillna(test_df['NumDependents'].median(), inplace=True)\n",
    "test_df['Income'].fillna(test_df['Income'].median(), inplace=True)"
   ]
  },
  {
   "cell_type": "markdown",
   "metadata": {},
   "source": [
    "### Построение признаков"
   ]
  },
  {
   "cell_type": "markdown",
   "metadata": {},
   "source": [
    "**Теперь будем создавать новые признаки. Для них заведем копию обучающей выборки. Xgboost будем обучать на исходных данных, случайный лес - на новых.**"
   ]
  },
  {
   "cell_type": "code",
   "execution_count": 8,
   "metadata": {
    "collapsed": true
   },
   "outputs": [],
   "source": [
    "train_df_fe, test_df_fe = train_df.copy(), test_df.copy()"
   ]
  },
  {
   "cell_type": "markdown",
   "metadata": {},
   "source": [
    "**Запомним индексы и объединим выборки, чтоб упростить построение признаков.**"
   ]
  },
  {
   "cell_type": "code",
   "execution_count": 9,
   "metadata": {
    "collapsed": true
   },
   "outputs": [],
   "source": [
    "train_df_fe_idx, test_df_fe_idx = train_df_fe.index, test_df_fe.index\n",
    "train_test = pd.concat([train_df_fe, test_df_fe])"
   ]
  },
  {
   "cell_type": "code",
   "execution_count": 10,
   "metadata": {
    "collapsed": false
   },
   "outputs": [],
   "source": [
    "train_test['UnknownNumDependents'] = pd.isnull(train_test['NumDependents']).\\\n",
    "                                                                astype('int')\n",
    "train_test['NoDependents'] = (train_test['NumDependents'] == 0).astype('int')\n",
    "train_test['NumDependents'].fillna(0, inplace=True)\n",
    "\n",
    "train_test['UnknownIncome'] = pd.isnull(train_test['Income']).astype('int')\n",
    "train_test['ZeroIncome'] = (train_test['Income'] == 0).astype('int')\n",
    "train_test['Income'].fillna(0, inplace=True)\n",
    "\n",
    "train_test['ZeroBalanceToCreditLimit'] = (train_test['BalanceToCreditLimit'] \n",
    "                                          == 0).astype('int')\n",
    "\n",
    "train_test['OutBalanceToCreditLimit'] = (train_test['BalanceToCreditLimit'] >\n",
    "                                         train_test['BalanceToCreditLimit'].\\\n",
    "                                         quantile(0.99)).astype('int')\n",
    "    \n",
    "train_test['NumRevolvingLoans'] =  train_test['NumLoans'] - \\\n",
    "                                    train_test['NumRealEstateLoans']\n",
    "train_test['HasRevolvingLoans'] = (train_test['NumRevolvingLoans'] \n",
    "                                   > 0).astype('int')\n",
    "train_test['HasRealEstateLoans'] = (train_test['NumRealEstateLoans'] \n",
    "                                    > 0).astype('int')\n",
    "train_test['ManyRealEstateLoans'] = (train_test['NumRealEstateLoans'] \n",
    "                                     > 2).astype('int')\n",
    "train_test['RevTORealEstateLoans'] = train_test['NumRevolvingLoans'] \\\n",
    "                                    / (1 + train_test['NumRealEstateLoans'])\n",
    "\n",
    "train_test['DIRover33'] = (train_test['DIR'] > 0.33).astype('int')\n",
    "train_test['DIRover43'] = (train_test['DIR'] > 0.43).astype('int')\n",
    "\n",
    "                           \n",
    "train_test['Zero30-59Delinquencies'] = (train_test['Num30-59Delinquencies']\n",
    "                                       == 0).astype('int')\n",
    "train_test['Zero60-89Delinquencies'] = (train_test['Num60-89Delinquencies']\n",
    "                                       == 0).astype('int')                           \n",
    "train_test['Many30-59Delinquencies'] = (train_test['Num30-59Delinquencies']\n",
    "                                       > 90).astype('int')\n",
    "train_test['Many60-89Delinquencies'] = (train_test['Num60-89Delinquencies']\n",
    "                                       > 90).astype('int')                         \n",
    "train_test['NumDelinquencies'] = train_test['Num30-59Delinquencies'] +\\\n",
    "                                        train_test['Num60-89Delinquencies']\n",
    "train_test['ZeroDelinquencies'] = (train_test['NumDelinquencies']\n",
    "                                       == 0).astype('int')\n",
    "                                        \n",
    "train_test['Old_client'] = (train_test['Age']\n",
    "                                       > 60).astype('int')\n",
    "train_test['Young_client'] = (train_test['Age']\n",
    "                                       < 18).astype('int')\n",
    "train_test['IncomPerPerson'] = train_test['Income'] / (1 + \n",
    "                                        train_test['NumDependents'])"
   ]
  },
  {
   "cell_type": "code",
   "execution_count": 11,
   "metadata": {
    "collapsed": false
   },
   "outputs": [],
   "source": [
    "train_df_fe = train_test.ix[train_df_fe_idx, :]\n",
    "test_df_fe = train_test.ix[test_df_fe_idx, :]"
   ]
  },
  {
   "cell_type": "markdown",
   "metadata": {},
   "source": [
    "**Отделим 30% данных, чтоб в конце проверять настроенные модели.**"
   ]
  },
  {
   "cell_type": "code",
   "execution_count": 12,
   "metadata": {
    "collapsed": false
   },
   "outputs": [],
   "source": [
    "X_train_fe, X_holdout_fe, X_train, X_holdout, y_train, y_holdout = \\\n",
    "                                train_test_split(train_df_fe, train_df, \n",
    "                                                 y, test_size=0.3,\n",
    "                                                 random_state=42)"
   ]
  },
  {
   "cell_type": "markdown",
   "metadata": {},
   "source": [
    "### Кросс-валидация"
   ]
  },
  {
   "cell_type": "code",
   "execution_count": 13,
   "metadata": {
    "collapsed": true
   },
   "outputs": [],
   "source": [
    "def out_of_fold_prediction(clf, train_df, y_series, folds, scale=False):\n",
    "    \n",
    "    prediction = y_series.copy()\n",
    "    for train_idx, test_idx in folds:\n",
    "        X_train, X_test = train_df.iloc[train_idx, :], train_df.iloc[test_idx,:]\n",
    "        y_train, y_test = y_series.iloc[train_idx], y_series.iloc[test_idx]\n",
    "        \n",
    "        if scale:\n",
    "            scaler = StandardScaler()\n",
    "            X_train = scaler.fit_transform(X_train)\n",
    "            X_test = scaler.transform(X_test)\n",
    "        \n",
    "        clf.fit(X_train, y_train)\n",
    "        \n",
    "        prediction.iloc[test_idx] = clf.predict_proba(X_test)[:, 1]\n",
    "        \n",
    "    return(prediction)"
   ]
  },
  {
   "cell_type": "code",
   "execution_count": 14,
   "metadata": {
    "collapsed": false
   },
   "outputs": [],
   "source": [
    "folds = StratifiedKFold(y_train, n_folds=5, random_state=42)"
   ]
  },
  {
   "cell_type": "markdown",
   "metadata": {},
   "source": [
    "**Out-of-Fold-прогноз RF на наборе данных с новыми признаками. Подбираем глубину деревьев.**"
   ]
  },
  {
   "cell_type": "code",
   "execution_count": 15,
   "metadata": {
    "collapsed": false
   },
   "outputs": [
    {
     "name": "stdout",
     "output_type": "stream",
     "text": [
      "(0.84658631019294606, 10)\n",
      "CPU times: user 3min 34s, sys: 3.79 s, total: 3min 38s\n",
      "Wall time: 1min 18s\n"
     ]
    },
    {
     "data": {
      "image/png": "[encoded data removed]",
      "text/plain": [
       "<matplotlib.figure.Figure at 0x103862390>"
      ]
     },
     "metadata": {},
     "output_type": "display_data"
    }
   ],
   "source": [
    "%%time\n",
    "depths = range(8, 13)\n",
    "scores = []\n",
    "\n",
    "for depth in log_progress(depths):\n",
    "    pred = out_of_fold_prediction(RandomForestClassifier(max_depth=depth,\n",
    "                                                         n_estimators=100,\n",
    "                                                        n_jobs=-1,\n",
    "                                                        random_state=1),\n",
    "                                 X_train_fe, y_train, folds)\n",
    "    scores.append(roc_auc_score(y_train, pred))\n",
    "\n",
    "plot(depths, scores)\n",
    "print(max(scores), depths[np.argmax(scores)])"
   ]
  },
  {
   "cell_type": "markdown",
   "metadata": {},
   "source": [
    "**У RandomForest на CV - 0.84659, на оставленной выборке - 0.84039.**"
   ]
  },
  {
   "cell_type": "code",
   "execution_count": 16,
   "metadata": {
    "collapsed": false
   },
   "outputs": [
    {
     "name": "stdout",
     "output_type": "stream",
     "text": [
      "0.84038795659\n",
      "CPU times: user 4min 23s, sys: 3.57 s, total: 4min 27s\n",
      "Wall time: 1min 25s\n"
     ]
    }
   ],
   "source": [
    "%%time\n",
    "forest = RandomForestClassifier(max_depth=10, n_estimators=500, \n",
    "                                n_jobs=-1,\n",
    "                                random_state=1)\n",
    "forest.fit(X_train_fe, y_train)\n",
    "forest_oof_pred = out_of_fold_prediction(forest, \n",
    "                                         X_train_fe, y_train, folds)\n",
    "forest_ho_pred = forest.predict_proba(X_holdout_fe)[:,1]\n",
    "print(roc_auc_score(y_holdout, forest_ho_pred))"
   ]
  },
  {
   "cell_type": "markdown",
   "metadata": {},
   "source": [
    "**Out-of-Fold-прогноз Xgboost с исходными признаками. Подбираем глубину деревьев. (Можно было еще настраивать learning_rate).**"
   ]
  },
  {
   "cell_type": "code",
   "execution_count": 17,
   "metadata": {
    "collapsed": false
   },
   "outputs": [
    {
     "name": "stdout",
     "output_type": "stream",
     "text": [
      "(0.84770010517114269, 3)\n",
      "CPU times: user 1min 19s, sys: 587 ms, total: 1min 20s\n",
      "Wall time: 1min 21s\n"
     ]
    },
    {
     "data": {
      "image/png": "[encoded data removed]",
      "text/plain": [
       "<matplotlib.figure.Figure at 0x118b83cd0>"
      ]
     },
     "metadata": {},
     "output_type": "display_data"
    }
   ],
   "source": [
    "%%time\n",
    "\n",
    "depths = range(2, 6)\n",
    "scores = []\n",
    "\n",
    "for depth in log_progress(depths):\n",
    "    pred = out_of_fold_prediction(XGBClassifier(max_depth=depth,\n",
    "                                               n_estimators=150),\n",
    "                                 X_train, y_train, folds)\n",
    "    scores.append(roc_auc_score(y_train, pred))\n",
    "\n",
    "plot(depths, scores)\n",
    "print(max(scores), depths[np.argmax(scores)])"
   ]
  },
  {
   "cell_type": "markdown",
   "metadata": {},
   "source": [
    "**У Xgboost на CV - 0.8477, на оставленной выборке - 0.84203.**"
   ]
  },
  {
   "cell_type": "code",
   "execution_count": 18,
   "metadata": {
    "collapsed": false
   },
   "outputs": [
    {
     "name": "stdout",
     "output_type": "stream",
     "text": [
      "0.842033036971\n",
      "CPU times: user 22.6 s, sys: 222 ms, total: 22.8 s\n",
      "Wall time: 23.1 s\n"
     ]
    }
   ],
   "source": [
    "%%time\n",
    "xgb = XGBClassifier(max_depth=3, n_estimators=150)\n",
    "xgb.fit(X_train, y_train)\n",
    "xgb_oof_pred = out_of_fold_prediction(xgb,\n",
    "                                 X_train, y_train, folds)\n",
    "xgb_ho_pred = xgb.predict_proba(X_holdout)[:,1]\n",
    "print(roc_auc_score(y_holdout, xgb_ho_pred))"
   ]
  },
  {
   "cell_type": "markdown",
   "metadata": {},
   "source": [
    "### Смешивание Xgboost и RF"
   ]
  },
  {
   "cell_type": "code",
   "execution_count": 19,
   "metadata": {
    "collapsed": true
   },
   "outputs": [],
   "source": [
    "def best_linear_mix(target, pred1, pred2):\n",
    "    best_auc, best_w1 = 0, 0\n",
    "    for w1 in np.linspace(0, 1, 20):\n",
    "        curr_pred = w1 * pred1 + (1 - w1) * pred2\n",
    "        curr_auc = roc_auc_score(target, curr_pred)\n",
    "        if curr_auc > best_auc:\n",
    "            best_auc = curr_auc\n",
    "            best_pred = curr_pred\n",
    "            best_w1 = w1\n",
    "    return best_auc, best_pred, best_w1"
   ]
  },
  {
   "cell_type": "code",
   "execution_count": 20,
   "metadata": {
    "collapsed": false
   },
   "outputs": [],
   "source": [
    "best_auc, best_pred, best_w1 = best_linear_mix(y_train, \n",
    "                                        xgb_oof_pred, forest_oof_pred)"
   ]
  },
  {
   "cell_type": "code",
   "execution_count": 21,
   "metadata": {
    "collapsed": false
   },
   "outputs": [
    {
     "data": {
      "text/plain": [
       "(0.84926020257836921, 0.57894736842105265)"
      ]
     },
     "execution_count": 21,
     "metadata": {},
     "output_type": "execute_result"
    }
   ],
   "source": [
    "best_auc, best_w1"
   ]
  },
  {
   "cell_type": "code",
   "execution_count": 22,
   "metadata": {
    "collapsed": false
   },
   "outputs": [],
   "source": [
    "xgb_rf_ho_pred = best_w1 * xgb_ho_pred + (1 - best_w1) * forest_ho_pred"
   ]
  },
  {
   "cell_type": "markdown",
   "metadata": {},
   "source": [
    "**У смеси на CV - 0.84926, на оставленной выборке - 0.84352.**"
   ]
  },
  {
   "cell_type": "code",
   "execution_count": 23,
   "metadata": {
    "collapsed": false
   },
   "outputs": [
    {
     "name": "stdout",
     "output_type": "stream",
     "text": [
      "0.843517749205\n"
     ]
    }
   ],
   "source": [
    "print(roc_auc_score(y_holdout, xgb_rf_ho_pred))"
   ]
  },
  {
   "cell_type": "markdown",
   "metadata": {},
   "source": [
    "### Прогноз для тестовой выборки"
   ]
  },
  {
   "cell_type": "code",
   "execution_count": 24,
   "metadata": {
    "collapsed": false
   },
   "outputs": [
    {
     "name": "stdout",
     "output_type": "stream",
     "text": [
      "CPU times: user 1min 28s, sys: 2.86 s, total: 1min 31s\n",
      "Wall time: 28.4 s\n"
     ]
    }
   ],
   "source": [
    "%%time\n",
    "forest = RandomForestClassifier(max_depth=10, n_estimators=500, \n",
    "                                n_jobs=-1,\n",
    "                                random_state=1)\n",
    "forest.fit(train_df_fe, y)\n",
    "rf_pred = forest.predict_proba(test_df_fe)[:,1]"
   ]
  },
  {
   "cell_type": "code",
   "execution_count": 25,
   "metadata": {
    "collapsed": false
   },
   "outputs": [
    {
     "name": "stdout",
     "output_type": "stream",
     "text": [
      "CPU times: user 6.8 s, sys: 96.7 ms, total: 6.89 s\n",
      "Wall time: 7.03 s\n"
     ]
    }
   ],
   "source": [
    "%%time\n",
    "xgb = XGBClassifier(max_depth=3, n_estimators=150)\n",
    "xgb.fit(train_df, y)\n",
    "xgb_pred = xgb.predict_proba(test_df)[:,1]"
   ]
  },
  {
   "cell_type": "code",
   "execution_count": 26,
   "metadata": {
    "collapsed": false
   },
   "outputs": [],
   "source": [
    "final_pred = 0.5789 * xgb_pred + (1 - 0.5789) * rf_pred"
   ]
  },
  {
   "cell_type": "markdown",
   "metadata": {},
   "source": [
    "**Запишем прогнозы в файл.**"
   ]
  },
  {
   "cell_type": "code",
   "execution_count": 27,
   "metadata": {
    "collapsed": true
   },
   "outputs": [],
   "source": [
    "def write_to_submission_file(predicted_labels, out_file,\n",
    "                             target='Delinquent90', index_label=\"client_id\"):\n",
    "    # turn predictions into data frame and save as csv file\n",
    "    predicted_df = pd.DataFrame(predicted_labels,\n",
    "                                index = np.arange(75000, \n",
    "                                predicted_labels.shape[0] + 75000),\n",
    "                                columns=[target])\n",
    "    predicted_df.to_csv(out_file, index_label=index_label)"
   ]
  },
  {
   "cell_type": "code",
   "execution_count": 28,
   "metadata": {
    "collapsed": false
   },
   "outputs": [],
   "source": [
    "write_to_submission_file(xgb_pred, \n",
    "                '../../output/credit_scoring_xgb_pred.csv') # LB .854 \n",
    "write_to_submission_file(rf_pred, \n",
    "                '../../output/credit_scoring_rf_pred.csv') # LB .85145\n",
    "write_to_submission_file(final_pred, \n",
    "                '../../output/credit_scoring_xgb_rf_mix.csv') # LB .85457"
   ]
  },
  {
   "cell_type": "markdown",
   "metadata": {},
   "source": [
    "**Есть все основания полагать, что смесь Xgboost и RF сработала лучше, чем алгоритмы по отдельности.**"
   ]
  },
  {
   "cell_type": "markdown",
   "metadata": {},
   "source": [
    "         ________________________________________________\n",
    "         |  ROC AUC    | Out-of-fold | Holdout |   LB   |\n",
    "         |_____________|_____________|_________|________|\n",
    "         | XGBoost     | .8477       | .84203  | .854   |\n",
    "         | RF          | .84659      | .84039  | .85145 |\n",
    "         | XGB + RF    | .84926      | .84352  | .85457 |\n",
    "         |_____________|_____________|_________|________|"
   ]
  }
 ],
 "metadata": {
  "kernelspec": {
   "display_name": "Python [default]",
   "language": "python",
   "name": "python2"
  },
  "language_info": {
   "codemirror_mode": {
    "name": "ipython",
    "version": 2
   },
   "file_extension": ".py",
   "mimetype": "text/x-python",
   "name": "python",
   "nbconvert_exporter": "python",
   "pygments_lexer": "ipython2",
   "version": "2.7.12"
  }
 },
 "nbformat": 4,
 "nbformat_minor": 0
}
