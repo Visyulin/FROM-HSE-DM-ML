{
 "cells": [
  {
   "cell_type": "markdown",
   "metadata": {},
   "source": [
    "<center>\n",
    "<img src=\"../../img/ml_theme.png\">\n",
    "# Дополнительное профессиональное <br> образование НИУ ВШЭ\n",
    "#### Программа \"Машинное обучение и майнинг данных\"\n",
    "<img src=\"../../img/faculty_logo.jpg\" height=\"240\" width=\"240\">\n",
    "## Автор материала: преподаватель Факультета Компьютерных Наук НИУ ВШЭ Кашницкий Юрий\n",
    "</center>\n",
    "Материал распространяется на условиях лицензии <a href=\"https://opensource.org/licenses/MS-RL\">Ms-RL</a>. Можно использовать в любых целях, кроме коммерческих, но с обязательным упоминанием автора материала."
   ]
  },
  {
   "cell_type": "markdown",
   "metadata": {},
   "source": [
    "# Занятие 5. Продвинутые методы классификации и регрессии"
   ]
  },
  {
   "cell_type": "markdown",
   "metadata": {},
   "source": [
    "## Часть 1. Библиотека Xgboost"
   ]
  },
  {
   "cell_type": "markdown",
   "metadata": {},
   "source": [
    "[Введение](https://xgboost.readthedocs.io/en/latest/model.html) в бустинг деревьев решений. [Параметры](https://github.com/dmlc/xgboost/blob/master/doc/parameter.md) Xgboost."
   ]
  },
  {
   "cell_type": "code",
   "execution_count": 1,
   "metadata": {
    "collapsed": true
   },
   "outputs": [],
   "source": [
    "import pickle\n",
    "import xgboost as xgb\n",
    "\n",
    "import numpy as np\n",
    "from sklearn.cross_validation import KFold, train_test_split\n",
    "from sklearn.metrics import confusion_matrix, mean_squared_error\n",
    "from sklearn.grid_search import GridSearchCV\n",
    "from sklearn.datasets import load_iris, load_digits, load_boston"
   ]
  },
  {
   "cell_type": "markdown",
   "metadata": {},
   "source": [
    "**Пример классификации на данных Iris**"
   ]
  },
  {
   "cell_type": "code",
   "execution_count": 2,
   "metadata": {
    "collapsed": false
   },
   "outputs": [
    {
     "name": "stdout",
     "output_type": "stream",
     "text": [
      "[[ 9  0  0]\n",
      " [ 0  8  0]\n",
      " [ 0  2 11]]\n",
      "[[10  0  0]\n",
      " [ 0  9  1]\n",
      " [ 0  1  9]]\n",
      "[[9 0 0]\n",
      " [0 9 1]\n",
      " [0 2 9]]\n",
      "[[12  0  0]\n",
      " [ 0 10  1]\n",
      " [ 0  0  7]]\n",
      "[[10  0  0]\n",
      " [ 0 11  0]\n",
      " [ 0  0  9]]\n"
     ]
    }
   ],
   "source": [
    "iris = load_iris()\n",
    "X = iris['data']\n",
    "y = iris['target']\n",
    "kf = KFold(y.shape[0], n_folds=5, shuffle=True, random_state=13)\n",
    "for train_index, test_index in kf:\n",
    "    xgb_model = xgb.XGBClassifier().fit(X[train_index], y[train_index])\n",
    "    predictions = xgb_model.predict(X[test_index])\n",
    "    actuals = y[test_index]\n",
    "    print(confusion_matrix(actuals, predictions))"
   ]
  },
  {
   "cell_type": "markdown",
   "metadata": {},
   "source": [
    "**Пример восстановления регрессии на данных boston**"
   ]
  },
  {
   "cell_type": "code",
   "execution_count": 3,
   "metadata": {
    "collapsed": false
   },
   "outputs": [
    {
     "name": "stdout",
     "output_type": "stream",
     "text": [
      "8.09713971121\n",
      "8.92640829762\n",
      "18.2997739166\n",
      "6.73819019067\n",
      "8.47392738812\n"
     ]
    }
   ],
   "source": [
    "boston = load_boston()\n",
    "y = boston['target']\n",
    "X = boston['data']\n",
    "kf = KFold(y.shape[0], n_folds=5, shuffle=True, random_state=17)\n",
    "for train_index, test_index in kf:\n",
    "    xgb_model = xgb.XGBRegressor().fit(X[train_index],y[train_index])\n",
    "    predictions = xgb_model.predict(X[test_index])\n",
    "    actuals = y[test_index]\n",
    "    print(mean_squared_error(actuals, predictions))"
   ]
  },
  {
   "cell_type": "markdown",
   "metadata": {},
   "source": [
    "**Простой пример подбора параметров с GridSearchCV.**"
   ]
  },
  {
   "cell_type": "code",
   "execution_count": 4,
   "metadata": {
    "collapsed": false
   },
   "outputs": [
    {
     "name": "stdout",
     "output_type": "stream",
     "text": [
      "Fitting 3 folds for each of 9 candidates, totalling 27 fits\n",
      "0.598487920717\n",
      "{'n_estimators': 100, 'max_depth': 4}\n"
     ]
    },
    {
     "name": "stderr",
     "output_type": "stream",
     "text": [
      "[Parallel(n_jobs=1)]: Done  27 out of  27 | elapsed:    1.3s finished\n"
     ]
    }
   ],
   "source": [
    "X = boston['data']\n",
    "y = boston['target']\n",
    "\n",
    "xgb_model = xgb.XGBRegressor()\n",
    "clf = GridSearchCV(xgb_model,\n",
    "                   {'max_depth': [2,4,6],\n",
    "                    'n_estimators': [50,100,200]}, verbose=1)\n",
    "clf.fit(X,y)\n",
    "print(clf.best_score_)\n",
    "print(clf.best_params_)"
   ]
  },
  {
   "cell_type": "markdown",
   "metadata": {},
   "source": [
    "**Пример использования pickle для сохранения обученных моделей**"
   ]
  },
  {
   "cell_type": "code",
   "execution_count": 5,
   "metadata": {
    "collapsed": false
   },
   "outputs": [
    {
     "name": "stdout",
     "output_type": "stream",
     "text": [
      "True\n"
     ]
    }
   ],
   "source": [
    "# must open in binary format to pickle\n",
    "pickle.dump(clf, open(\"../../output/best_boston.pkl\", \"wb\"))\n",
    "clf2 = pickle.load(open(\"../../output/best_boston.pkl\", \"rb\"))\n",
    "print(np.allclose(clf.predict(X), clf2.predict(X)))"
   ]
  },
  {
   "cell_type": "markdown",
   "metadata": {},
   "source": [
    "**Ранняя остановка**"
   ]
  },
  {
   "cell_type": "code",
   "execution_count": 6,
   "metadata": {
    "collapsed": false
   },
   "outputs": [
    {
     "name": "stderr",
     "output_type": "stream",
     "text": [
      "Will train until validation_0 error hasn't decreased in 10 rounds.\n",
      "[0]\tvalidation_0-merror:0.168889\n",
      "[1]\tvalidation_0-merror:0.162222\n",
      "[2]\tvalidation_0-merror:0.151111\n",
      "[3]\tvalidation_0-merror:0.142222\n",
      "[4]\tvalidation_0-merror:0.131111\n",
      "[5]\tvalidation_0-merror:0.128889\n",
      "[6]\tvalidation_0-merror:0.124444\n",
      "[7]\tvalidation_0-merror:0.111111\n",
      "[8]\tvalidation_0-merror:0.113333\n",
      "[9]\tvalidation_0-merror:0.111111\n",
      "[10]\tvalidation_0-merror:0.111111\n",
      "[11]\tvalidation_0-merror:0.111111\n",
      "[12]\tvalidation_0-merror:0.106667\n",
      "[13]\tvalidation_0-merror:0.113333\n",
      "[14]\tvalidation_0-merror:0.108889\n",
      "[15]\tvalidation_0-merror:0.104444\n",
      "[16]\tvalidation_0-merror:0.102222\n",
      "[17]\tvalidation_0-merror:0.102222\n",
      "[18]\tvalidation_0-merror:0.102222\n",
      "[19]\tvalidation_0-merror:0.104444\n",
      "[20]\tvalidation_0-merror:0.104444\n",
      "[21]\tvalidation_0-merror:0.100000\n",
      "[22]\tvalidation_0-merror:0.093333\n",
      "[23]\tvalidation_0-merror:0.086667\n",
      "[24]\tvalidation_0-merror:0.086667\n",
      "[25]\tvalidation_0-merror:0.084444\n",
      "[26]\tvalidation_0-merror:0.088889\n",
      "[27]\tvalidation_0-merror:0.086667\n",
      "[28]\tvalidation_0-merror:0.086667\n",
      "[29]\tvalidation_0-merror:0.084444\n",
      "[30]\tvalidation_0-merror:0.082222\n",
      "[31]\tvalidation_0-merror:0.082222\n",
      "[32]\tvalidation_0-merror:0.080000\n",
      "[33]\tvalidation_0-merror:0.082222\n",
      "[34]\tvalidation_0-merror:0.080000\n",
      "[35]\tvalidation_0-merror:0.077778\n",
      "[36]\tvalidation_0-merror:0.077778\n",
      "[37]\tvalidation_0-merror:0.071111\n",
      "[38]\tvalidation_0-merror:0.071111\n",
      "[39]\tvalidation_0-merror:0.071111\n",
      "[40]\tvalidation_0-merror:0.068889\n",
      "[41]\tvalidation_0-merror:0.068889\n",
      "[42]\tvalidation_0-merror:0.071111\n",
      "[43]\tvalidation_0-merror:0.068889\n",
      "[44]\tvalidation_0-merror:0.068889\n",
      "[45]\tvalidation_0-merror:0.071111\n",
      "[46]\tvalidation_0-merror:0.071111\n",
      "[47]\tvalidation_0-merror:0.071111\n",
      "[48]\tvalidation_0-merror:0.068889\n",
      "[49]\tvalidation_0-merror:0.068889\n",
      "[50]\tvalidation_0-merror:0.066667\n",
      "[51]\tvalidation_0-merror:0.066667\n",
      "[52]\tvalidation_0-merror:0.064444\n",
      "[53]\tvalidation_0-merror:0.062222\n",
      "[54]\tvalidation_0-merror:0.062222\n",
      "[55]\tvalidation_0-merror:0.062222\n",
      "[56]\tvalidation_0-merror:0.066667\n",
      "[57]\tvalidation_0-merror:0.062222\n",
      "[58]\tvalidation_0-merror:0.060000\n",
      "[59]\tvalidation_0-merror:0.062222\n",
      "[60]\tvalidation_0-merror:0.060000\n",
      "[61]\tvalidation_0-merror:0.062222\n",
      "[62]\tvalidation_0-merror:0.060000\n",
      "[63]\tvalidation_0-merror:0.060000\n",
      "[64]\tvalidation_0-merror:0.060000\n",
      "[65]\tvalidation_0-merror:0.060000\n",
      "[66]\tvalidation_0-merror:0.060000\n",
      "[67]\tvalidation_0-merror:0.060000\n",
      "[68]\tvalidation_0-merror:0.060000\n",
      "Stopping. Best iteration:\n",
      "[58]\tvalidation_0-merror:0.060000\n",
      "\n"
     ]
    },
    {
     "data": {
      "text/plain": [
       "XGBClassifier(base_score=0.5, colsample_bylevel=1, colsample_bytree=1,\n",
       "       gamma=0, learning_rate=0.1, max_delta_step=0, max_depth=3,\n",
       "       min_child_weight=1, missing=None, n_estimators=100, nthread=-1,\n",
       "       objective='multi:softprob', reg_alpha=0, reg_lambda=1,\n",
       "       scale_pos_weight=1, seed=0, silent=True, subsample=1)"
      ]
     },
     "execution_count": 6,
     "metadata": {},
     "output_type": "execute_result"
    }
   ],
   "source": [
    "digits = load_digits()\n",
    "\n",
    "X = digits['data']\n",
    "y = digits['target']\n",
    "X_train, X_test, y_train, y_test = train_test_split(X, y, random_state=0)\n",
    "clf = xgb.XGBClassifier()\n",
    "clf.fit(X_train, y_train, early_stopping_rounds=10, eval_metric=\"merror\",\n",
    "        eval_set=[(X_test, y_test)])"
   ]
  },
  {
   "cell_type": "markdown",
   "metadata": {},
   "source": [
    "## Xgboost в соревновании Kaggle Forest Cover Type Prediction"
   ]
  },
  {
   "cell_type": "markdown",
   "metadata": {},
   "source": [
    "[Соревнование](https://www.kaggle.com/c/forest-cover-type-prediction). \n",
    "Задача учебная. Предлагается предсказывать тип лесного покрытия на участках 30х30 метров Национального заповедника Рузвельта в Колорадо.\n",
    "\n",
    "Признаки (подробней на [странице](https://www.kaggle.com/c/forest-cover-type-prediction/data) соревнования):"
   ]
  },
  {
   "cell_type": "markdown",
   "metadata": {},
   "source": [
    "- Elevation (высота) - Elevation in meters\n",
    "- Aspect - Aspect in degrees azimuth\n",
    "- Slope (наклон) - Slope in degrees\n",
    "- Horizontal_Distance_To_Hydrology (горизонтальное расстояние до воды) - Horz Dist to nearest surface water features\n",
    "- Vertical_Distance_To_Hydrology (вертикальное расстояние до воды) - Vert Dist to nearest surface water features\n",
    "- Horizontal_Distance_To_Roadways (горизонтальное расстояние до дорог) - Horz Dist to nearest roadway\n",
    "- Hillshade_9am (0 to 255 index) - Hillshade index at 9am, summer solstice\n",
    "- Hillshade_Noon (0 to 255 index) - Hillshade index at noon, summer solstice\n",
    "- Hillshade_3pm (0 to 255 index) - Hillshade index at 3pm, summer solstice \n",
    "- Horizontal_Distance_To_Fire_Points (горизонтальное расстояние до центров воспламенения) - Horz Dist to nearest wildfire ignition points \n",
    "- Wilderness_Area (4 binary columns, 0 = absence or 1 = presence) - Wilderness area designation\n",
    "- Soil_Type (тип почвы) - (40 binary columns, 0 = absence or 1 = presence) - Soil Type designation\n",
    "Cover_Type (7 types, integers 1 to 7) - Forest Cover Type designation"
   ]
  },
  {
   "cell_type": "markdown",
   "metadata": {},
   "source": [
    "**Подключаем библиотеки и загружаем данные. Используем [log_progress](https://github.com/alexanderkuk/log-progress) для отслеживания итераций в циклах.**"
   ]
  },
  {
   "cell_type": "code",
   "execution_count": 41,
   "metadata": {
    "collapsed": false
   },
   "outputs": [
    {
     "name": "stdout",
     "output_type": "stream",
     "text": [
      "Populating the interactive namespace from numpy and matplotlib\n"
     ]
    },
    {
     "name": "stderr",
     "output_type": "stream",
     "text": [
      "WARNING: pylab import has clobbered these variables: ['test', 'fmin']\n",
      "`%matplotlib` prevents importing * from pylab and numpy\n"
     ]
    }
   ],
   "source": [
    "from __future__ import division, print_function\n",
    "# отключим всякие предупреждения Anaconda\n",
    "import warnings\n",
    "warnings.filterwarnings('ignore')\n",
    "import pandas as pd\n",
    "import xgboost as xgb\n",
    "from sklearn.cross_validation import StratifiedKFold, train_test_split\n",
    "from sklearn.ensemble import RandomForestClassifier\n",
    "from sklearn.metrics import accuracy_score, confusion_matrix\n",
    "from sklearn.grid_search import GridSearchCV\n",
    "%pylab inline\n",
    "import matplotlib.pyplot as plt\n",
    "import numpy as np\n",
    "import sys\n",
    "sys.path.append('../../scripts/')\n",
    "from log_progress import log_progress\n",
    "from hyperopt import hp\n",
    "from hyperopt import fmin, tpe, hp, STATUS_OK, Trials"
   ]
  },
  {
   "cell_type": "code",
   "execution_count": 68,
   "metadata": {
    "collapsed": false
   },
   "outputs": [],
   "source": [
    "train_df = pd.read_csv('../../data/forest_train.csv')\n",
    "test_df = pd.read_csv('../../data/forest_test.csv')"
   ]
  },
  {
   "cell_type": "code",
   "execution_count": 34,
   "metadata": {
    "collapsed": true
   },
   "outputs": [],
   "source": [
    "def write_to_submission_file(predicted_labels, out_file,\n",
    "                             target='Cover_Type', index_label=\"Id\", init_index=15121):\n",
    "    # turn predictions into data frame and save as csv file\n",
    "    predicted_df = pd.DataFrame(predicted_labels,\n",
    "                                index = np.arange(init_index, \n",
    "                                                  predicted_labels.shape[0] + init_index),\n",
    "                                columns=[target])\n",
    "    predicted_df.to_csv(out_file, index_label=index_label)"
   ]
  },
  {
   "cell_type": "markdown",
   "metadata": {},
   "source": [
    "**Создаем признаки.**"
   ]
  },
  {
   "cell_type": "code",
   "execution_count": 69,
   "metadata": {
    "collapsed": false
   },
   "outputs": [],
   "source": [
    "train_df['Under_water'] = train_df.Vertical_Distance_To_Hydrology < 0\n",
    "test_df['Under_water'] = test_df.Vertical_Distance_To_Hydrology < 0"
   ]
  },
  {
   "cell_type": "code",
   "execution_count": 70,
   "metadata": {
    "collapsed": true
   },
   "outputs": [],
   "source": [
    "train_df['EVDtH'] = train_df.Elevation - train_df.Vertical_Distance_To_Hydrology\n",
    "test_df['EVDtH'] = test_df.Elevation - test_df.Vertical_Distance_To_Hydrology\n",
    "\n",
    "train_df['EHDtH'] = train_df.Elevation - train_df.Horizontal_Distance_To_Hydrology*0.2\n",
    "test_df['EHDtH'] = test_df.Elevation - test_df.Horizontal_Distance_To_Hydrology*0.2"
   ]
  },
  {
   "cell_type": "code",
   "execution_count": 71,
   "metadata": {
    "collapsed": false
   },
   "outputs": [],
   "source": [
    "train_df['Distanse_to_Hydrolody'] = (train_df['Horizontal_Distance_To_Hydrology'] ** 2 + \n",
    "                                  train_df['Vertical_Distance_To_Hydrology']**2) ** 0.5\n",
    "test_df['Distanse_to_Hydrolody'] = (test_df['Horizontal_Distance_To_Hydrology']**2 + \n",
    "                                 test_df['Vertical_Distance_To_Hydrology']**2) ** 0.5\n",
    "\n",
    "train_df['Hydro_Fire_1'] = train_df['Horizontal_Distance_To_Hydrology'] + \\\n",
    "    train_df['Horizontal_Distance_To_Fire_Points']\n",
    "test_df['Hydro_Fire_1'] = test_df['Horizontal_Distance_To_Hydrology'] + \\\n",
    "    test_df['Horizontal_Distance_To_Fire_Points']\n",
    "\n",
    "train_df['Hydro_Fire_2'] = abs(train_df['Horizontal_Distance_To_Hydrology'] - \\\n",
    "                                train_df['Horizontal_Distance_To_Fire_Points'])\n",
    "test_df['Hydro_Fire_2'] = abs(test_df['Horizontal_Distance_To_Hydrology'] - \\\n",
    "                           test_df['Horizontal_Distance_To_Fire_Points'])\n",
    "\n",
    "train_df['Hydro_Road_1'] = abs(train_df['Horizontal_Distance_To_Hydrology'] + \\\n",
    "                            train_df['Horizontal_Distance_To_Roadways'])\n",
    "test_df['Hydro_Road_1'] = abs(test_df['Horizontal_Distance_To_Hydrology'] + \\\n",
    "                           test_df['Horizontal_Distance_To_Roadways'])\n",
    "\n",
    "train_df['Hydro_Road_2'] = abs(train_df['Horizontal_Distance_To_Hydrology'] - \\\n",
    "                            train_df['Horizontal_Distance_To_Roadways'])\n",
    "test_df['Hydro_Road_2'] = abs(test_df['Horizontal_Distance_To_Hydrology'] - \\\n",
    "                           test_df['Horizontal_Distance_To_Roadways'])\n",
    "\n",
    "train_df['Fire_Road_1'] = abs(train_df['Horizontal_Distance_To_Fire_Points'] + \\\n",
    "                           train_df['Horizontal_Distance_To_Roadways'])\n",
    "test_df['Fire_Road_1'] = abs(test_df['Horizontal_Distance_To_Fire_Points'] + \\\n",
    "                          test_df['Horizontal_Distance_To_Roadways'])\n",
    "\n",
    "train_df['Fire_Road_2'] = abs(train_df['Horizontal_Distance_To_Fire_Points'] - \\\n",
    "                           train_df['Horizontal_Distance_To_Roadways'])\n",
    "test_df['Fire_Road_2'] = abs(test_df['Horizontal_Distance_To_Fire_Points'] - \\\n",
    "                          test_df['Horizontal_Distance_To_Roadways'])"
   ]
  },
  {
   "cell_type": "code",
   "execution_count": 72,
   "metadata": {
    "collapsed": false
   },
   "outputs": [],
   "source": [
    "y = train_df['Cover_Type']\n",
    "train_df = train_df.drop(['Cover_Type', 'Id'], axis=1)\n",
    "test_df = test_df.drop(['Id'], axis=1)"
   ]
  },
  {
   "cell_type": "code",
   "execution_count": 73,
   "metadata": {
    "collapsed": true
   },
   "outputs": [],
   "source": [
    "y = y - 1 # Чтоб классы нумеровались от о до 6"
   ]
  },
  {
   "cell_type": "code",
   "execution_count": 103,
   "metadata": {
    "collapsed": false
   },
   "outputs": [],
   "source": [
    "def score(params):\n",
    "    from sklearn.metrics import log_loss\n",
    "    print(\"Training with params:\")\n",
    "    print(params)\n",
    "    num_round = int(params['n_estimators'])\n",
    "    del params['n_estimators']\n",
    "    dtrain = xgb.DMatrix(X_train, label=y_train)\n",
    "    dvalid = xgb.DMatrix(X_test, label=y_test)\n",
    "    # watchlist = [(dvalid, 'eval'), (dtrain, 'train')]\n",
    "    model = xgb.train(params, dtrain, num_round)\n",
    "    predictions = model.predict(dvalid).reshape((X_test.shape[0], 7))\n",
    "    score = log_loss(y_test, predictions)\n",
    "    print(\"\\tScore {0}\\n\\n\".format(score))\n",
    "    return {'loss': score, 'status': STATUS_OK}"
   ]
  },
  {
   "cell_type": "code",
   "execution_count": 104,
   "metadata": {
    "collapsed": false
   },
   "outputs": [],
   "source": [
    "def optimize(trials):\n",
    "    space = {\n",
    "             'n_estimators' : 150,\n",
    "             'eta' : hp.quniform('eta', 0.025, 0.5, 0.025),\n",
    "             'max_depth' : hp.quniform('max_depth', 4, 10, 2),\n",
    "             'min_child_weight' : hp.quniform('min_child_weight', 1, 6, 1),\n",
    "             'subsample' : hp.quniform('subsample', 0.5, 1, 0.25),\n",
    "             'gamma' : 0,\n",
    "             'colsample_bytree' : hp.quniform('colsample_bytree', 0.5, 1, 0.25),\n",
    "             'num_class' : 7,\n",
    "             'eval_metric': 'merror',\n",
    "             'objective': 'multi:softprob',\n",
    "             'nthread' : 4,\n",
    "             'silent' : 1\n",
    "             }\n",
    "    best = fmin(score, space, algo=tpe.suggest, trials=trials, max_evals=50)\n",
    "\n",
    "    print(best)"
   ]
  },
  {
   "cell_type": "code",
   "execution_count": 96,
   "metadata": {
    "collapsed": false
   },
   "outputs": [],
   "source": [
    "X_train, X_test, y_train, y_test = train_test_split(\n",
    "    train_df, y, test_size=0.2, random_state=1234)"
   ]
  },
  {
   "cell_type": "code",
   "execution_count": 105,
   "metadata": {
    "collapsed": false
   },
   "outputs": [
    {
     "name": "stdout",
     "output_type": "stream",
     "text": [
      "Training with params:\n",
      "{'colsample_bytree': 0.75, 'silent': 1, 'eval_metric': 'merror', 'nthread': 4, 'min_child_weight': 4.0, 'n_estimators': 150, 'subsample': 0.75, 'eta': 0.17500000000000002, 'objective': 'multi:softprob', 'num_class': 7, 'max_depth': 8.0, 'gamma': 0}\n",
      "\tScore 0.309290498852\n",
      "\n",
      "\n",
      "Training with params:\n",
      "{'colsample_bytree': 1.0, 'silent': 1, 'eval_metric': 'merror', 'nthread': 4, 'min_child_weight': 4.0, 'n_estimators': 150, 'subsample': 0.75, 'eta': 0.07500000000000001, 'objective': 'multi:softprob', 'num_class': 7, 'max_depth': 8.0, 'gamma': 0}\n",
      "\tScore 0.330795197248\n",
      "\n",
      "\n",
      "Training with params:\n",
      "{'colsample_bytree': 0.75, 'silent': 1, 'eval_metric': 'merror', 'nthread': 4, 'min_child_weight': 3.0, 'n_estimators': 150, 'subsample': 1.0, 'eta': 0.375, 'objective': 'multi:softprob', 'num_class': 7, 'max_depth': 8.0, 'gamma': 0}\n",
      "\tScore 0.329478720171\n",
      "\n",
      "\n",
      "Training with params:\n",
      "{'colsample_bytree': 0.5, 'silent': 1, 'eval_metric': 'merror', 'nthread': 4, 'min_child_weight': 3.0, 'n_estimators': 150, 'subsample': 1.0, 'eta': 0.2, 'objective': 'multi:softprob', 'num_class': 7, 'max_depth': 6.0, 'gamma': 0}\n"
     ]
    },
    {
     "ename": "KeyboardInterrupt",
     "evalue": "",
     "output_type": "error",
     "traceback": [
      "\u001b[0;31m---------------------------------------------------------------------------\u001b[0m",
      "\u001b[0;31mKeyboardInterrupt\u001b[0m                         Traceback (most recent call last)",
      "\u001b[0;32m<ipython-input-105-5dd31a0c1de6>\u001b[0m in \u001b[0;36m<module>\u001b[0;34m()\u001b[0m\n\u001b[1;32m      1\u001b[0m \u001b[0mtrials\u001b[0m \u001b[0;34m=\u001b[0m \u001b[0mTrials\u001b[0m\u001b[0;34m(\u001b[0m\u001b[0;34m)\u001b[0m\u001b[0;34m\u001b[0m\u001b[0m\n\u001b[0;32m----> 2\u001b[0;31m \u001b[0moptimize\u001b[0m\u001b[0;34m(\u001b[0m\u001b[0mtrials\u001b[0m\u001b[0;34m)\u001b[0m\u001b[0;34m\u001b[0m\u001b[0m\n\u001b[0m",
      "\u001b[0;32m<ipython-input-104-5e5c2be0509c>\u001b[0m in \u001b[0;36moptimize\u001b[0;34m(trials)\u001b[0m\n\u001b[1;32m     14\u001b[0m              \u001b[0;34m'silent'\u001b[0m \u001b[0;34m:\u001b[0m \u001b[0;36m1\u001b[0m\u001b[0;34m\u001b[0m\u001b[0m\n\u001b[1;32m     15\u001b[0m              }\n\u001b[0;32m---> 16\u001b[0;31m     \u001b[0mbest\u001b[0m \u001b[0;34m=\u001b[0m \u001b[0mfmin\u001b[0m\u001b[0;34m(\u001b[0m\u001b[0mscore\u001b[0m\u001b[0;34m,\u001b[0m \u001b[0mspace\u001b[0m\u001b[0;34m,\u001b[0m \u001b[0malgo\u001b[0m\u001b[0;34m=\u001b[0m\u001b[0mtpe\u001b[0m\u001b[0;34m.\u001b[0m\u001b[0msuggest\u001b[0m\u001b[0;34m,\u001b[0m \u001b[0mtrials\u001b[0m\u001b[0;34m=\u001b[0m\u001b[0mtrials\u001b[0m\u001b[0;34m,\u001b[0m \u001b[0mmax_evals\u001b[0m\u001b[0;34m=\u001b[0m\u001b[0;36m50\u001b[0m\u001b[0;34m)\u001b[0m\u001b[0;34m\u001b[0m\u001b[0m\n\u001b[0m\u001b[1;32m     17\u001b[0m \u001b[0;34m\u001b[0m\u001b[0m\n\u001b[1;32m     18\u001b[0m     \u001b[0;32mprint\u001b[0m\u001b[0;34m(\u001b[0m\u001b[0mbest\u001b[0m\u001b[0;34m)\u001b[0m\u001b[0;34m\u001b[0m\u001b[0m\n",
      "\u001b[0;32m/Users/yorko/anaconda2/lib/python2.7/site-packages/hyperopt-0.0.3.dev0-py2.7.egg/hyperopt/fmin.pyc\u001b[0m in \u001b[0;36mfmin\u001b[0;34m(fn, space, algo, max_evals, trials, rstate, allow_trials_fmin, pass_expr_memo_ctrl, catch_eval_exceptions, verbose, return_argmin)\u001b[0m\n\u001b[1;32m    304\u001b[0m             \u001b[0mverbose\u001b[0m\u001b[0;34m=\u001b[0m\u001b[0mverbose\u001b[0m\u001b[0;34m,\u001b[0m\u001b[0;34m\u001b[0m\u001b[0m\n\u001b[1;32m    305\u001b[0m             \u001b[0mcatch_eval_exceptions\u001b[0m\u001b[0;34m=\u001b[0m\u001b[0mcatch_eval_exceptions\u001b[0m\u001b[0;34m,\u001b[0m\u001b[0;34m\u001b[0m\u001b[0m\n\u001b[0;32m--> 306\u001b[0;31m             \u001b[0mreturn_argmin\u001b[0m\u001b[0;34m=\u001b[0m\u001b[0mreturn_argmin\u001b[0m\u001b[0;34m,\u001b[0m\u001b[0;34m\u001b[0m\u001b[0m\n\u001b[0m\u001b[1;32m    307\u001b[0m             )\n\u001b[1;32m    308\u001b[0m \u001b[0;34m\u001b[0m\u001b[0m\n",
      "\u001b[0;32m/Users/yorko/anaconda2/lib/python2.7/site-packages/hyperopt-0.0.3.dev0-py2.7.egg/hyperopt/base.pyc\u001b[0m in \u001b[0;36mfmin\u001b[0;34m(self, fn, space, algo, max_evals, rstate, verbose, pass_expr_memo_ctrl, catch_eval_exceptions, return_argmin)\u001b[0m\n\u001b[1;32m    631\u001b[0m             \u001b[0mpass_expr_memo_ctrl\u001b[0m\u001b[0;34m=\u001b[0m\u001b[0mpass_expr_memo_ctrl\u001b[0m\u001b[0;34m,\u001b[0m\u001b[0;34m\u001b[0m\u001b[0m\n\u001b[1;32m    632\u001b[0m             \u001b[0mcatch_eval_exceptions\u001b[0m\u001b[0;34m=\u001b[0m\u001b[0mcatch_eval_exceptions\u001b[0m\u001b[0;34m,\u001b[0m\u001b[0;34m\u001b[0m\u001b[0m\n\u001b[0;32m--> 633\u001b[0;31m             return_argmin=return_argmin)\n\u001b[0m\u001b[1;32m    634\u001b[0m \u001b[0;34m\u001b[0m\u001b[0m\n\u001b[1;32m    635\u001b[0m \u001b[0;34m\u001b[0m\u001b[0m\n",
      "\u001b[0;32m/Users/yorko/anaconda2/lib/python2.7/site-packages/hyperopt-0.0.3.dev0-py2.7.egg/hyperopt/fmin.pyc\u001b[0m in \u001b[0;36mfmin\u001b[0;34m(fn, space, algo, max_evals, trials, rstate, allow_trials_fmin, pass_expr_memo_ctrl, catch_eval_exceptions, verbose, return_argmin)\u001b[0m\n\u001b[1;32m    317\u001b[0m                     verbose=verbose)\n\u001b[1;32m    318\u001b[0m     \u001b[0mrval\u001b[0m\u001b[0;34m.\u001b[0m\u001b[0mcatch_eval_exceptions\u001b[0m \u001b[0;34m=\u001b[0m \u001b[0mcatch_eval_exceptions\u001b[0m\u001b[0;34m\u001b[0m\u001b[0m\n\u001b[0;32m--> 319\u001b[0;31m     \u001b[0mrval\u001b[0m\u001b[0;34m.\u001b[0m\u001b[0mexhaust\u001b[0m\u001b[0;34m(\u001b[0m\u001b[0;34m)\u001b[0m\u001b[0;34m\u001b[0m\u001b[0m\n\u001b[0m\u001b[1;32m    320\u001b[0m     \u001b[0;32mif\u001b[0m \u001b[0mreturn_argmin\u001b[0m\u001b[0;34m:\u001b[0m\u001b[0;34m\u001b[0m\u001b[0m\n\u001b[1;32m    321\u001b[0m         \u001b[0;32mreturn\u001b[0m \u001b[0mtrials\u001b[0m\u001b[0;34m.\u001b[0m\u001b[0margmin\u001b[0m\u001b[0;34m\u001b[0m\u001b[0m\n",
      "\u001b[0;32m/Users/yorko/anaconda2/lib/python2.7/site-packages/hyperopt-0.0.3.dev0-py2.7.egg/hyperopt/fmin.pyc\u001b[0m in \u001b[0;36mexhaust\u001b[0;34m(self)\u001b[0m\n\u001b[1;32m    196\u001b[0m     \u001b[0;32mdef\u001b[0m \u001b[0mexhaust\u001b[0m\u001b[0;34m(\u001b[0m\u001b[0mself\u001b[0m\u001b[0;34m)\u001b[0m\u001b[0;34m:\u001b[0m\u001b[0;34m\u001b[0m\u001b[0m\n\u001b[1;32m    197\u001b[0m         \u001b[0mn_done\u001b[0m \u001b[0;34m=\u001b[0m \u001b[0mlen\u001b[0m\u001b[0;34m(\u001b[0m\u001b[0mself\u001b[0m\u001b[0;34m.\u001b[0m\u001b[0mtrials\u001b[0m\u001b[0;34m)\u001b[0m\u001b[0;34m\u001b[0m\u001b[0m\n\u001b[0;32m--> 198\u001b[0;31m         \u001b[0mself\u001b[0m\u001b[0;34m.\u001b[0m\u001b[0mrun\u001b[0m\u001b[0;34m(\u001b[0m\u001b[0mself\u001b[0m\u001b[0;34m.\u001b[0m\u001b[0mmax_evals\u001b[0m \u001b[0;34m-\u001b[0m \u001b[0mn_done\u001b[0m\u001b[0;34m,\u001b[0m \u001b[0mblock_until_done\u001b[0m\u001b[0;34m=\u001b[0m\u001b[0mself\u001b[0m\u001b[0;34m.\u001b[0m\u001b[0masync\u001b[0m\u001b[0;34m)\u001b[0m\u001b[0;34m\u001b[0m\u001b[0m\n\u001b[0m\u001b[1;32m    199\u001b[0m         \u001b[0mself\u001b[0m\u001b[0;34m.\u001b[0m\u001b[0mtrials\u001b[0m\u001b[0;34m.\u001b[0m\u001b[0mrefresh\u001b[0m\u001b[0;34m(\u001b[0m\u001b[0;34m)\u001b[0m\u001b[0;34m\u001b[0m\u001b[0m\n\u001b[1;32m    200\u001b[0m         \u001b[0;32mreturn\u001b[0m \u001b[0mself\u001b[0m\u001b[0;34m\u001b[0m\u001b[0m\n",
      "\u001b[0;32m/Users/yorko/anaconda2/lib/python2.7/site-packages/hyperopt-0.0.3.dev0-py2.7.egg/hyperopt/fmin.pyc\u001b[0m in \u001b[0;36mrun\u001b[0;34m(self, N, block_until_done)\u001b[0m\n\u001b[1;32m    170\u001b[0m             \u001b[0;32melse\u001b[0m\u001b[0;34m:\u001b[0m\u001b[0;34m\u001b[0m\u001b[0m\n\u001b[1;32m    171\u001b[0m                 \u001b[0;31m# -- loop over trials and do the jobs directly\u001b[0m\u001b[0;34m\u001b[0m\u001b[0;34m\u001b[0m\u001b[0m\n\u001b[0;32m--> 172\u001b[0;31m                 \u001b[0mself\u001b[0m\u001b[0;34m.\u001b[0m\u001b[0mserial_evaluate\u001b[0m\u001b[0;34m(\u001b[0m\u001b[0;34m)\u001b[0m\u001b[0;34m\u001b[0m\u001b[0m\n\u001b[0m\u001b[1;32m    173\u001b[0m \u001b[0;34m\u001b[0m\u001b[0m\n\u001b[1;32m    174\u001b[0m             \u001b[0;32mif\u001b[0m \u001b[0mstopped\u001b[0m\u001b[0;34m:\u001b[0m\u001b[0;34m\u001b[0m\u001b[0m\n",
      "\u001b[0;32m/Users/yorko/anaconda2/lib/python2.7/site-packages/hyperopt-0.0.3.dev0-py2.7.egg/hyperopt/fmin.pyc\u001b[0m in \u001b[0;36mserial_evaluate\u001b[0;34m(self, N)\u001b[0m\n\u001b[1;32m     87\u001b[0m                 \u001b[0mctrl\u001b[0m \u001b[0;34m=\u001b[0m \u001b[0mbase\u001b[0m\u001b[0;34m.\u001b[0m\u001b[0mCtrl\u001b[0m\u001b[0;34m(\u001b[0m\u001b[0mself\u001b[0m\u001b[0;34m.\u001b[0m\u001b[0mtrials\u001b[0m\u001b[0;34m,\u001b[0m \u001b[0mcurrent_trial\u001b[0m\u001b[0;34m=\u001b[0m\u001b[0mtrial\u001b[0m\u001b[0;34m)\u001b[0m\u001b[0;34m\u001b[0m\u001b[0m\n\u001b[1;32m     88\u001b[0m                 \u001b[0;32mtry\u001b[0m\u001b[0;34m:\u001b[0m\u001b[0;34m\u001b[0m\u001b[0m\n\u001b[0;32m---> 89\u001b[0;31m                     \u001b[0mresult\u001b[0m \u001b[0;34m=\u001b[0m \u001b[0mself\u001b[0m\u001b[0;34m.\u001b[0m\u001b[0mdomain\u001b[0m\u001b[0;34m.\u001b[0m\u001b[0mevaluate\u001b[0m\u001b[0;34m(\u001b[0m\u001b[0mspec\u001b[0m\u001b[0;34m,\u001b[0m \u001b[0mctrl\u001b[0m\u001b[0;34m)\u001b[0m\u001b[0;34m\u001b[0m\u001b[0m\n\u001b[0m\u001b[1;32m     90\u001b[0m                 \u001b[0;32mexcept\u001b[0m \u001b[0mException\u001b[0m\u001b[0;34m,\u001b[0m \u001b[0me\u001b[0m\u001b[0;34m:\u001b[0m\u001b[0;34m\u001b[0m\u001b[0m\n\u001b[1;32m     91\u001b[0m                     \u001b[0mlogger\u001b[0m\u001b[0;34m.\u001b[0m\u001b[0minfo\u001b[0m\u001b[0;34m(\u001b[0m\u001b[0;34m'job exception: %s'\u001b[0m \u001b[0;34m%\u001b[0m \u001b[0mstr\u001b[0m\u001b[0;34m(\u001b[0m\u001b[0me\u001b[0m\u001b[0;34m)\u001b[0m\u001b[0;34m)\u001b[0m\u001b[0;34m\u001b[0m\u001b[0m\n",
      "\u001b[0;32m/Users/yorko/anaconda2/lib/python2.7/site-packages/hyperopt-0.0.3.dev0-py2.7.egg/hyperopt/base.pyc\u001b[0m in \u001b[0;36mevaluate\u001b[0;34m(self, config, ctrl, attach_attachments)\u001b[0m\n\u001b[1;32m    836\u001b[0m                 \u001b[0mmemo\u001b[0m\u001b[0;34m=\u001b[0m\u001b[0mmemo\u001b[0m\u001b[0;34m,\u001b[0m\u001b[0;34m\u001b[0m\u001b[0m\n\u001b[1;32m    837\u001b[0m                 print_node_on_error=self.rec_eval_print_node_on_error)\n\u001b[0;32m--> 838\u001b[0;31m             \u001b[0mrval\u001b[0m \u001b[0;34m=\u001b[0m \u001b[0mself\u001b[0m\u001b[0;34m.\u001b[0m\u001b[0mfn\u001b[0m\u001b[0;34m(\u001b[0m\u001b[0mpyll_rval\u001b[0m\u001b[0;34m)\u001b[0m\u001b[0;34m\u001b[0m\u001b[0m\n\u001b[0m\u001b[1;32m    839\u001b[0m \u001b[0;34m\u001b[0m\u001b[0m\n\u001b[1;32m    840\u001b[0m         \u001b[0;32mif\u001b[0m \u001b[0misinstance\u001b[0m\u001b[0;34m(\u001b[0m\u001b[0mrval\u001b[0m\u001b[0;34m,\u001b[0m \u001b[0;34m(\u001b[0m\u001b[0mfloat\u001b[0m\u001b[0;34m,\u001b[0m \u001b[0mint\u001b[0m\u001b[0;34m,\u001b[0m \u001b[0mnp\u001b[0m\u001b[0;34m.\u001b[0m\u001b[0mnumber\u001b[0m\u001b[0;34m)\u001b[0m\u001b[0;34m)\u001b[0m\u001b[0;34m:\u001b[0m\u001b[0;34m\u001b[0m\u001b[0m\n",
      "\u001b[0;32m<ipython-input-103-d60eae9fc0ec>\u001b[0m in \u001b[0;36mscore\u001b[0;34m(params)\u001b[0m\n\u001b[1;32m      8\u001b[0m     \u001b[0mdvalid\u001b[0m \u001b[0;34m=\u001b[0m \u001b[0mxgb\u001b[0m\u001b[0;34m.\u001b[0m\u001b[0mDMatrix\u001b[0m\u001b[0;34m(\u001b[0m\u001b[0mX_test\u001b[0m\u001b[0;34m,\u001b[0m \u001b[0mlabel\u001b[0m\u001b[0;34m=\u001b[0m\u001b[0my_test\u001b[0m\u001b[0;34m)\u001b[0m\u001b[0;34m\u001b[0m\u001b[0m\n\u001b[1;32m      9\u001b[0m     \u001b[0;31m# watchlist = [(dvalid, 'eval'), (dtrain, 'train')]\u001b[0m\u001b[0;34m\u001b[0m\u001b[0;34m\u001b[0m\u001b[0m\n\u001b[0;32m---> 10\u001b[0;31m     \u001b[0mmodel\u001b[0m \u001b[0;34m=\u001b[0m \u001b[0mxgb\u001b[0m\u001b[0;34m.\u001b[0m\u001b[0mtrain\u001b[0m\u001b[0;34m(\u001b[0m\u001b[0mparams\u001b[0m\u001b[0;34m,\u001b[0m \u001b[0mdtrain\u001b[0m\u001b[0;34m,\u001b[0m \u001b[0mnum_round\u001b[0m\u001b[0;34m)\u001b[0m\u001b[0;34m\u001b[0m\u001b[0m\n\u001b[0m\u001b[1;32m     11\u001b[0m     \u001b[0mpredictions\u001b[0m \u001b[0;34m=\u001b[0m \u001b[0mmodel\u001b[0m\u001b[0;34m.\u001b[0m\u001b[0mpredict\u001b[0m\u001b[0;34m(\u001b[0m\u001b[0mdvalid\u001b[0m\u001b[0;34m)\u001b[0m\u001b[0;34m.\u001b[0m\u001b[0mreshape\u001b[0m\u001b[0;34m(\u001b[0m\u001b[0;34m(\u001b[0m\u001b[0mX_test\u001b[0m\u001b[0;34m.\u001b[0m\u001b[0mshape\u001b[0m\u001b[0;34m[\u001b[0m\u001b[0;36m0\u001b[0m\u001b[0;34m]\u001b[0m\u001b[0;34m,\u001b[0m \u001b[0;36m7\u001b[0m\u001b[0;34m)\u001b[0m\u001b[0;34m)\u001b[0m\u001b[0;34m\u001b[0m\u001b[0m\n\u001b[1;32m     12\u001b[0m     \u001b[0mscore\u001b[0m \u001b[0;34m=\u001b[0m \u001b[0mlog_loss\u001b[0m\u001b[0;34m(\u001b[0m\u001b[0my_test\u001b[0m\u001b[0;34m,\u001b[0m \u001b[0mpredictions\u001b[0m\u001b[0;34m)\u001b[0m\u001b[0;34m\u001b[0m\u001b[0m\n",
      "\u001b[0;32m/Users/yorko/anaconda2/lib/python2.7/site-packages/xgboost/training.pyc\u001b[0m in \u001b[0;36mtrain\u001b[0;34m(params, dtrain, num_boost_round, evals, obj, feval, maximize, early_stopping_rounds, evals_result, verbose_eval, learning_rates, xgb_model)\u001b[0m\n\u001b[1;32m    119\u001b[0m     \u001b[0;32mif\u001b[0m \u001b[0;32mnot\u001b[0m \u001b[0mearly_stopping_rounds\u001b[0m\u001b[0;34m:\u001b[0m\u001b[0;34m\u001b[0m\u001b[0m\n\u001b[1;32m    120\u001b[0m         \u001b[0;32mfor\u001b[0m \u001b[0mi\u001b[0m \u001b[0;32min\u001b[0m \u001b[0mrange\u001b[0m\u001b[0;34m(\u001b[0m\u001b[0mnum_boost_round\u001b[0m\u001b[0;34m)\u001b[0m\u001b[0;34m:\u001b[0m\u001b[0;34m\u001b[0m\u001b[0m\n\u001b[0;32m--> 121\u001b[0;31m             \u001b[0mbst\u001b[0m\u001b[0;34m.\u001b[0m\u001b[0mupdate\u001b[0m\u001b[0;34m(\u001b[0m\u001b[0mdtrain\u001b[0m\u001b[0;34m,\u001b[0m \u001b[0mi\u001b[0m\u001b[0;34m,\u001b[0m \u001b[0mobj\u001b[0m\u001b[0;34m)\u001b[0m\u001b[0;34m\u001b[0m\u001b[0m\n\u001b[0m\u001b[1;32m    122\u001b[0m             \u001b[0mnboost\u001b[0m \u001b[0;34m+=\u001b[0m \u001b[0;36m1\u001b[0m\u001b[0;34m\u001b[0m\u001b[0m\n\u001b[1;32m    123\u001b[0m             \u001b[0;32mif\u001b[0m \u001b[0mlen\u001b[0m\u001b[0;34m(\u001b[0m\u001b[0mevals\u001b[0m\u001b[0;34m)\u001b[0m \u001b[0;34m!=\u001b[0m \u001b[0;36m0\u001b[0m\u001b[0;34m:\u001b[0m\u001b[0;34m\u001b[0m\u001b[0m\n",
      "\u001b[0;32m/Users/yorko/anaconda2/lib/python2.7/site-packages/xgboost/core.pyc\u001b[0m in \u001b[0;36mupdate\u001b[0;34m(self, dtrain, iteration, fobj)\u001b[0m\n\u001b[1;32m    692\u001b[0m \u001b[0;34m\u001b[0m\u001b[0m\n\u001b[1;32m    693\u001b[0m         \u001b[0;32mif\u001b[0m \u001b[0mfobj\u001b[0m \u001b[0;32mis\u001b[0m \u001b[0mNone\u001b[0m\u001b[0;34m:\u001b[0m\u001b[0;34m\u001b[0m\u001b[0m\n\u001b[0;32m--> 694\u001b[0;31m             \u001b[0m_check_call\u001b[0m\u001b[0;34m(\u001b[0m\u001b[0m_LIB\u001b[0m\u001b[0;34m.\u001b[0m\u001b[0mXGBoosterUpdateOneIter\u001b[0m\u001b[0;34m(\u001b[0m\u001b[0mself\u001b[0m\u001b[0;34m.\u001b[0m\u001b[0mhandle\u001b[0m\u001b[0;34m,\u001b[0m \u001b[0miteration\u001b[0m\u001b[0;34m,\u001b[0m \u001b[0mdtrain\u001b[0m\u001b[0;34m.\u001b[0m\u001b[0mhandle\u001b[0m\u001b[0;34m)\u001b[0m\u001b[0;34m)\u001b[0m\u001b[0;34m\u001b[0m\u001b[0m\n\u001b[0m\u001b[1;32m    695\u001b[0m         \u001b[0;32melse\u001b[0m\u001b[0;34m:\u001b[0m\u001b[0;34m\u001b[0m\u001b[0m\n\u001b[1;32m    696\u001b[0m             \u001b[0mpred\u001b[0m \u001b[0;34m=\u001b[0m \u001b[0mself\u001b[0m\u001b[0;34m.\u001b[0m\u001b[0mpredict\u001b[0m\u001b[0;34m(\u001b[0m\u001b[0mdtrain\u001b[0m\u001b[0;34m)\u001b[0m\u001b[0;34m\u001b[0m\u001b[0m\n",
      "\u001b[0;31mKeyboardInterrupt\u001b[0m: "
     ]
    }
   ],
   "source": [
    "trials = Trials()\n",
    "optimize(trials)"
   ]
  },
  {
   "cell_type": "code",
   "execution_count": 106,
   "metadata": {
    "collapsed": true
   },
   "outputs": [],
   "source": [
    "param = {'colsample_bytree': 0.75, 'silent': 1, 'eval_metric': 'merror', 'nthread': 4, \n",
    "         'min_child_weight': 4.0, 'n_estimators': 150, 'subsample': 0.75, 'eta': 0.175, \n",
    "         'objective': 'multi:softprob', \n",
    "         'num_class': 7, 'max_depth': 8.0, 'gamma': 0}"
   ]
  },
  {
   "cell_type": "code",
   "execution_count": 107,
   "metadata": {
    "collapsed": true
   },
   "outputs": [],
   "source": [
    "dtrain = xgb.DMatrix(train_df, y)"
   ]
  },
  {
   "cell_type": "code",
   "execution_count": 131,
   "metadata": {
    "collapsed": false
   },
   "outputs": [
    {
     "name": "stderr",
     "output_type": "stream",
     "text": [
      "[0]\tcv-test-merror:0.2511904+0.00536317893045\tcv-train-merror:0.2076386+0.00657189837414\n",
      "[1]\tcv-test-merror:0.2223544+0.00260033733196\tcv-train-merror:0.1808864+0.00425582887814\n",
      "[2]\tcv-test-merror:0.2090608+0.00388133015344\tcv-train-merror:0.1671958+0.0033780387446\n",
      "[3]\tcv-test-merror:0.2019842+0.005935535777\tcv-train-merror:0.158912+0.00246959551344\n",
      "[4]\tcv-test-merror:0.1979498+0.0037505977337\tcv-train-merror:0.1518354+0.00286344104881\n",
      "[5]\tcv-test-merror:0.1923942+0.00411677647681\tcv-train-merror:0.145982+0.00289680706986\n",
      "[6]\tcv-test-merror:0.19041+0.00488433487795\tcv-train-merror:0.142328+0.00268197583882\n",
      "[7]\tcv-test-merror:0.189418+0.00435922071017\tcv-train-merror:0.1388558+0.00304616364629\n",
      "[8]\tcv-test-merror:0.1862434+0.00543969284427\tcv-train-merror:0.1342262+0.00239737334598\n",
      "[9]\tcv-test-merror:0.1837966+0.00483486597953\tcv-train-merror:0.1302578+0.00253596193978\n",
      "[10]\tcv-test-merror:0.181746+0.00307797725788\tcv-train-merror:0.1261904+0.00265739711748\n",
      "[11]\tcv-test-merror:0.1796298+0.00383051142277\tcv-train-merror:0.1217096+0.00328074342794\n",
      "[12]\tcv-test-merror:0.1773146+0.00524712670325\tcv-train-merror:0.118684+0.0032688828061\n",
      "[13]\tcv-test-merror:0.1744708+0.00628672361091\tcv-train-merror:0.1154266+0.00270900052418\n",
      "[14]\tcv-test-merror:0.1733464+0.0061736471101\tcv-train-merror:0.1126322+0.0021395443814\n",
      "[15]\tcv-test-merror:0.1722222+0.00586499672293\tcv-train-merror:0.1097388+0.00198995330598\n",
      "[16]\tcv-test-merror:0.1703704+0.00619502379656\tcv-train-merror:0.1081346+0.00168872456013\n",
      "[17]\tcv-test-merror:0.167791+0.00655940951611\tcv-train-merror:0.1053408+0.0019135359312\n",
      "[18]\tcv-test-merror:0.1670634+0.0051968261314\tcv-train-merror:0.1034228+0.0018292028209\n",
      "[19]\tcv-test-merror:0.1652116+0.00524376462477\tcv-train-merror:0.1007442+0.00120438820984\n",
      "[20]\tcv-test-merror:0.164352+0.00578069788174\tcv-train-merror:0.098363+0.00180609534632\n",
      "[21]\tcv-test-merror:0.1633598+0.00547772242451\tcv-train-merror:0.0955356+0.00163247782221\n",
      "[22]\tcv-test-merror:0.1614416+0.00615625959817\tcv-train-merror:0.0936012+0.00166281681493\n",
      "[23]\tcv-test-merror:0.1597222+0.00613343109197\tcv-train-merror:0.0910382+0.00187157937582\n",
      "[24]\tcv-test-merror:0.1585978+0.00564909459648\tcv-train-merror:0.088889+0.0015504765719\n",
      "[25]\tcv-test-merror:0.1575398+0.00519327867151\tcv-train-merror:0.0865078+0.0019832009883\n",
      "[26]\tcv-test-merror:0.1558864+0.00484462434457\tcv-train-merror:0.0845404+0.0018950726213\n",
      "[27]\tcv-test-merror:0.1545636+0.00470745139539\tcv-train-merror:0.0821262+0.00236777645904\n",
      "[28]\tcv-test-merror:0.1545634+0.00480395148185\tcv-train-merror:0.0804232+0.00192584894527\n",
      "[29]\tcv-test-merror:0.152976+0.00520595432174\tcv-train-merror:0.0783402+0.00188932267228\n",
      "[30]\tcv-test-merror:0.1525794+0.00537546379766\tcv-train-merror:0.0765046+0.00216489903691\n",
      "[31]\tcv-test-merror:0.152315+0.00566839049466\tcv-train-merror:0.0747686+0.00217902974739\n",
      "[32]\tcv-test-merror:0.1505288+0.00539101012427\tcv-train-merror:0.0723214+0.00162593635792\n",
      "[33]\tcv-test-merror:0.1503308+0.00576428664797\tcv-train-merror:0.0704198+0.00221813772341\n",
      "[34]\tcv-test-merror:0.1496694+0.00505664598721\tcv-train-merror:0.0682046+0.00255515460198\n",
      "[35]\tcv-test-merror:0.1482806+0.00482212918118\tcv-train-merror:0.066336+0.00180842329116\n",
      "[36]\tcv-test-merror:0.147156+0.0051229758149\tcv-train-merror:0.0642692+0.001524760755\n",
      "[37]\tcv-test-merror:0.147156+0.00621496152844\tcv-train-merror:0.062897+0.00198925362888\n",
      "[38]\tcv-test-merror:0.146098+0.00567170841987\tcv-train-merror:0.0612104+0.00175112713416\n",
      "[39]\tcv-test-merror:0.1453042+0.00589553065975\tcv-train-merror:0.0594906+0.0013968323593\n",
      "[40]\tcv-test-merror:0.1453042+0.00611405895948\tcv-train-merror:0.0575068+0.00177025256955\n",
      "[41]\tcv-test-merror:0.1442464+0.00547147302287\tcv-train-merror:0.0558036+0.00160119113163\n",
      "[42]\tcv-test-merror:0.143254+0.00589111154198\tcv-train-merror:0.0543156+0.0013814839268\n",
      "[43]\tcv-test-merror:0.141865+0.00619362162228\tcv-train-merror:0.0527612+0.00170412386874\n",
      "[44]\tcv-test-merror:0.1420636+0.00692924595032\tcv-train-merror:0.051389+0.00157334230223\n",
      "[45]\tcv-test-merror:0.1410714+0.006092574057\tcv-train-merror:0.0496196+0.00147823091566\n",
      "[46]\tcv-test-merror:0.140939+0.00711529116762\tcv-train-merror:0.048016+0.00147297155438\n",
      "[47]\tcv-test-merror:0.14041+0.00668496806275\tcv-train-merror:0.04623+0.00115177619354\n",
      "[48]\tcv-test-merror:0.139947+0.00656205522683\tcv-train-merror:0.0454034+0.00135896690173\n",
      "[49]\tcv-test-merror:0.1390874+0.0062063192828\tcv-train-merror:0.0440972+0.0013660510093\n",
      "[50]\tcv-test-merror:0.1391534+0.00660511624727\tcv-train-merror:0.042394+0.00117644600386\n",
      "[51]\tcv-test-merror:0.1390212+0.00667488556906\tcv-train-merror:0.0411706+0.00124055545624\n",
      "[52]\tcv-test-merror:0.1377644+0.00740211452492\tcv-train-merror:0.0397322+0.000934856438176\n",
      "[53]\tcv-test-merror:0.1374338+0.00686569374208\tcv-train-merror:0.0376984+0.00092493883041\n",
      "[54]\tcv-test-merror:0.136574+0.00638828762659\tcv-train-merror:0.0364914+0.00106202723129\n",
      "[55]\tcv-test-merror:0.1364418+0.00612458525616\tcv-train-merror:0.034871+0.00142552867386\n",
      "[56]\tcv-test-merror:0.136177+0.00603774242577\tcv-train-merror:0.0334656+0.00163806148847\n",
      "[57]\tcv-test-merror:0.1353174+0.00640353560465\tcv-train-merror:0.0324734+0.00145867400059\n",
      "[58]\tcv-test-merror:0.13459+0.00652395606975\tcv-train-merror:0.0311178+0.00147391633412\n",
      "[59]\tcv-test-merror:0.13373+0.00651590840942\tcv-train-merror:0.0299768+0.00148585401706\n",
      "[60]\tcv-test-merror:0.1330026+0.00670044430169\tcv-train-merror:0.0288196+0.00153219484401\n",
      "[61]\tcv-test-merror:0.1322088+0.00667099067306\tcv-train-merror:0.0280918+0.00182819084343\n",
      "[62]\tcv-test-merror:0.1317464+0.00647870093769\tcv-train-merror:0.0267692+0.00160334567701\n",
      "[63]\tcv-test-merror:0.1313496+0.00683945558067\tcv-train-merror:0.025711+0.00163755134271\n",
      "[64]\tcv-test-merror:0.1313494+0.00709968648885\tcv-train-merror:0.0246362+0.00160246415249\n",
      "[65]\tcv-test-merror:0.1304896+0.00733098025096\tcv-train-merror:0.0236772+0.00177953043245\n",
      "[66]\tcv-test-merror:0.1300266+0.00721914085193\tcv-train-merror:0.022735+0.00195727841658\n",
      "[67]\tcv-test-merror:0.1301588+0.0070882248102\tcv-train-merror:0.021743+0.0017038159525\n",
      "[68]\tcv-test-merror:0.1304234+0.00657606300456\tcv-train-merror:0.0208666+0.00120197980016\n",
      "[69]\tcv-test-merror:0.1295634+0.0064846085649\tcv-train-merror:0.0201058+0.00115192263629\n",
      "[70]\tcv-test-merror:0.1282404+0.00721898509764\tcv-train-merror:0.0191304+0.00127838720269\n",
      "[71]\tcv-test-merror:0.1281084+0.00662911253789\tcv-train-merror:0.0184028+0.00122350813647\n",
      "[72]\tcv-test-merror:0.1280424+0.00627245137406\tcv-train-merror:0.0175758+0.00118281941141\n",
      "[73]\tcv-test-merror:0.1281084+0.00630412267013\tcv-train-merror:0.0168982+0.00127082577878\n",
      "[74]\tcv-test-merror:0.1277778+0.00645495352113\tcv-train-merror:0.0161542+0.00140641919782\n",
      "[75]\tcv-test-merror:0.1271826+0.00576799045075\tcv-train-merror:0.0155756+0.00140346779087\n",
      "[76]\tcv-test-merror:0.1271164+0.00590646434341\tcv-train-merror:0.0150958+0.00133564881612\n",
      "[77]\tcv-test-merror:0.1277778+0.0052269749722\tcv-train-merror:0.0142694+0.00116534657506\n",
      "[78]\tcv-test-merror:0.1271164+0.00569937360067\tcv-train-merror:0.0136904+0.00111255572445\n",
      "[79]\tcv-test-merror:0.126984+0.00547792767386\tcv-train-merror:0.0130456+0.00128007509155\n",
      "[80]\tcv-test-merror:0.126058+0.00567163845815\tcv-train-merror:0.0122024+0.00106732161976\n",
      "[81]\tcv-test-merror:0.1262566+0.00551534994719\tcv-train-merror:0.0117392+0.00117715409357\n",
      "[82]\tcv-test-merror:0.1254628+0.00606739619277\tcv-train-merror:0.0109954+0.00110055487823\n",
      "[83]\tcv-test-merror:0.1256614+0.00646676928922\tcv-train-merror:0.010549+0.00090648772744\n",
      "[84]\tcv-test-merror:0.125066+0.0060881545644\tcv-train-merror:0.009954+0.00105042505682\n",
      "[85]\tcv-test-merror:0.1251984+0.00539171503698\tcv-train-merror:0.0096068+0.00101306197244\n",
      "[86]\tcv-test-merror:0.1253308+0.00595611341061\tcv-train-merror:0.0090114+0.00101532036324\n",
      "[87]\tcv-test-merror:0.1253306+0.00631942929702\tcv-train-merror:0.0087134+0.000925896452094\n",
      "[88]\tcv-test-merror:0.125132+0.00650239214443\tcv-train-merror:0.0081682+0.000749412943577\n",
      "[89]\tcv-test-merror:0.124471+0.00612836053117\tcv-train-merror:0.0077382+0.000677017400072\n",
      "[90]\tcv-test-merror:0.12414+0.00653584201155\tcv-train-merror:0.0071428+0.000756985970808\n",
      "[91]\tcv-test-merror:0.124074+0.00647804692789\tcv-train-merror:0.0069278+0.000790475907286\n",
      "[92]\tcv-test-merror:0.1241402+0.00598402350931\tcv-train-merror:0.0063988+0.000486457151248\n",
      "[93]\tcv-test-merror:0.123545+0.0061356044527\tcv-train-merror:0.0061342+0.0003637182426\n",
      "[94]\tcv-test-merror:0.1238754+0.0064041559194\tcv-train-merror:0.00582+0.000664759505385\n",
      "[95]\tcv-test-merror:0.1230818+0.00574083106876\tcv-train-merror:0.0057044+0.000675653343069\n",
      "[96]\tcv-test-merror:0.1229496+0.00611696217415\tcv-train-merror:0.0054232+0.000524454917033\n",
      "[97]\tcv-test-merror:0.1226192+0.00586137227618\tcv-train-merror:0.0051258+0.000582331314631\n",
      "[98]\tcv-test-merror:0.1226192+0.00609540503658\tcv-train-merror:0.0049766+0.000594692391073\n",
      "[99]\tcv-test-merror:0.1222884+0.00680725485346\tcv-train-merror:0.0047784+0.000554266578462\n",
      "[100]\tcv-test-merror:0.1224866+0.0060168914765\tcv-train-merror:0.0044976+0.000420309219504\n",
      "[101]\tcv-test-merror:0.121693+0.00638825656968\tcv-train-merror:0.0041006+0.000439477234905\n",
      "[102]\tcv-test-merror:0.121164+0.00622057672567\tcv-train-merror:0.0038528+0.00052962681201\n",
      "[103]\tcv-test-merror:0.1211638+0.00598380024399\tcv-train-merror:0.0034228+0.000585901493427\n",
      "[104]\tcv-test-merror:0.1207012+0.0057008184465\tcv-train-merror:0.0033564+0.00059733327381\n",
      "[105]\tcv-test-merror:0.1218254+0.0061391230188\tcv-train-merror:0.0032076+0.000494203439891\n",
      "[106]\tcv-test-merror:0.1217592+0.00585040181184\tcv-train-merror:0.002877+0.00030220522828\n",
      "[107]\tcv-test-merror:0.121627+0.00639314170029\tcv-train-merror:0.002728+0.000366056279826\n",
      "[108]\tcv-test-merror:0.1208336+0.00588047843632\tcv-train-merror:0.0025132+0.000400438959144\n",
      "[109]\tcv-test-merror:0.1207012+0.00603252565349\tcv-train-merror:0.0024142+0.000396096654871\n",
      "[110]\tcv-test-merror:0.1205026+0.00576023373137\tcv-train-merror:0.0023148+0.00035067785787\n",
      "[111]\tcv-test-merror:0.120172+0.00580210058513\tcv-train-merror:0.0021662+0.00034047460992\n",
      "[112]\tcv-test-merror:0.1202382+0.0060818792622\tcv-train-merror:0.0020338+0.000341360454652\n",
      "[113]\tcv-test-merror:0.120304+0.00653511478094\tcv-train-merror:0.0018848+0.000319705114129\n",
      "[114]\tcv-test-merror:0.1205688+0.00597662906328\tcv-train-merror:0.0018352+0.000263205167123\n",
      "[115]\tcv-test-merror:0.120172+0.00612478394721\tcv-train-merror:0.0016864+0.000284469752346\n",
      "[116]\tcv-test-merror:0.119775+0.00680079057169\tcv-train-merror:0.001422+0.000374610197405\n",
      "[117]\tcv-test-merror:0.1198412+0.00702312885828\tcv-train-merror:0.0013228+0.000228089806874\n",
      "[118]\tcv-test-merror:0.1193782+0.00723598505803\tcv-train-merror:0.0011904+0.000312074093766\n",
      "[119]\tcv-test-merror:0.1197088+0.00694899821269\tcv-train-merror:0.0011076+0.000320400749063\n",
      "[120]\tcv-test-merror:0.11918+0.0068399725438\tcv-train-merror:0.000992+0.000330750056689\n",
      "[121]\tcv-test-merror:0.1189814+0.00635879977983\tcv-train-merror:0.0009756+0.000359946996098\n",
      "[122]\tcv-test-merror:0.1193784+0.00624298699662\tcv-train-merror:0.0009094+0.000326811015726\n",
      "[123]\tcv-test-merror:0.1189814+0.00629662451159\tcv-train-merror:0.000777+0.000269781392983\n",
      "[124]\tcv-test-merror:0.1187832+0.00579744369184\tcv-train-merror:0.0007606+0.000306482364909\n",
      "[125]\tcv-test-merror:0.1189814+0.00619851503507\tcv-train-merror:0.000711+0.000237516315229\n",
      "[126]\tcv-test-merror:0.11918+0.00634925000295\tcv-train-merror:0.0006944+0.000213146522374\n",
      "[127]\tcv-test-merror:0.1189154+0.00638700451229\tcv-train-merror:0.0006782+0.000121494691242\n",
      "[128]\tcv-test-merror:0.1185186+0.00668815411306\tcv-train-merror:0.0005788+0.000165300211736\n",
      "[129]\tcv-test-merror:0.1185844+0.00688791383802\tcv-train-merror:0.0005786+0.000195399692937\n",
      "[130]\tcv-test-merror:0.1181878+0.00780488355839\tcv-train-merror:0.000463+0.000219500341685\n",
      "[131]\tcv-test-merror:0.1178572+0.00727394422305\tcv-train-merror:0.000463+0.000219500341685\n",
      "[132]\tcv-test-merror:0.118254+0.00727061645254\tcv-train-merror:0.0003802+0.000237265589583\n",
      "[133]\tcv-test-merror:0.1175266+0.00667517489209\tcv-train-merror:0.0003638+0.000178026290193\n",
      "[134]\tcv-test-merror:0.118386+0.00734988688348\tcv-train-merror:0.0003306+0.000173339666551\n",
      "[135]\tcv-test-merror:0.1180558+0.00740912111927\tcv-train-merror:0.0002976+0.000153252210425\n",
      "[136]\tcv-test-merror:0.1180556+0.00741805951985\tcv-train-merror:0.0002976+0.000192867415599\n",
      "[137]\tcv-test-merror:0.1179232+0.00756872933589\tcv-train-merror:0.0002644+0.000176509036596\n",
      "[138]\tcv-test-merror:0.1177248+0.0067997525955\tcv-train-merror:0.0002644+0.000176509036596\n",
      "[139]\tcv-test-merror:0.1173942+0.00690797960043\tcv-train-merror:0.0002314+0.000142217579785\n",
      "[140]\tcv-test-merror:0.1175266+0.00747269912682\tcv-train-merror:0.0002148+0.00016203382363\n",
      "[141]\tcv-test-merror:0.1174604+0.00754176331106\tcv-train-merror:0.0002148+0.00016203382363\n",
      "[142]\tcv-test-merror:0.1177248+0.00717217499508\tcv-train-merror:0.0001652+0.000138168592669\n",
      "[143]\tcv-test-merror:0.1184524+0.00728537698681\tcv-train-merror:0.0001486+0.000151399603698\n",
      "[144]\tcv-test-merror:0.1183862+0.00720549233294\tcv-train-merror:0.0001322+0.000123795638049\n",
      "[145]\tcv-test-merror:0.1181218+0.00723721817828\tcv-train-merror:0.0001156+9.91334454158e-05\n",
      "[146]\tcv-test-merror:0.1180556+0.00723592107751\tcv-train-merror:0.0001156+9.91334454158e-05\n",
      "[147]\tcv-test-merror:0.117791+0.00707842649181\tcv-train-merror:0.0001156+9.91334454158e-05\n",
      "[148]\tcv-test-merror:0.117328+0.00703188577837\tcv-train-merror:9.92e-05+9.63481188192e-05\n",
      "[149]\tcv-test-merror:0.1171958+0.00682429848116\tcv-train-merror:9.92e-05+9.63481188192e-05\n",
      "[150]\tcv-test-merror:0.117328+0.00655190876005\tcv-train-merror:8.28e-05+9.05569434113e-05\n",
      "[151]\tcv-test-merror:0.1169312+0.00657617564851\tcv-train-merror:8.28e-05+9.05569434113e-05\n",
      "[152]\tcv-test-merror:0.116865+0.00728010648274\tcv-train-merror:8.28e-05+9.05569434113e-05\n",
      "[153]\tcv-test-merror:0.116865+0.00682423645546\tcv-train-merror:8.28e-05+9.05569434113e-05\n",
      "[154]\tcv-test-merror:0.1169974+0.00656544799995\tcv-train-merror:8.28e-05+9.05569434113e-05\n",
      "[155]\tcv-test-merror:0.1165344+0.00656933499222\tcv-train-merror:9.92e-05+9.63481188192e-05\n",
      "[156]\tcv-test-merror:0.1169312+0.00664562121701\tcv-train-merror:9.92e-05+9.63481188192e-05\n",
      "[157]\tcv-test-merror:0.1167328+0.00685752186726\tcv-train-merror:6.62e-05+6.17912615181e-05\n",
      "[158]\tcv-test-merror:0.1166004+0.00711581783353\tcv-train-merror:6.62e-05+6.17912615181e-05\n",
      "[159]\tcv-test-merror:0.1169312+0.00771449486097\tcv-train-merror:6.6e-05+8.08331615118e-05\n",
      "[160]\tcv-test-merror:0.1167328+0.00782820120845\tcv-train-merror:3.3e-05+6.6e-05\n",
      "[161]\tcv-test-merror:0.1164022+0.0069461774639\tcv-train-merror:3.3e-05+6.6e-05\n",
      "[162]\tcv-test-merror:0.1166004+0.00722292878547\tcv-train-merror:3.3e-05+6.6e-05\n",
      "[163]\tcv-test-merror:0.1166668+0.00738367898544\tcv-train-merror:3.3e-05+6.6e-05\n",
      "[164]\tcv-test-merror:0.1164022+0.00732005839867\tcv-train-merror:4.96e-05+6.60502838752e-05\n",
      "[165]\tcv-test-merror:0.1158732+0.00727690149445\tcv-train-merror:1.66e-05+3.32e-05\n",
      "[166]\tcv-test-merror:0.1166666+0.00720080688812\tcv-train-merror:0.0+0.0\n",
      "[167]\tcv-test-merror:0.1160716+0.00745319127891\tcv-train-merror:0.0+0.0\n",
      "[168]\tcv-test-merror:0.1165344+0.00751064653941\tcv-train-merror:0.0+0.0\n",
      "[169]\tcv-test-merror:0.1162696+0.00729490640379\tcv-train-merror:0.0+0.0\n",
      "[170]\tcv-test-merror:0.1165342+0.0071708919501\tcv-train-merror:0.0+0.0\n",
      "[171]\tcv-test-merror:0.1164684+0.00748680686541\tcv-train-merror:0.0+0.0\n",
      "[172]\tcv-test-merror:0.1166666+0.00711831063104\tcv-train-merror:0.0+0.0\n",
      "[173]\tcv-test-merror:0.1166006+0.00704182023627\tcv-train-merror:0.0+0.0\n",
      "[174]\tcv-test-merror:0.115873+0.00689734743217\tcv-train-merror:0.0+0.0\n",
      "[175]\tcv-test-merror:0.1160052+0.00709056687156\tcv-train-merror:0.0+0.0\n",
      "[176]\tcv-test-merror:0.1162698+0.00790774583304\tcv-train-merror:0.0+0.0\n",
      "[177]\tcv-test-merror:0.1165346+0.0079628911232\tcv-train-merror:0.0+0.0\n",
      "[178]\tcv-test-merror:0.1163358+0.00800067150682\tcv-train-merror:0.0+0.0\n",
      "[179]\tcv-test-merror:0.1166664+0.0078988754035\tcv-train-merror:0.0+0.0\n",
      "[180]\tcv-test-merror:0.116402+0.00743879697263\tcv-train-merror:0.0+0.0\n",
      "[181]\tcv-test-merror:0.1166004+0.00751626454032\tcv-train-merror:0.0+0.0\n",
      "[182]\tcv-test-merror:0.1162036+0.00775725143591\tcv-train-merror:0.0+0.0\n",
      "[183]\tcv-test-merror:0.1169312+0.00725264242604\tcv-train-merror:0.0+0.0\n",
      "[184]\tcv-test-merror:0.1170634+0.00760148600209\tcv-train-merror:0.0+0.0\n",
      "[185]\tcv-test-merror:0.1177248+0.007473955135\tcv-train-merror:0.0+0.0\n",
      "[186]\tcv-test-merror:0.116865+0.00788575150509\tcv-train-merror:0.0+0.0\n",
      "[187]\tcv-test-merror:0.1166666+0.00817366890937\tcv-train-merror:0.0+0.0\n",
      "[188]\tcv-test-merror:0.1164686+0.00818447245948\tcv-train-merror:0.0+0.0\n",
      "[189]\tcv-test-merror:0.1164022+0.00839436307054\tcv-train-merror:0.0+0.0\n",
      "[190]\tcv-test-merror:0.1160716+0.00804867240233\tcv-train-merror:0.0+0.0\n",
      "[191]\tcv-test-merror:0.1162036+0.00820379077256\tcv-train-merror:0.0+0.0\n",
      "[192]\tcv-test-merror:0.1160052+0.00832232677561\tcv-train-merror:0.0+0.0\n",
      "[193]\tcv-test-merror:0.1164022+0.00821565866866\tcv-train-merror:0.0+0.0\n",
      "[194]\tcv-test-merror:0.116733+0.0084051048536\tcv-train-merror:0.0+0.0\n",
      "[195]\tcv-test-merror:0.1165344+0.00806398577876\tcv-train-merror:0.0+0.0\n",
      "[196]\tcv-test-merror:0.1167988+0.00809315180631\tcv-train-merror:0.0+0.0\n",
      "[197]\tcv-test-merror:0.1167328+0.00799404606942\tcv-train-merror:0.0+0.0\n",
      "[198]\tcv-test-merror:0.1166668+0.0079265293641\tcv-train-merror:0.0+0.0\n",
      "[199]\tcv-test-merror:0.1166006+0.0080503960797\tcv-train-merror:0.0+0.0\n",
      "[200]\tcv-test-merror:0.1169312+0.00814760935244\tcv-train-merror:0.0+0.0\n",
      "[201]\tcv-test-merror:0.1166668+0.00801728541091\tcv-train-merror:0.0+0.0\n",
      "[202]\tcv-test-merror:0.1167988+0.00808763687118\tcv-train-merror:0.0+0.0\n",
      "[203]\tcv-test-merror:0.1166664+0.00813346933602\tcv-train-merror:0.0+0.0\n",
      "[204]\tcv-test-merror:0.1165344+0.00819317576035\tcv-train-merror:0.0+0.0\n",
      "[205]\tcv-test-merror:0.116865+0.00781044234343\tcv-train-merror:0.0+0.0\n",
      "[206]\tcv-test-merror:0.1165344+0.00758304969257\tcv-train-merror:0.0+0.0\n",
      "[207]\tcv-test-merror:0.1167328+0.00755524960276\tcv-train-merror:0.0+0.0\n",
      "[208]\tcv-test-merror:0.1167328+0.00744443720908\tcv-train-merror:0.0+0.0\n",
      "[209]\tcv-test-merror:0.1167988+0.00742800159935\tcv-train-merror:0.0+0.0\n",
      "[210]\tcv-test-merror:0.1166668+0.0077197240987\tcv-train-merror:0.0+0.0\n",
      "[211]\tcv-test-merror:0.116799+0.0080062397416\tcv-train-merror:0.0+0.0\n",
      "[212]\tcv-test-merror:0.1167328+0.00777796822827\tcv-train-merror:0.0+0.0\n",
      "[213]\tcv-test-merror:0.1171294+0.00794587997896\tcv-train-merror:0.0+0.0\n",
      "[214]\tcv-test-merror:0.1169972+0.00822452406891\tcv-train-merror:0.0+0.0\n",
      "[215]\tcv-test-merror:0.1166006+0.00809100677543\tcv-train-merror:0.0+0.0\n",
      "[216]\tcv-test-merror:0.1167326+0.00832124650759\tcv-train-merror:0.0+0.0\n",
      "[217]\tcv-test-merror:0.1168652+0.00819054448495\tcv-train-merror:0.0+0.0\n",
      "[218]\tcv-test-merror:0.1164022+0.00829761675181\tcv-train-merror:0.0+0.0\n",
      "[219]\tcv-test-merror:0.1167328+0.00801042601614\tcv-train-merror:0.0+0.0\n",
      "[220]\tcv-test-merror:0.1165344+0.00807206797791\tcv-train-merror:0.0+0.0\n",
      "[221]\tcv-test-merror:0.1162038+0.00838589490514\tcv-train-merror:0.0+0.0\n",
      "[222]\tcv-test-merror:0.1164682+0.00817942664005\tcv-train-merror:0.0+0.0\n",
      "[223]\tcv-test-merror:0.1162698+0.00821976725705\tcv-train-merror:0.0+0.0\n",
      "[224]\tcv-test-merror:0.1162036+0.00787745127817\tcv-train-merror:0.0+0.0\n",
      "[225]\tcv-test-merror:0.1162698+0.00750457488203\tcv-train-merror:0.0+0.0\n",
      "[226]\tcv-test-merror:0.1161376+0.00786003477346\tcv-train-merror:0.0+0.0\n",
      "[227]\tcv-test-merror:0.1159392+0.00790220026069\tcv-train-merror:0.0+0.0\n",
      "[228]\tcv-test-merror:0.1160716+0.00767009816365\tcv-train-merror:0.0+0.0\n",
      "[229]\tcv-test-merror:0.1154762+0.00788774105559\tcv-train-merror:0.0+0.0\n",
      "[230]\tcv-test-merror:0.1156086+0.00785243899944\tcv-train-merror:0.0+0.0\n",
      "[231]\tcv-test-merror:0.1154102+0.00776366494383\tcv-train-merror:0.0+0.0\n",
      "[232]\tcv-test-merror:0.1156746+0.00713998357421\tcv-train-merror:0.0+0.0\n",
      "[233]\tcv-test-merror:0.1155426+0.00710050678755\tcv-train-merror:0.0+0.0\n",
      "[234]\tcv-test-merror:0.1156086+0.00714962353135\tcv-train-merror:0.0+0.0\n",
      "[235]\tcv-test-merror:0.11541+0.00747118210192\tcv-train-merror:0.0+0.0\n",
      "[236]\tcv-test-merror:0.1156084+0.00734874467103\tcv-train-merror:0.0+0.0\n",
      "[237]\tcv-test-merror:0.1156748+0.00757958134464\tcv-train-merror:0.0+0.0\n",
      "[238]\tcv-test-merror:0.1152778+0.00759448967081\tcv-train-merror:0.0+0.0\n",
      "[239]\tcv-test-merror:0.1156746+0.00741039147684\tcv-train-merror:0.0+0.0\n",
      "[240]\tcv-test-merror:0.1156084+0.00714985109216\tcv-train-merror:0.0+0.0\n",
      "[241]\tcv-test-merror:0.1158072+0.00686822339182\tcv-train-merror:0.0+0.0\n",
      "[242]\tcv-test-merror:0.11541+0.00742375115423\tcv-train-merror:0.0+0.0\n",
      "[243]\tcv-test-merror:0.1154762+0.00712441069563\tcv-train-merror:0.0+0.0\n",
      "[244]\tcv-test-merror:0.114947+0.00697931592636\tcv-train-merror:0.0+0.0\n",
      "[245]\tcv-test-merror:0.115344+0.00694092060176\tcv-train-merror:0.0+0.0\n",
      "[246]\tcv-test-merror:0.1152118+0.00716800905133\tcv-train-merror:0.0+0.0\n",
      "[247]\tcv-test-merror:0.1152778+0.007213416705\tcv-train-merror:0.0+0.0\n",
      "[248]\tcv-test-merror:0.1151456+0.00662506095368\tcv-train-merror:0.0+0.0\n",
      "[249]\tcv-test-merror:0.1151454+0.00687127634723\tcv-train-merror:0.0+0.0\n"
     ]
    }
   ],
   "source": [
    "xgbCvResult = xgb.cv(param, dtrain, \n",
    "                      num_boost_round=250,  \n",
    "                      nfold=5, show_progress=True)"
   ]
  },
  {
   "cell_type": "code",
   "execution_count": 132,
   "metadata": {
    "collapsed": false
   },
   "outputs": [
    {
     "data": {
      "text/plain": [
       "[<matplotlib.lines.Line2D at 0x18c9d51d0>]"
      ]
     },
     "execution_count": 132,
     "metadata": {},
     "output_type": "execute_result"
    },
    {
     "data": {
      "image/png": "[encoded data removed]",
      "text/plain": [
       "<matplotlib.figure.Figure at 0x11648bb10>"
      ]
     },
     "metadata": {},
     "output_type": "display_data"
    }
   ],
   "source": [
    "plot(range(xgbCvResult.shape[0]), xgbCvResult['test-merror-mean'])\n",
    "plot(range(xgbCvResult.shape[0]), xgbCvResult['train-merror-mean'])"
   ]
  },
  {
   "cell_type": "code",
   "execution_count": 133,
   "metadata": {
    "collapsed": false
   },
   "outputs": [],
   "source": [
    "best_num_round = np.argmin(xgbCvResult['test-merror-mean'])"
   ]
  },
  {
   "cell_type": "markdown",
   "metadata": {},
   "source": [
    "**Сделаем прогноз для всей тестовой выборки.**"
   ]
  },
  {
   "cell_type": "code",
   "execution_count": 140,
   "metadata": {
    "collapsed": false
   },
   "outputs": [],
   "source": [
    "bestXgb = xgb.train(param, dtrain, 750)"
   ]
  },
  {
   "cell_type": "code",
   "execution_count": 141,
   "metadata": {
    "collapsed": false
   },
   "outputs": [],
   "source": [
    "dtest = xgb.DMatrix(test_df)"
   ]
  },
  {
   "cell_type": "code",
   "execution_count": 142,
   "metadata": {
    "collapsed": false
   },
   "outputs": [],
   "source": [
    "xgboost_predict_proba = bestXgb.predict(dtest)"
   ]
  },
  {
   "cell_type": "code",
   "execution_count": 143,
   "metadata": {
    "collapsed": false
   },
   "outputs": [],
   "source": [
    "xgboost_prediction = np.argmax(xgboost_predict_proba,\n",
    "                                         axis=1)"
   ]
  },
  {
   "cell_type": "markdown",
   "metadata": {},
   "source": [
    "**Важный шаг: мы вычитали из целевых меток 1, теперь добавляем.**"
   ]
  },
  {
   "cell_type": "code",
   "execution_count": 144,
   "metadata": {
    "collapsed": true
   },
   "outputs": [],
   "source": [
    "xgboost_prediction += 1"
   ]
  },
  {
   "cell_type": "code",
   "execution_count": 145,
   "metadata": {
    "collapsed": false
   },
   "outputs": [],
   "source": [
    "write_to_submission_file(xgboost_prediction, \n",
    "                         '../../output/forest_cover_type_xgboost.csv')"
   ]
  },
  {
   "cell_type": "markdown",
   "metadata": {},
   "source": [
    "**У такой посылки на Kaggle результат - 0.77842.**"
   ]
  }
 ],
 "metadata": {
  "kernelspec": {
   "display_name": "Python 2",
   "language": "python",
   "name": "python2"
  },
  "language_info": {
   "codemirror_mode": {
    "name": "ipython",
    "version": 2
   },
   "file_extension": ".py",
   "mimetype": "text/x-python",
   "name": "python",
   "nbconvert_exporter": "python",
   "pygments_lexer": "ipython2",
   "version": "2.7.11"
  },
  "name": "ForestCoverType.ipynb"
 },
 "nbformat": 4,
 "nbformat_minor": 0
}
