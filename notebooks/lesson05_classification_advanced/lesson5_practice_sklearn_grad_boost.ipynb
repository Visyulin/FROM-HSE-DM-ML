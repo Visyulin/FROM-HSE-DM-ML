{
 "cells": [
  {
   "cell_type": "markdown",
   "metadata": {},
   "source": [
    "<center>\n",
    "<img src=\"../../img/ml_theme.png\">\n",
    "# Дополнительное профессиональное <br> образование НИУ ВШЭ\n",
    "#### Программа \"Машинное обучение и майнинг данных\"\n",
    "<img src=\"../../img/faculty_logo.jpg\" height=\"240\" width=\"240\">\n",
    "## Автор материала: преподаватель Факультета Компьютерных Наук НИУ ВШЭ Кашницкий Юрий\n",
    "</center>\n",
    "Материал распространяется на условиях лицензии <a href=\"https://opensource.org/licenses/MS-RL\">Ms-RL</a>. Можно использовать в любых целях, кроме коммерческих, но с обязательным упоминанием автора материала."
   ]
  },
  {
   "cell_type": "markdown",
   "metadata": {},
   "source": [
    "# Занятие 5. Продвинутые методы классификации и регрессии"
   ]
  },
  {
   "cell_type": "markdown",
   "metadata": {},
   "source": [
    "### Практика. Градиентный бустинг с набором данных \"Титаник\""
   ]
  },
  {
   "cell_type": "code",
   "execution_count": 5,
   "metadata": {
    "collapsed": false
   },
   "outputs": [
    {
     "name": "stdout",
     "output_type": "stream",
     "text": [
      "Populating the interactive namespace from numpy and matplotlib\n"
     ]
    },
    {
     "name": "stderr",
     "output_type": "stream",
     "text": [
      "WARNING: pylab import has clobbered these variables: ['test']\n",
      "`%matplotlib` prevents importing * from pylab and numpy\n"
     ]
    }
   ],
   "source": [
    "from __future__ import division, print_function\n",
    "# отключим всякие предупреждения Anaconda\n",
    "import warnings\n",
    "warnings.filterwarnings('ignore')\n",
    "import numpy as np\n",
    "import pandas as pd\n",
    "from sklearn.ensemble import GradientBoostingClassifier\n",
    "from sklearn.cross_validation import train_test_split\n",
    "from sklearn.learning_curve import validation_curve\n",
    "from sklearn.metrics import log_loss\n",
    "import matplotlib.pyplot as plt\n",
    "%pylab inline\n",
    "import sys\n",
    "sys.path.append('../../scripts/')\n",
    "from load_titanic_with_features import load_titanic"
   ]
  },
  {
   "cell_type": "markdown",
   "metadata": {},
   "source": [
    "Загружаем данные."
   ]
  },
  {
   "cell_type": "code",
   "execution_count": 6,
   "metadata": {
    "collapsed": false
   },
   "outputs": [],
   "source": [
    "train, y, test = map(np.array, \n",
    "                     load_titanic(\"../../data/titanic_train.csv\",\n",
    "                                   \"../../data/titanic_test.csv\"))"
   ]
  },
  {
   "cell_type": "code",
   "execution_count": 3,
   "metadata": {
    "collapsed": false
   },
   "outputs": [
    {
     "data": {
      "text/plain": [
       "array([[3, 0, 22.0, 7.25, 0, 1, 1, -1],\n",
       "       [1, 1, 38.0, 71.2833, 1, 1, 3, -1],\n",
       "       [3, 1, 26.0, 7.925, 0, 0, 2, -1],\n",
       "       [1, 1, 35.0, 53.1, 0, 1, 3, -1],\n",
       "       [3, 0, 35.0, 8.05, 0, 0, 1, -1]], dtype=object)"
      ]
     },
     "execution_count": 3,
     "metadata": {},
     "output_type": "execute_result"
    }
   ],
   "source": [
    "train[:5]"
   ]
  },
  {
   "cell_type": "markdown",
   "metadata": {},
   "source": [
    "Разбиваем выборку на обучающую и валидационную."
   ]
  },
  {
   "cell_type": "code",
   "execution_count": 4,
   "metadata": {
    "collapsed": true
   },
   "outputs": [],
   "source": [
    "X_train, X_test, y_train, y_test = train_test_split(train, y,\n",
    "                                                    test_size=0.2,\n",
    "                                                    random_state=1)"
   ]
  },
  {
   "cell_type": "markdown",
   "metadata": {},
   "source": [
    "Пригодится сигмоида для преобразования ответов."
   ]
  },
  {
   "cell_type": "code",
   "execution_count": 5,
   "metadata": {
    "collapsed": true
   },
   "outputs": [],
   "source": [
    "def sigmoid(x):\n",
    "    return 1. / (1 + np.exp(-x))"
   ]
  },
  {
   "cell_type": "markdown",
   "metadata": {},
   "source": [
    "Создадим словарь, в котором будем хранить ошибки на обучающей и валидационной выборках (для каждого объекта) в зависимости от параметра градиентного бустинга learning_rate."
   ]
  },
  {
   "cell_type": "code",
   "execution_count": 6,
   "metadata": {
    "collapsed": true
   },
   "outputs": [],
   "source": [
    "losses_by_lrate = {} # l_rate: [train_losses, test_losses]"
   ]
  },
  {
   "cell_type": "markdown",
   "metadata": {},
   "source": [
    "При работе с градиентным бустингом удобно отслеживать ошибки на обучающей и валидационной выборках в зависимости от номера итерации бустинга. Для этого подходит метод staged_decision_function класса GradientBoostingClassifier. Метод возвращает ответы, которые еще надо превратить в прогнозы с помощью сигмоиды."
   ]
  },
  {
   "cell_type": "markdown",
   "metadata": {},
   "source": [
    "**В цикле по набору значений параметра learning_rate обучайте градиентный бустинг с сотней итераций (n_estimators=100). Используйте параметр random_state=42. Посчитайте для каждой итерации ошибку logloss на обучающей и валидационной выборках. Предсказания алгоритма считайте как сигмоида от ответа (метод staged_decision_function). Таким образом, составьте словарь ошибок, где ключами будут значения параметра learning_rate, а значениями словаря будут списки ошибок.**"
   ]
  },
  {
   "cell_type": "code",
   "execution_count": null,
   "metadata": {
    "collapsed": false
   },
   "outputs": [],
   "source": [
    "%%time\n",
    "for learning_rate in [0.01, 0.03, 0.05, 0.1,\n",
    "                      0.2, 0.3, 0.5, 1]:\n",
    "    clf = GradientBoostingClassifier\n",
    "    clf.fit(X_train, y_train)\n",
    "    train_losses = # Ваш код здесь\n",
    "    test_losses = # Ваш код здесь\n",
    "    losses_by_lrate[learning_rate] = [train_losses, test_losses]  "
   ]
  },
  {
   "cell_type": "markdown",
   "metadata": {},
   "source": [
    "Нарисуем, как меняются ошибки на обучающей и валидационной выборках в зависимости от итерации обучения при learning_rate=0.01."
   ]
  },
  {
   "cell_type": "code",
   "execution_count": null,
   "metadata": {
    "collapsed": true
   },
   "outputs": [],
   "source": [
    "def plot_valid_curves(losses_by_lrate, learn_rate):\n",
    "    train_losses = losses_by_lrate[learn_rate][0] \n",
    "    test_losses = losses_by_lrate[learn_rate][1]\n",
    "    plot(np.arange(1, len(train_losses) + 1), train_losses, color='green')\n",
    "    plot(np.arange(1, len(test_losses) + 1), test_losses, color='red')"
   ]
  },
  {
   "cell_type": "code",
   "execution_count": null,
   "metadata": {
    "collapsed": false
   },
   "outputs": [],
   "source": [
    "plot_valid_curves(losses_by_lrate, 0.01)"
   ]
  },
  {
   "cell_type": "markdown",
   "metadata": {},
   "source": [
    "Нарисуем, как меняются ошибки на обучающей и валидационной выборках в зависимости от итерации обучения при learning_rate=0.03."
   ]
  },
  {
   "cell_type": "code",
   "execution_count": null,
   "metadata": {
    "collapsed": false
   },
   "outputs": [],
   "source": [
    "plot_valid_curves(losses_by_lrate, 0.03)"
   ]
  },
  {
   "cell_type": "markdown",
   "metadata": {},
   "source": [
    "Нарисуем, как меняются ошибки на обучающей и валидационной выборках в зависимости от итерации обучения при learning_rate=0.05."
   ]
  },
  {
   "cell_type": "code",
   "execution_count": null,
   "metadata": {
    "collapsed": false
   },
   "outputs": [],
   "source": [
    "plot_valid_curves(losses_by_lrate, 0.05)"
   ]
  },
  {
   "cell_type": "markdown",
   "metadata": {},
   "source": [
    "Нарисуем, как меняются ошибки на обучающей и валидационной выборках в зависимости от итерации обучения при learning_rate=0.1."
   ]
  },
  {
   "cell_type": "code",
   "execution_count": null,
   "metadata": {
    "collapsed": false
   },
   "outputs": [],
   "source": [
    "plot_valid_curves(losses_by_lrate, 0.1)"
   ]
  },
  {
   "cell_type": "markdown",
   "metadata": {},
   "source": [
    "Нарисуем, как меняются ошибки на обучающей и валидационной выборках в зависимости от итерации обучения при learning_rate=0.2."
   ]
  },
  {
   "cell_type": "code",
   "execution_count": null,
   "metadata": {
    "collapsed": false
   },
   "outputs": [],
   "source": [
    "plot_valid_curves(losses_by_lrate, 0.2)"
   ]
  },
  {
   "cell_type": "markdown",
   "metadata": {},
   "source": [
    "Нарисуем, как меняются ошибки на обучающей и валидационной выборках в зависимости от итерации обучения при learning_rate=0.3."
   ]
  },
  {
   "cell_type": "code",
   "execution_count": null,
   "metadata": {
    "collapsed": false
   },
   "outputs": [],
   "source": [
    "plot_valid_curves(losses_by_lrate, 0.3)"
   ]
  },
  {
   "cell_type": "markdown",
   "metadata": {},
   "source": [
    "Нарисуем, как меняются ошибки на обучающей и валидационной выборках в зависимости от итерации обучения при learning_rate=1."
   ]
  },
  {
   "cell_type": "code",
   "execution_count": null,
   "metadata": {
    "collapsed": false
   },
   "outputs": [],
   "source": [
    "plot_valid_curves(losses_by_lrate, 1)"
   ]
  },
  {
   "cell_type": "markdown",
   "metadata": {},
   "source": [
    "Построим валидационную кривую при фиксированном параметре скорости обучения learning_rate=0.05 и значениях числа итераций бустинга (n_estimators), меняющихся от 1 до 251 с шагом 5. Применим 3-кратную кроссвалидацию с параметром random_state=42."
   ]
  },
  {
   "cell_type": "code",
   "execution_count": null,
   "metadata": {
    "collapsed": false
   },
   "outputs": [],
   "source": [
    "%%time\n",
    "clf = GradientBoostingClassifier(learning_rate=0.05,\n",
    "                                     verbose=False, random_state=42)\n",
    "\n",
    "n_estim = np.arange(1, 252, 5)\n",
    "\n",
    "val_train, val_test = validation_curve(estimator=clf, X=X_train, \n",
    "                                       y=y_train,\n",
    "                                       param_name='n_estimators', \n",
    "                                       param_range=n_estim, cv=3,\n",
    "                                       scoring='log_loss')"
   ]
  },
  {
   "cell_type": "markdown",
   "metadata": {},
   "source": [
    "Отобразим валидационные кривые."
   ]
  },
  {
   "cell_type": "code",
   "execution_count": null,
   "metadata": {
    "collapsed": true
   },
   "outputs": [],
   "source": [
    "def plot_with_err(x, data, **kwargs):\n",
    "    mu, std = data.mean(1), data.std(1)\n",
    "    lines = plt.plot(x, mu, '-', **kwargs)\n",
    "    plt.fill_between(x, mu - std, mu + std, edgecolor='none',\n",
    "                     facecolor=lines[0].get_color(), alpha=0.2)"
   ]
  },
  {
   "cell_type": "code",
   "execution_count": null,
   "metadata": {
    "collapsed": false
   },
   "outputs": [],
   "source": [
    "plot_with_err(n_estim, val_train, label='training scores')\n",
    "plot_with_err(n_estim, val_test, label='validation scores')\n",
    "plt.xlabel('# estimators'); plt.ylabel('log logss')\n",
    "plt.legend();"
   ]
  },
  {
   "cell_type": "markdown",
   "metadata": {},
   "source": [
    "Лучшая ошибка на валидационной выборке и соответствующее число итераций:"
   ]
  },
  {
   "cell_type": "code",
   "execution_count": null,
   "metadata": {
    "collapsed": false
   },
   "outputs": [],
   "source": [
    "val_test_errors = val_test.mean(1)\n",
    "max(val_test_errors), n_estim[np.argmax(val_test_errors)]"
   ]
  },
  {
   "cell_type": "markdown",
   "metadata": {},
   "source": [
    "**Постройте валидационные кривые при фиксированном параметре числа итераций бустинга n_estimators=86 и 30 значениях параметра скорости обучения (learning_rate) от 0.01 до 1. Примените 3-кратную кроссвалидацию с параметром random_state=42. Отслеживайте ошибку logloss. Это все делается с помощью метода sklearn.learning_curve.validation_curve.**"
   ]
  },
  {
   "cell_type": "code",
   "execution_count": null,
   "metadata": {
    "collapsed": false
   },
   "outputs": [],
   "source": [
    "%%time\n",
    "clf = GradientBoostingClassifier # Ваш код здесь\n",
    "learn_rates = # Ваш код здесь\n",
    "val_train, val_test = validation_curve # Ваш код здесь"
   ]
  },
  {
   "cell_type": "markdown",
   "metadata": {},
   "source": [
    "**Отобразите валидационные кривые.**"
   ]
  },
  {
   "cell_type": "code",
   "execution_count": null,
   "metadata": {
    "collapsed": false
   },
   "outputs": [],
   "source": [
    "# Ваш код здесь"
   ]
  },
  {
   "cell_type": "markdown",
   "metadata": {},
   "source": [
    "**Определите лучшую ошибку на валидационной выборке и соответствующее значение параметра скорости обучения.**"
   ]
  },
  {
   "cell_type": "code",
   "execution_count": null,
   "metadata": {
    "collapsed": false
   },
   "outputs": [],
   "source": [
    "# Ваш код здесь"
   ]
  },
  {
   "cell_type": "markdown",
   "metadata": {},
   "source": [
    "**Для определенного на предыдущем шаге параметра скорости обучения (округлите до 3 знаков) обучите градиентый бустинг с 200 итерациями и посмотрите, как будут меняться ошибки на обучающей и валидационной выборках (опять метод staged_decision_function, ошибки можно записать в созданный ранее словать losses_by_lrate). Используйте параметр random_state=42. **"
   ]
  },
  {
   "cell_type": "code",
   "execution_count": null,
   "metadata": {
    "collapsed": true
   },
   "outputs": [],
   "source": [
    "opt_learning_rate = # Ваш код здесь\n",
    "clf = GradientBoostingClassifier # Ваш код здесь\n",
    "clf.fit(X_train, y_train)\n",
    "train_losses = # Ваш код здесь\n",
    "test_losses = # Ваш код здесь\n",
    "losses_by_lrate[opt_learning_rate] = [train_losses, test_losses]"
   ]
  },
  {
   "cell_type": "code",
   "execution_count": null,
   "metadata": {
    "collapsed": false
   },
   "outputs": [],
   "source": [
    "plot_valid_curves(losses_by_lrate, opt_learning_rate)"
   ]
  },
  {
   "cell_type": "markdown",
   "metadata": {},
   "source": [
    "**Убедитесь в том, что при большом числе итераций и малом темпе обучения градиентный бустинг почти не переобучается. Для этого сделайте все то же, что и на прошлом шаге, но с параметрами learning_rate=0.001 и n_estimators=10000.**"
   ]
  },
  {
   "cell_type": "code",
   "execution_count": null,
   "metadata": {
    "collapsed": false
   },
   "outputs": [],
   "source": [
    "%%time\n",
    "small_learning_rate = 0.001\n",
    "clf = GradientBoostingClassifier # Ваш код здесь\n",
    "clf.fit(X_train, y_train)\n",
    "train_losses = # Ваш код здесь\n",
    "test_losses = # Ваш код здесь\n",
    "losses_by_lrate[opt_learning_rate] = [train_losses, test_losses]"
   ]
  },
  {
   "cell_type": "code",
   "execution_count": null,
   "metadata": {
    "collapsed": false
   },
   "outputs": [],
   "source": [
    "plot_valid_curves(losses_by_lrate, small_learning_rate)"
   ]
  }
 ],
 "metadata": {
  "kernelspec": {
   "display_name": "Python 2",
   "language": "python",
   "name": "python2"
  },
  "language_info": {
   "codemirror_mode": {
    "name": "ipython",
    "version": 2
   },
   "file_extension": ".py",
   "mimetype": "text/x-python",
   "name": "python",
   "nbconvert_exporter": "python",
   "pygments_lexer": "ipython2",
   "version": "2.7.11"
  }
 },
 "nbformat": 4,
 "nbformat_minor": 0
}
