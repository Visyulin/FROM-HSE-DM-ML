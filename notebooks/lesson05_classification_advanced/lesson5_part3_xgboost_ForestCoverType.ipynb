{
 "cells": [
  {
   "cell_type": "markdown",
   "metadata": {},
   "source": [
    "<center>\n",
    "<img src=\"../../img/ml_theme.png\">\n",
    "# Дополнительное профессиональное <br> образование НИУ ВШЭ\n",
    "#### Программа \"Машинное обучение и майнинг данных\"\n",
    "<img src=\"../../img/faculty_logo.jpg\" height=\"240\" width=\"240\">\n",
    "## Автор материала: преподаватель Факультета Компьютерных Наук НИУ ВШЭ Кашницкий Юрий\n",
    "</center>\n",
    "Материал распространяется на условиях лицензии <a href=\"https://opensource.org/licenses/MS-RL\">Ms-RL</a>. Можно использовать в любых целях, кроме коммерческих, но с обязательным упоминанием автора материала."
   ]
  },
  {
   "cell_type": "markdown",
   "metadata": {},
   "source": [
    "# Занятие 5. Продвинутые методы классификации и регрессии"
   ]
  },
  {
   "cell_type": "markdown",
   "metadata": {},
   "source": [
    "## Часть 3. Xgboost в соревновании Kaggle Forest Cover Type Prediction"
   ]
  },
  {
   "cell_type": "markdown",
   "metadata": {},
   "source": [
    "[Соревнование](https://www.kaggle.com/c/forest-cover-type-prediction). \n",
    "Задача учебная. Предлагается предсказывать тип лесного покрытия на участках 30х30 метров Национального заповедника Рузвельта в Колорадо.\n",
    "\n",
    "Признаки (подробней на [странице](https://www.kaggle.com/c/forest-cover-type-prediction/data) соревнования):"
   ]
  },
  {
   "cell_type": "markdown",
   "metadata": {},
   "source": [
    "- Elevation (высота) - Elevation in meters\n",
    "- Aspect - Aspect in degrees azimuth\n",
    "- Slope (наклон) - Slope in degrees\n",
    "- Horizontal_Distance_To_Hydrology (горизонтальное расстояние до воды) - Horz Dist to nearest surface water features\n",
    "- Vertical_Distance_To_Hydrology (вертикальное расстояние до воды) - Vert Dist to nearest surface water features\n",
    "- Horizontal_Distance_To_Roadways (горизонтальное расстояние до дорог) - Horz Dist to nearest roadway\n",
    "- Hillshade_9am (0 to 255 index) - Hillshade index at 9am, summer solstice\n",
    "- Hillshade_Noon (0 to 255 index) - Hillshade index at noon, summer solstice\n",
    "- Hillshade_3pm (0 to 255 index) - Hillshade index at 3pm, summer solstice \n",
    "- Horizontal_Distance_To_Fire_Points (горизонтальное расстояние до центров воспламенения) - Horz Dist to nearest wildfire ignition points \n",
    "- Wilderness_Area (4 binary columns, 0 = absence or 1 = presence) - Wilderness area designation\n",
    "- Soil_Type (тип почвы) - (40 binary columns, 0 = absence or 1 = presence) - Soil Type designation\n",
    "Cover_Type (7 types, integers 1 to 7) - Forest Cover Type designation"
   ]
  },
  {
   "cell_type": "markdown",
   "metadata": {},
   "source": [
    "**Подключаем библиотеки и загружаем данные. Используем [log_progress](https://github.com/alexanderkuk/log-progress) для отслеживания итераций в циклах.**"
   ]
  },
  {
   "cell_type": "code",
   "execution_count": 1,
   "metadata": {
    "collapsed": false
   },
   "outputs": [
    {
     "name": "stdout",
     "output_type": "stream",
     "text": [
      "Populating the interactive namespace from numpy and matplotlib\n"
     ]
    }
   ],
   "source": [
    "from __future__ import division, print_function\n",
    "# отключим всякие предупреждения Anaconda\n",
    "import warnings\n",
    "warnings.filterwarnings('ignore')\n",
    "import pandas as pd\n",
    "import xgboost as xgb\n",
    "from sklearn.cross_validation import StratifiedKFold\n",
    "from sklearn.ensemble import RandomForestClassifier\n",
    "from sklearn.metrics import accuracy_score, confusion_matrix\n",
    "from sklearn.grid_search import GridSearchCV\n",
    "%pylab inline\n",
    "import matplotlib.pyplot as plt\n",
    "import numpy as np\n",
    "import sys\n",
    "sys.path.append('../../scripts/')\n",
    "from log_progress import log_progress"
   ]
  },
  {
   "cell_type": "code",
   "execution_count": 2,
   "metadata": {
    "collapsed": false
   },
   "outputs": [],
   "source": [
    "train = pd.read_csv('../../data/forest_train.csv')\n",
    "test = pd.read_csv('../../data/forest_test.csv')"
   ]
  },
  {
   "cell_type": "code",
   "execution_count": 3,
   "metadata": {
    "collapsed": true
   },
   "outputs": [],
   "source": [
    "def write_to_submission_file(predicted_labels, out_file,\n",
    "                             target='Cover_Type', index_label=\"Id\", init_index=15121):\n",
    "    # turn predictions into data frame and save as csv file\n",
    "    predicted_df = pd.DataFrame(predicted_labels,\n",
    "                                index = np.arange(init_index, \n",
    "                                                  predicted_labels.shape[0] + init_index),\n",
    "                                columns=[target])\n",
    "    predicted_df.to_csv(out_file, index_label=index_label)"
   ]
  },
  {
   "cell_type": "markdown",
   "metadata": {},
   "source": [
    "**Создаем признаки.**"
   ]
  },
  {
   "cell_type": "code",
   "execution_count": 4,
   "metadata": {
    "collapsed": false
   },
   "outputs": [],
   "source": [
    "train['Under_water'] = train.Vertical_Distance_To_Hydrology < 0\n",
    "test['Under_water'] = test.Vertical_Distance_To_Hydrology < 0"
   ]
  },
  {
   "cell_type": "code",
   "execution_count": 5,
   "metadata": {
    "collapsed": true
   },
   "outputs": [],
   "source": [
    "train['EVDtH'] = train.Elevation - train.Vertical_Distance_To_Hydrology\n",
    "test['EVDtH'] = test.Elevation - test.Vertical_Distance_To_Hydrology\n",
    "\n",
    "train['EHDtH'] = train.Elevation - train.Horizontal_Distance_To_Hydrology*0.2\n",
    "test['EHDtH'] = test.Elevation - test.Horizontal_Distance_To_Hydrology*0.2"
   ]
  },
  {
   "cell_type": "code",
   "execution_count": 6,
   "metadata": {
    "collapsed": false
   },
   "outputs": [],
   "source": [
    "train['Distanse_to_Hydrolody'] = (train['Horizontal_Distance_To_Hydrology'] ** 2 + \n",
    "                                  train['Vertical_Distance_To_Hydrology']**2) ** 0.5\n",
    "test['Distanse_to_Hydrolody'] = (test['Horizontal_Distance_To_Hydrology']**2 + \n",
    "                                 test['Vertical_Distance_To_Hydrology']**2) ** 0.5\n",
    "\n",
    "train['Hydro_Fire_1'] = train['Horizontal_Distance_To_Hydrology'] + \\\n",
    "    train['Horizontal_Distance_To_Fire_Points']\n",
    "test['Hydro_Fire_1'] = test['Horizontal_Distance_To_Hydrology'] + \\\n",
    "    test['Horizontal_Distance_To_Fire_Points']\n",
    "\n",
    "train['Hydro_Fire_2'] = abs(train['Horizontal_Distance_To_Hydrology'] - \\\n",
    "                                train['Horizontal_Distance_To_Fire_Points'])\n",
    "test['Hydro_Fire_2'] = abs(test['Horizontal_Distance_To_Hydrology'] - \\\n",
    "                           test['Horizontal_Distance_To_Fire_Points'])\n",
    "\n",
    "train['Hydro_Road_1'] = abs(train['Horizontal_Distance_To_Hydrology'] + \\\n",
    "                            train['Horizontal_Distance_To_Roadways'])\n",
    "test['Hydro_Road_1'] = abs(test['Horizontal_Distance_To_Hydrology'] + \\\n",
    "                           test['Horizontal_Distance_To_Roadways'])\n",
    "\n",
    "train['Hydro_Road_2'] = abs(train['Horizontal_Distance_To_Hydrology'] - \\\n",
    "                            train['Horizontal_Distance_To_Roadways'])\n",
    "test['Hydro_Road_2'] = abs(test['Horizontal_Distance_To_Hydrology'] - \\\n",
    "                           test['Horizontal_Distance_To_Roadways'])\n",
    "\n",
    "train['Fire_Road_1'] = abs(train['Horizontal_Distance_To_Fire_Points'] + \\\n",
    "                           train['Horizontal_Distance_To_Roadways'])\n",
    "test['Fire_Road_1'] = abs(test['Horizontal_Distance_To_Fire_Points'] + \\\n",
    "                          test['Horizontal_Distance_To_Roadways'])\n",
    "\n",
    "train['Fire_Road_2'] = abs(train['Horizontal_Distance_To_Fire_Points'] - \\\n",
    "                           train['Horizontal_Distance_To_Roadways'])\n",
    "test['Fire_Road_2'] = abs(test['Horizontal_Distance_To_Fire_Points'] - \\\n",
    "                          test['Horizontal_Distance_To_Roadways'])"
   ]
  },
  {
   "cell_type": "code",
   "execution_count": 7,
   "metadata": {
    "collapsed": false
   },
   "outputs": [],
   "source": [
    "y = train['Cover_Type']\n",
    "X_train = train.drop(['Cover_Type', 'Id'], axis=1)\n",
    "X_test = test.drop(['Id'], axis=1)"
   ]
  },
  {
   "cell_type": "code",
   "execution_count": 8,
   "metadata": {
    "collapsed": true
   },
   "outputs": [],
   "source": [
    "y = y - 1 # Чтоб классы нумеровались от о до 6"
   ]
  },
  {
   "cell_type": "code",
   "execution_count": 9,
   "metadata": {
    "collapsed": false
   },
   "outputs": [],
   "source": [
    "param = {}\n",
    "param['nthread'] = 4\n",
    "param['max_depth'] = 6\n",
    "param['lambda'] = 1\n",
    "param['eta'] = 1\n",
    "param['min_child_weight'] = 1\n",
    "param['eval_metric'] = 'merror'\n",
    "param['max_delta_step'] = 1\n",
    "param['objective'] = \"multi:softprob\"\n",
    "param['num_class'] = 7\n",
    "param['silent'] = 1\n",
    "best_num_round = 30"
   ]
  },
  {
   "cell_type": "markdown",
   "metadata": {},
   "source": [
    "**Есть у Xgboost одно неудобство - он  \"не любит\" нижние подчеркивания в названиях признаков.**"
   ]
  },
  {
   "cell_type": "code",
   "execution_count": 10,
   "metadata": {
    "collapsed": true
   },
   "outputs": [],
   "source": [
    "X_train.columns = [col.replace('_', '') for col in X_train.columns]\n",
    "X_test.columns = [col.replace('_', '') for col in X_test.columns]"
   ]
  },
  {
   "cell_type": "code",
   "execution_count": 11,
   "metadata": {
    "collapsed": true
   },
   "outputs": [],
   "source": [
    "dtrain = xgb.DMatrix(X_train, y)"
   ]
  },
  {
   "cell_type": "code",
   "execution_count": 12,
   "metadata": {
    "collapsed": false
   },
   "outputs": [
    {
     "name": "stderr",
     "output_type": "stream",
     "text": [
      "[0]\tcv-test-merror:0.3433861+0.0159192563548\tcv-train-merror:0.3190254+0.00560773100639\n",
      "[1]\tcv-test-merror:0.234193+0.0079719220518\tcv-train-merror:0.1969944+0.00346901963673\n",
      "[2]\tcv-test-merror:0.2195105+0.00894417228423\tcv-train-merror:0.1746693+0.00385080064532\n",
      "[3]\tcv-test-merror:0.2088623+0.00887704373145\tcv-train-merror:0.1552395+0.00421264599154\n",
      "[4]\tcv-test-merror:0.1964285+0.00926880400321\tcv-train-merror:0.1383598+0.00582980311503\n",
      "[5]\tcv-test-merror:0.1861771+0.0112599269753\tcv-train-merror:0.1240006+0.00528450437033\n",
      "[6]\tcv-test-merror:0.1800266+0.0112658060093\tcv-train-merror:0.1117725+0.0040774715511\n",
      "[7]\tcv-test-merror:0.1722882+0.0100617801685\tcv-train-merror:0.1024912+0.00348245381305\n",
      "[8]\tcv-test-merror:0.167328+0.0086081957343\tcv-train-merror:0.0905864+0.00553824006702\n",
      "[9]\tcv-test-merror:0.1623016+0.00953463481419\tcv-train-merror:0.0797252+0.00425869812971\n",
      "[10]\tcv-test-merror:0.1568122+0.00906080146345\tcv-train-merror:0.0688714+0.00387203295957\n",
      "[11]\tcv-test-merror:0.1542328+0.00955121159644\tcv-train-merror:0.0597663+0.0034652173395\n",
      "[12]\tcv-test-merror:0.1501324+0.00901027768939\tcv-train-merror:0.0515801+0.00396819080816\n",
      "[13]\tcv-test-merror:0.1484129+0.0109363272395\tcv-train-merror:0.0449591+0.00371243619339\n",
      "[14]\tcv-test-merror:0.146627+0.00990776537873\tcv-train-merror:0.0387713+0.00339812192395\n",
      "[15]\tcv-test-merror:0.1437168+0.0101346392812\tcv-train-merror:0.0334804+0.00306599504892\n",
      "[16]\tcv-test-merror:0.1410053+0.00888219362601\tcv-train-merror:0.0288213+0.00352430875634\n",
      "[17]\tcv-test-merror:0.138955+0.010252204641\tcv-train-merror:0.0248384+0.00287501305041\n",
      "[18]\tcv-test-merror:0.1365079+0.0112752731359\tcv-train-merror:0.0211052+0.00281487046949\n",
      "[19]\tcv-test-merror:0.1353174+0.0109725572516\tcv-train-merror:0.0175705+0.00191529685689\n",
      "[20]\tcv-test-merror:0.1320105+0.0101137484174\tcv-train-merror:0.0146386+0.00160669674799\n",
      "[21]\tcv-test-merror:0.1324737+0.0110393028951\tcv-train-merror:0.0120076+0.00166514865402\n",
      "[22]\tcv-test-merror:0.1307538+0.0106768852649\tcv-train-merror:0.0102293+0.00151265422685\n",
      "[23]\tcv-test-merror:0.1294972+0.0110107151339\tcv-train-merror:0.0084216+0.00141459437296\n",
      "[24]\tcv-test-merror:0.1291666+0.0112162953706\tcv-train-merror:0.0070986+0.0012860175893\n",
      "[25]\tcv-test-merror:0.1296297+0.0117866811788\tcv-train-merror:0.0056951+0.00138345823573\n",
      "[26]\tcv-test-merror:0.1267197+0.0111933498922\tcv-train-merror:0.0042622+0.00113761740493\n",
      "[27]\tcv-test-merror:0.1255292+0.0110147185874\tcv-train-merror:0.0035565+0.00102727574195\n",
      "[28]\tcv-test-merror:0.1250661+0.0098917974954\tcv-train-merror:0.003035+0.000896360864831\n",
      "[29]\tcv-test-merror:0.1246692+0.0102214508637\tcv-train-merror:0.002381+0.000613949997964\n",
      "[30]\tcv-test-merror:0.123942+0.0105165395639\tcv-train-merror:0.0017049+0.00044805857876\n",
      "[31]\tcv-test-merror:0.1230821+0.0105963350216\tcv-train-merror:0.0013302+0.000447752118923\n",
      "[32]\tcv-test-merror:0.1231481+0.00995065089781\tcv-train-merror:0.0009846+0.000334100344208\n",
      "[33]\tcv-test-merror:0.1217594+0.00965908656344\tcv-train-merror:0.0007495+0.000212633134765\n",
      "[34]\tcv-test-merror:0.122156+0.0097920657269\tcv-train-merror:0.0005953+0.000219066222864\n",
      "[35]\tcv-test-merror:0.1215609+0.00939891681472\tcv-train-merror:0.0003893+0.000180299778147\n",
      "[36]\tcv-test-merror:0.1212963+0.00795970794753\tcv-train-merror:0.0002937+0.000170798741213\n",
      "[37]\tcv-test-merror:0.1210317+0.00920241485753\tcv-train-merror:0.0002056+0.000170234074145\n",
      "[38]\tcv-test-merror:0.1202381+0.00836493173254\tcv-train-merror:0.000132+0.000117562749202\n",
      "[39]\tcv-test-merror:0.120635+0.00771974294909\tcv-train-merror:7.33e-05+5.69333821233e-05\n",
      "[40]\tcv-test-merror:0.1201059+0.00854284272886\tcv-train-merror:7.33e-05+5.69333821233e-05\n",
      "[41]\tcv-test-merror:0.1202381+0.00928641889482\tcv-train-merror:4.39e-05+4.86342471927e-05\n",
      "[42]\tcv-test-merror:0.1191138+0.00799933010695\tcv-train-merror:3.65e-05+3.65e-05\n",
      "[43]\tcv-test-merror:0.1183861+0.00793098454733\tcv-train-merror:2.19e-05+3.34528025732e-05\n",
      "[44]\tcv-test-merror:0.1179894+0.0082616288854\tcv-train-merror:1.46e-05+2.92e-05\n",
      "[45]\tcv-test-merror:0.1194444+0.00778202011306\tcv-train-merror:7.3e-06+2.19e-05\n",
      "[46]\tcv-test-merror:0.1193122+0.008619299656\tcv-train-merror:7.3e-06+2.19e-05\n",
      "[47]\tcv-test-merror:0.1187831+0.00839829711846\tcv-train-merror:7.3e-06+2.19e-05\n",
      "[48]\tcv-test-merror:0.118717+0.00866016021792\tcv-train-merror:7.3e-06+2.19e-05\n",
      "[49]\tcv-test-merror:0.1189815+0.00786164812555\tcv-train-merror:0.0+0.0\n"
     ]
    }
   ],
   "source": [
    "xgbCvResult = xgb.cv(param, dtrain, \n",
    "                      num_boost_round=50,  \n",
    "                      nfold=10, show_progress=True)"
   ]
  },
  {
   "cell_type": "code",
   "execution_count": 13,
   "metadata": {
    "collapsed": false
   },
   "outputs": [
    {
     "data": {
      "text/plain": [
       "[<matplotlib.lines.Line2D at 0x1219b87d0>]"
      ]
     },
     "execution_count": 13,
     "metadata": {},
     "output_type": "execute_result"
    },
    {
     "data": {
      "image/png": "[encoded data removed]",
      "text/plain": [
       "<matplotlib.figure.Figure at 0x115040a10>"
      ]
     },
     "metadata": {},
     "output_type": "display_data"
    }
   ],
   "source": [
    "plot(range(xgbCvResult.shape[0]), xgbCvResult['test-merror-mean'])\n",
    "plot(range(xgbCvResult.shape[0]), xgbCvResult['train-merror-mean'])"
   ]
  },
  {
   "cell_type": "markdown",
   "metadata": {},
   "source": [
    "**Далее будем подбирать параметры с помощью кросс-валидации.**"
   ]
  },
  {
   "cell_type": "code",
   "execution_count": 14,
   "metadata": {
    "collapsed": false
   },
   "outputs": [
    {
     "name": "stdout",
     "output_type": "stream",
     "text": [
      "CPU times: user 5min 7s, sys: 2.29 s, total: 5min 9s\n",
      "Wall time: 5min 14s\n"
     ]
    }
   ],
   "source": [
    "%%time\n",
    "depth_values = np.arange(10)\n",
    "errors = []\n",
    "for dep in log_progress(depth_values):\n",
    "    param['max_depth'] = dep\n",
    "    cv_results = xgb.cv(param, dtrain, \n",
    "                      num_boost_round=30,  \n",
    "                      nfold=5, show_progress=False)\n",
    "    errors.append(cv_results['test-merror-mean'].min())"
   ]
  },
  {
   "cell_type": "code",
   "execution_count": 15,
   "metadata": {
    "collapsed": false
   },
   "outputs": [
    {
     "name": "stdout",
     "output_type": "stream",
     "text": [
      "8\n"
     ]
    },
    {
     "data": {
      "text/plain": [
       "[<matplotlib.lines.Line2D at 0x11cff8e10>]"
      ]
     },
     "execution_count": 15,
     "metadata": {},
     "output_type": "execute_result"
    },
    {
     "data": {
      "image/png": "[encoded data removed]",
      "text/plain": [
       "<matplotlib.figure.Figure at 0x1158d8cd0>"
      ]
     },
     "metadata": {},
     "output_type": "display_data"
    }
   ],
   "source": [
    "print(depth_values[np.argmin(errors)])\n",
    "plot(depth_values, errors)"
   ]
  },
  {
   "cell_type": "code",
   "execution_count": 16,
   "metadata": {
    "collapsed": false
   },
   "outputs": [
    {
     "name": "stdout",
     "output_type": "stream",
     "text": [
      "CPU times: user 4min 23s, sys: 1.99 s, total: 4min 25s\n",
      "Wall time: 4min 30s\n"
     ]
    }
   ],
   "source": [
    "%%time\n",
    "gamma_values = np.linspace(0,4,10)\n",
    "errors = []\n",
    "for gam in log_progress(gamma_values):\n",
    "    param['gamma'] = gam\n",
    "    param['max_depth'] = 8\n",
    "    cv_results = xgb.cv(param, dtrain, \n",
    "                      num_boost_round=15,  \n",
    "                      nfold=5, show_progress=False)\n",
    "    errors.append(cv_results['test-merror-mean'].min())"
   ]
  },
  {
   "cell_type": "code",
   "execution_count": 17,
   "metadata": {
    "collapsed": false
   },
   "outputs": [
    {
     "name": "stdout",
     "output_type": "stream",
     "text": [
      "0.0\n"
     ]
    },
    {
     "data": {
      "text/plain": [
       "[<matplotlib.lines.Line2D at 0x11a917f90>]"
      ]
     },
     "execution_count": 17,
     "metadata": {},
     "output_type": "execute_result"
    },
    {
     "data": {
      "image/png": "[encoded data removed]",
      "text/plain": [
       "<matplotlib.figure.Figure at 0x11d1fa190>"
      ]
     },
     "metadata": {},
     "output_type": "display_data"
    }
   ],
   "source": [
    "print(gamma_values[np.argmin(errors)])\n",
    "plot(gamma_values, errors)"
   ]
  },
  {
   "cell_type": "code",
   "execution_count": 18,
   "metadata": {
    "collapsed": false
   },
   "outputs": [
    {
     "name": "stdout",
     "output_type": "stream",
     "text": [
      "CPU times: user 1min 31s, sys: 759 ms, total: 1min 32s\n",
      "Wall time: 1min 34s\n"
     ]
    }
   ],
   "source": [
    "%%time\n",
    "lambda_values = np.linspace(0,4,10)\n",
    "errors = []\n",
    "for lam in log_progress(lambda_values):\n",
    "    param['gamma'] = 0\n",
    "    param['max_depth'] = 8\n",
    "    param['lambda'] = lam\n",
    "    cv_results = xgb.cv(param, dtrain, \n",
    "                      num_boost_round=5,  \n",
    "                      nfold=5, show_progress=False)\n",
    "    errors.append(cv_results['test-merror-mean'].min())"
   ]
  },
  {
   "cell_type": "code",
   "execution_count": 19,
   "metadata": {
    "collapsed": false
   },
   "outputs": [
    {
     "name": "stdout",
     "output_type": "stream",
     "text": [
      "3.11111111111\n"
     ]
    },
    {
     "data": {
      "text/plain": [
       "[<matplotlib.lines.Line2D at 0x11a7a90d0>]"
      ]
     },
     "execution_count": 19,
     "metadata": {},
     "output_type": "execute_result"
    },
    {
     "data": {
      "image/png": "[encoded data removed]",
      "text/plain": [
       "<matplotlib.figure.Figure at 0x11a93cc90>"
      ]
     },
     "metadata": {},
     "output_type": "display_data"
    }
   ],
   "source": [
    "print(lambda_values[np.argmin(errors)])\n",
    "plot(lambda_values, errors)"
   ]
  },
  {
   "cell_type": "code",
   "execution_count": 20,
   "metadata": {
    "collapsed": false
   },
   "outputs": [
    {
     "name": "stdout",
     "output_type": "stream",
     "text": [
      "CPU times: user 1min 32s, sys: 786 ms, total: 1min 33s\n",
      "Wall time: 1min 34s\n"
     ]
    }
   ],
   "source": [
    "%%time\n",
    "eta_values = np.linspace(0,1,10)\n",
    "errors = []\n",
    "for eta in log_progress(eta_values):\n",
    "    param['gamma'] = 0\n",
    "    param['max_depth'] = 8\n",
    "    param['lambda'] = 3.11\n",
    "    param['eta'] = eta\n",
    "    cv_results = xgb.cv(param, dtrain, \n",
    "                      num_boost_round=5,  \n",
    "                      nfold=5, show_progress=False)\n",
    "    errors.append(cv_results['test-merror-mean'].min())"
   ]
  },
  {
   "cell_type": "code",
   "execution_count": 21,
   "metadata": {
    "collapsed": false
   },
   "outputs": [
    {
     "name": "stdout",
     "output_type": "stream",
     "text": [
      "1.0\n"
     ]
    },
    {
     "data": {
      "text/plain": [
       "[<matplotlib.lines.Line2D at 0x11ce2c710>]"
      ]
     },
     "execution_count": 21,
     "metadata": {},
     "output_type": "execute_result"
    },
    {
     "data": {
      "image/png": "[encoded data removed]",
      "text/plain": [
       "<matplotlib.figure.Figure at 0x11cca6250>"
      ]
     },
     "metadata": {},
     "output_type": "display_data"
    }
   ],
   "source": [
    "print(eta_values[np.argmin(errors)])\n",
    "plot(eta_values, errors)"
   ]
  },
  {
   "cell_type": "code",
   "execution_count": 22,
   "metadata": {
    "collapsed": false
   },
   "outputs": [
    {
     "name": "stdout",
     "output_type": "stream",
     "text": [
      "CPU times: user 1min 26s, sys: 756 ms, total: 1min 27s\n",
      "Wall time: 1min 28s\n"
     ]
    }
   ],
   "source": [
    "%%time\n",
    "child_weihts = np.arange(10)\n",
    "errors = []\n",
    "for child_weiht in log_progress(child_weihts):\n",
    "    param['gamma'] = 0\n",
    "    param['max_depth'] = 8\n",
    "    param['lambda'] = 3.11\n",
    "    param['eta'] = 1\n",
    "    param['min_child_weight'] = child_weiht\n",
    "    cv_results = xgb.cv(param, dtrain, \n",
    "                      num_boost_round=5,  \n",
    "                      nfold=5, show_progress=False)\n",
    "    errors.append(cv_results['test-merror-mean'].min())"
   ]
  },
  {
   "cell_type": "code",
   "execution_count": 23,
   "metadata": {
    "collapsed": false
   },
   "outputs": [
    {
     "name": "stdout",
     "output_type": "stream",
     "text": [
      "1\n"
     ]
    },
    {
     "data": {
      "text/plain": [
       "[<matplotlib.lines.Line2D at 0x11cb09b10>]"
      ]
     },
     "execution_count": 23,
     "metadata": {},
     "output_type": "execute_result"
    },
    {
     "data": {
      "image/png": "[encoded data removed]",
      "text/plain": [
       "<matplotlib.figure.Figure at 0x11ce46f50>"
      ]
     },
     "metadata": {},
     "output_type": "display_data"
    }
   ],
   "source": [
    "print(child_weihts[np.argmin(errors)])\n",
    "plot(child_weihts, errors)"
   ]
  },
  {
   "cell_type": "code",
   "execution_count": 24,
   "metadata": {
    "collapsed": false
   },
   "outputs": [
    {
     "name": "stderr",
     "output_type": "stream",
     "text": [
      "[0]\tcv-test-merror:0.3255291+0.0139166089796\tcv-train-merror:0.2941872+0.00418274674825\n",
      "[1]\tcv-test-merror:0.206283+0.00813505691437\tcv-train-merror:0.1457306+0.0043829811818\n",
      "[2]\tcv-test-merror:0.19041+0.00896860447338\tcv-train-merror:0.1220608+0.00303039175025\n",
      "[3]\tcv-test-merror:0.1782407+0.011271438693\tcv-train-merror:0.1018887+0.00231146840991\n",
      "[4]\tcv-test-merror:0.1652117+0.00988889793708\tcv-train-merror:0.0845897+0.00228488214357\n",
      "[5]\tcv-test-merror:0.1575397+0.00919190599441\tcv-train-merror:0.070782+0.00304225238927\n",
      "[6]\tcv-test-merror:0.1523148+0.0104239368935\tcv-train-merror:0.0581572+0.00254828608284\n",
      "[7]\tcv-test-merror:0.1490082+0.0109118828513\tcv-train-merror:0.0485965+0.00223276139567\n",
      "[8]\tcv-test-merror:0.1460317+0.0126071812238\tcv-train-merror:0.0390212+0.0017995093109\n",
      "[9]\tcv-test-merror:0.1394181+0.011606528434\tcv-train-merror:0.0309451+0.00260778470929\n",
      "[10]\tcv-test-merror:0.1357143+0.0100207154241\tcv-train-merror:0.0235522+0.00232814350073\n",
      "[11]\tcv-test-merror:0.133598+0.0112356959108\tcv-train-merror:0.0182098+0.00282308100486\n",
      "[12]\tcv-test-merror:0.1301588+0.010081633447\tcv-train-merror:0.0132275+0.00205198592831\n",
      "[13]\tcv-test-merror:0.1290345+0.0108412447832\tcv-train-merror:0.0092519+0.00204484128724\n",
      "[14]\tcv-test-merror:0.1284392+0.0102920896693\tcv-train-merror:0.0067315+0.00172415545993\n",
      "[15]\tcv-test-merror:0.1275794+0.0104716048264\tcv-train-merror:0.0046002+0.00151100369291\n",
      "[16]\tcv-test-merror:0.1257275+0.0108734444428\tcv-train-merror:0.0029689+0.00150023267862\n",
      "[17]\tcv-test-merror:0.1236771+0.00946490540312\tcv-train-merror:0.0017196+0.00125733370272\n",
      "[18]\tcv-test-merror:0.1222223+0.00996823741742\tcv-train-merror:0.0011756+0.000992958126005\n",
      "[19]\tcv-test-merror:0.1217592+0.00992267433508\tcv-train-merror:0.0005731+0.000473857668504\n",
      "[20]\tcv-test-merror:0.1210317+0.0107990375594\tcv-train-merror:0.0003525+0.00021741860546\n",
      "[21]\tcv-test-merror:0.120635+0.0109525473201\tcv-train-merror:0.0002204+0.000160939243194\n",
      "[22]\tcv-test-merror:0.1195766+0.011632770076\tcv-train-merror:0.0001248+9.89624171087e-05\n",
      "[23]\tcv-test-merror:0.1184524+0.0106126952109\tcv-train-merror:4.39e-05+4.86342471927e-05\n",
      "[24]\tcv-test-merror:0.1180556+0.00998766701688\tcv-train-merror:2.93e-05+4.86642579313e-05\n",
      "[25]\tcv-test-merror:0.1171957+0.0102279740423\tcv-train-merror:0.0+0.0\n",
      "[26]\tcv-test-merror:0.1164681+0.00962262704723\tcv-train-merror:0.0+0.0\n",
      "[27]\tcv-test-merror:0.1161376+0.0109285216585\tcv-train-merror:0.0+0.0\n",
      "[28]\tcv-test-merror:0.1156745+0.0100409223506\tcv-train-merror:0.0+0.0\n",
      "[29]\tcv-test-merror:0.1142857+0.00979108458803\tcv-train-merror:0.0+0.0\n",
      "[30]\tcv-test-merror:0.114881+0.00988561108885\tcv-train-merror:0.0+0.0\n",
      "[31]\tcv-test-merror:0.1134921+0.0107426893323\tcv-train-merror:0.0+0.0\n",
      "[32]\tcv-test-merror:0.1130953+0.0102714928423\tcv-train-merror:0.0+0.0\n",
      "[33]\tcv-test-merror:0.1119708+0.00981883888044\tcv-train-merror:0.0+0.0\n",
      "[34]\tcv-test-merror:0.1118384+0.00979396380635\tcv-train-merror:0.0+0.0\n",
      "[35]\tcv-test-merror:0.1122355+0.0105365872867\tcv-train-merror:0.0+0.0\n",
      "[36]\tcv-test-merror:0.1120371+0.0108036724168\tcv-train-merror:0.0+0.0\n",
      "[37]\tcv-test-merror:0.1116402+0.0106882474036\tcv-train-merror:0.0+0.0\n",
      "[38]\tcv-test-merror:0.1111109+0.0105613290305\tcv-train-merror:0.0+0.0\n",
      "[39]\tcv-test-merror:0.1108466+0.0105993147439\tcv-train-merror:0.0+0.0\n",
      "[40]\tcv-test-merror:0.1107803+0.0106654624658\tcv-train-merror:0.0+0.0\n",
      "[41]\tcv-test-merror:0.1113757+0.00987726307284\tcv-train-merror:0.0+0.0\n",
      "[42]\tcv-test-merror:0.1100529+0.00990387670006\tcv-train-merror:0.0+0.0\n",
      "[43]\tcv-test-merror:0.1107142+0.0109206245041\tcv-train-merror:0.0+0.0\n",
      "[44]\tcv-test-merror:0.1109126+0.0105491222497\tcv-train-merror:0.0+0.0\n",
      "[45]\tcv-test-merror:0.1107806+0.00990399377221\tcv-train-merror:0.0+0.0\n",
      "[46]\tcv-test-merror:0.1107804+0.00916564944998\tcv-train-merror:0.0+0.0\n",
      "[47]\tcv-test-merror:0.111045+0.00894920004246\tcv-train-merror:0.0+0.0\n",
      "[48]\tcv-test-merror:0.1111773+0.0091758878268\tcv-train-merror:0.0+0.0\n",
      "[49]\tcv-test-merror:0.1109788+0.00938514942662\tcv-train-merror:0.0+0.0\n"
     ]
    }
   ],
   "source": [
    "param['gamma'] = 0\n",
    "param['max_depth'] = 8\n",
    "param['lambda'] = 3.11\n",
    "param['eta'] = 1\n",
    "param['min_child_weight'] = 1\n",
    "\n",
    "dtrain = xgb.DMatrix(X_train, y)\n",
    "            \n",
    "xgbCvResult =  xgb.cv(param, dtrain, num_boost_round=50, \n",
    "                      nfold=10, show_progress=True)"
   ]
  },
  {
   "cell_type": "code",
   "execution_count": 25,
   "metadata": {
    "collapsed": false
   },
   "outputs": [
    {
     "data": {
      "text/plain": [
       "[<matplotlib.lines.Line2D at 0x122541750>]"
      ]
     },
     "execution_count": 25,
     "metadata": {},
     "output_type": "execute_result"
    },
    {
     "data": {
      "image/png": "[encoded data removed]",
      "text/plain": [
       "<matplotlib.figure.Figure at 0x11cabfd90>"
      ]
     },
     "metadata": {},
     "output_type": "display_data"
    }
   ],
   "source": [
    "plot(range(xgbCvResult.shape[0]), xgbCvResult['test-merror-mean'])\n",
    "plot(range(xgbCvResult.shape[0]), xgbCvResult['train-merror-mean'])"
   ]
  },
  {
   "cell_type": "code",
   "execution_count": 26,
   "metadata": {
    "collapsed": false
   },
   "outputs": [],
   "source": [
    "best_num_round = np.argmin(xgbCvResult['test-merror-mean'])"
   ]
  },
  {
   "cell_type": "markdown",
   "metadata": {},
   "source": [
    "**Сделаем прогноз для всей тестовой выборки.**"
   ]
  },
  {
   "cell_type": "code",
   "execution_count": 27,
   "metadata": {
    "collapsed": false
   },
   "outputs": [],
   "source": [
    "bestXgb = xgb.train(param, dtrain, best_num_round)"
   ]
  },
  {
   "cell_type": "code",
   "execution_count": 28,
   "metadata": {
    "collapsed": true
   },
   "outputs": [],
   "source": [
    "dtest = xgb.DMatrix(X_test)"
   ]
  },
  {
   "cell_type": "code",
   "execution_count": 29,
   "metadata": {
    "collapsed": false
   },
   "outputs": [],
   "source": [
    "xgboost_predict_proba = bestXgb.predict(dtest)"
   ]
  },
  {
   "cell_type": "code",
   "execution_count": 31,
   "metadata": {
    "collapsed": false
   },
   "outputs": [],
   "source": [
    "xgboost_prediction = np.argmax(xgboost_predict_proba,\n",
    "                                         axis=1)"
   ]
  },
  {
   "cell_type": "markdown",
   "metadata": {},
   "source": [
    "**Важный шаг: мы вычитали из целевых меток 1, теперь добавляем.**"
   ]
  },
  {
   "cell_type": "code",
   "execution_count": 33,
   "metadata": {
    "collapsed": true
   },
   "outputs": [],
   "source": [
    "xgboost_prediction += 1"
   ]
  },
  {
   "cell_type": "code",
   "execution_count": 34,
   "metadata": {
    "collapsed": false
   },
   "outputs": [],
   "source": [
    "write_to_submission_file(xgboost_prediction, \n",
    "                         '../../output/forest_cover_type_xgboost.csv')"
   ]
  },
  {
   "cell_type": "markdown",
   "metadata": {},
   "source": [
    "**У такой посылки на Kaggle результат - 0.77522.**"
   ]
  }
 ],
 "metadata": {
  "kernelspec": {
   "display_name": "Python 2",
   "language": "python",
   "name": "python2"
  },
  "language_info": {
   "codemirror_mode": {
    "name": "ipython",
    "version": 2
   },
   "file_extension": ".py",
   "mimetype": "text/x-python",
   "name": "python",
   "nbconvert_exporter": "python",
   "pygments_lexer": "ipython2",
   "version": "2.7.11"
  },
  "name": "ForestCoverType.ipynb"
 },
 "nbformat": 4,
 "nbformat_minor": 0
}
