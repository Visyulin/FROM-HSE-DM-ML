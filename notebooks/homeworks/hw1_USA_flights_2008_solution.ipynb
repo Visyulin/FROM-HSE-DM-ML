{
 "cells": [
  {
   "cell_type": "markdown",
   "metadata": {},
   "source": [
    "<center>\n",
    "<img src=\"../../img/ml_theme.png\">\n",
    "# Дополнительное профессиональное <br> образование НИУ ВШЭ\n",
    "#### Программа \"Машинное обучение и майнинг данных\"\n",
    "<img src=\"../../img/faculty_logo.jpg\" height=\"240\" width=\"240\">\n",
    "## Автор материала: преподаватель Факультета Компьютерных Наук НИУ ВШЭ Кашницкий Юрий\n",
    "</center>\n",
    "Материал распространяется на условиях лицензии <a href=\"https://opensource.org/licenses/MS-RL\">Ms-RL</a>. Можно использовать в любых целях, кроме коммерческих, но с обязательным упоминанием автора материала."
   ]
  },
  {
   "cell_type": "markdown",
   "metadata": {},
   "source": [
    "## Домашнее задание 2. Анализ данных по перелетам между городами США в 2008 году с помощью Pandas и Seaborn. Решение"
   ]
  },
  {
   "cell_type": "code",
   "execution_count": 1,
   "metadata": {
    "collapsed": false
   },
   "outputs": [
    {
     "name": "stdout",
     "output_type": "stream",
     "text": [
      "Populating the interactive namespace from numpy and matplotlib\n"
     ]
    }
   ],
   "source": [
    "# Python 2 and 3 compatibility\n",
    "from __future__ import (absolute_import, division,\n",
    "                        print_function, unicode_literals)\n",
    "# отключим предупреждения Anaconda\n",
    "import warnings\n",
    "warnings.simplefilter('ignore')\n",
    "import pandas as pd\n",
    "%pylab inline\n",
    "import seaborn as sns\n",
    "import matplotlib.pyplot as plt"
   ]
  },
  {
   "cell_type": "markdown",
   "metadata": {},
   "source": [
    "Скачайте и распакуте следующий [архив](http://stat-computing.org/dataexpo/2009/2008.csv.bz2) (~ 114 Mb, при разархивации - ~ 690 Mb). Описание полей таблицы дано [здесь](http://www.transtats.bts.gov/Fields.asp?Table_ID=236).\n",
    "Данные  содержат перелеты между аэропортами США в 2008 году."
   ]
  },
  {
   "cell_type": "markdown",
   "metadata": {},
   "source": [
    "**Считаем данные в память в объект Pandas.DataFrame (это может занять пару минут).**"
   ]
  },
  {
   "cell_type": "code",
   "execution_count": 2,
   "metadata": {
    "collapsed": false
   },
   "outputs": [],
   "source": [
    "flights_df = pd.read_csv('../../data/flights_2008.csv.bz2', parse_dates=4)"
   ]
  },
  {
   "cell_type": "code",
   "execution_count": 3,
   "metadata": {
    "collapsed": false
   },
   "outputs": [
    {
     "name": "stdout",
     "output_type": "stream",
     "text": [
      "(7009728, 29)\n",
      "Index([u'Year', u'Month', u'DayofMonth', u'DayOfWeek', u'DepTime',\n",
      "       u'CRSDepTime', u'ArrTime', u'CRSArrTime', u'UniqueCarrier',\n",
      "       u'FlightNum', u'TailNum', u'ActualElapsedTime', u'CRSElapsedTime',\n",
      "       u'AirTime', u'ArrDelay', u'DepDelay', u'Origin', u'Dest', u'Distance',\n",
      "       u'TaxiIn', u'TaxiOut', u'Cancelled', u'CancellationCode', u'Diverted',\n",
      "       u'CarrierDelay', u'WeatherDelay', u'NASDelay', u'SecurityDelay',\n",
      "       u'LateAircraftDelay'],\n",
      "      dtype='object')\n"
     ]
    }
   ],
   "source": [
    "print(flights_df.shape)\n",
    "print(flights_df.columns)"
   ]
  },
  {
   "cell_type": "code",
   "execution_count": 4,
   "metadata": {
    "collapsed": false
   },
   "outputs": [
    {
     "data": {
      "text/html": [
       "<div>\n",
       "<table border=\"1\" class=\"dataframe\">\n",
       "  <thead>\n",
       "    <tr style=\"text-align: right;\">\n",
       "      <th></th>\n",
       "      <th>0</th>\n",
       "      <th>1</th>\n",
       "      <th>2</th>\n",
       "      <th>3</th>\n",
       "      <th>4</th>\n",
       "    </tr>\n",
       "  </thead>\n",
       "  <tbody>\n",
       "    <tr>\n",
       "      <th>Year</th>\n",
       "      <td>2008</td>\n",
       "      <td>2008</td>\n",
       "      <td>2008</td>\n",
       "      <td>2008</td>\n",
       "      <td>2008</td>\n",
       "    </tr>\n",
       "    <tr>\n",
       "      <th>Month</th>\n",
       "      <td>1</td>\n",
       "      <td>1</td>\n",
       "      <td>1</td>\n",
       "      <td>1</td>\n",
       "      <td>1</td>\n",
       "    </tr>\n",
       "    <tr>\n",
       "      <th>DayofMonth</th>\n",
       "      <td>3</td>\n",
       "      <td>3</td>\n",
       "      <td>3</td>\n",
       "      <td>3</td>\n",
       "      <td>3</td>\n",
       "    </tr>\n",
       "    <tr>\n",
       "      <th>DayOfWeek</th>\n",
       "      <td>4</td>\n",
       "      <td>4</td>\n",
       "      <td>4</td>\n",
       "      <td>4</td>\n",
       "      <td>4</td>\n",
       "    </tr>\n",
       "    <tr>\n",
       "      <th>DepTime</th>\n",
       "      <td>2003</td>\n",
       "      <td>754</td>\n",
       "      <td>628</td>\n",
       "      <td>926</td>\n",
       "      <td>1829</td>\n",
       "    </tr>\n",
       "    <tr>\n",
       "      <th>CRSDepTime</th>\n",
       "      <td>1955</td>\n",
       "      <td>735</td>\n",
       "      <td>620</td>\n",
       "      <td>930</td>\n",
       "      <td>1755</td>\n",
       "    </tr>\n",
       "    <tr>\n",
       "      <th>ArrTime</th>\n",
       "      <td>2211</td>\n",
       "      <td>1002</td>\n",
       "      <td>804</td>\n",
       "      <td>1054</td>\n",
       "      <td>1959</td>\n",
       "    </tr>\n",
       "    <tr>\n",
       "      <th>CRSArrTime</th>\n",
       "      <td>2225</td>\n",
       "      <td>1000</td>\n",
       "      <td>750</td>\n",
       "      <td>1100</td>\n",
       "      <td>1925</td>\n",
       "    </tr>\n",
       "    <tr>\n",
       "      <th>UniqueCarrier</th>\n",
       "      <td>WN</td>\n",
       "      <td>WN</td>\n",
       "      <td>WN</td>\n",
       "      <td>WN</td>\n",
       "      <td>WN</td>\n",
       "    </tr>\n",
       "    <tr>\n",
       "      <th>FlightNum</th>\n",
       "      <td>335</td>\n",
       "      <td>3231</td>\n",
       "      <td>448</td>\n",
       "      <td>1746</td>\n",
       "      <td>3920</td>\n",
       "    </tr>\n",
       "    <tr>\n",
       "      <th>TailNum</th>\n",
       "      <td>N712SW</td>\n",
       "      <td>N772SW</td>\n",
       "      <td>N428WN</td>\n",
       "      <td>N612SW</td>\n",
       "      <td>N464WN</td>\n",
       "    </tr>\n",
       "    <tr>\n",
       "      <th>ActualElapsedTime</th>\n",
       "      <td>128</td>\n",
       "      <td>128</td>\n",
       "      <td>96</td>\n",
       "      <td>88</td>\n",
       "      <td>90</td>\n",
       "    </tr>\n",
       "    <tr>\n",
       "      <th>CRSElapsedTime</th>\n",
       "      <td>150</td>\n",
       "      <td>145</td>\n",
       "      <td>90</td>\n",
       "      <td>90</td>\n",
       "      <td>90</td>\n",
       "    </tr>\n",
       "    <tr>\n",
       "      <th>AirTime</th>\n",
       "      <td>116</td>\n",
       "      <td>113</td>\n",
       "      <td>76</td>\n",
       "      <td>78</td>\n",
       "      <td>77</td>\n",
       "    </tr>\n",
       "    <tr>\n",
       "      <th>ArrDelay</th>\n",
       "      <td>-14</td>\n",
       "      <td>2</td>\n",
       "      <td>14</td>\n",
       "      <td>-6</td>\n",
       "      <td>34</td>\n",
       "    </tr>\n",
       "    <tr>\n",
       "      <th>DepDelay</th>\n",
       "      <td>8</td>\n",
       "      <td>19</td>\n",
       "      <td>8</td>\n",
       "      <td>-4</td>\n",
       "      <td>34</td>\n",
       "    </tr>\n",
       "    <tr>\n",
       "      <th>Origin</th>\n",
       "      <td>IAD</td>\n",
       "      <td>IAD</td>\n",
       "      <td>IND</td>\n",
       "      <td>IND</td>\n",
       "      <td>IND</td>\n",
       "    </tr>\n",
       "    <tr>\n",
       "      <th>Dest</th>\n",
       "      <td>TPA</td>\n",
       "      <td>TPA</td>\n",
       "      <td>BWI</td>\n",
       "      <td>BWI</td>\n",
       "      <td>BWI</td>\n",
       "    </tr>\n",
       "    <tr>\n",
       "      <th>Distance</th>\n",
       "      <td>810</td>\n",
       "      <td>810</td>\n",
       "      <td>515</td>\n",
       "      <td>515</td>\n",
       "      <td>515</td>\n",
       "    </tr>\n",
       "    <tr>\n",
       "      <th>TaxiIn</th>\n",
       "      <td>4</td>\n",
       "      <td>5</td>\n",
       "      <td>3</td>\n",
       "      <td>3</td>\n",
       "      <td>3</td>\n",
       "    </tr>\n",
       "    <tr>\n",
       "      <th>TaxiOut</th>\n",
       "      <td>8</td>\n",
       "      <td>10</td>\n",
       "      <td>17</td>\n",
       "      <td>7</td>\n",
       "      <td>10</td>\n",
       "    </tr>\n",
       "    <tr>\n",
       "      <th>Cancelled</th>\n",
       "      <td>0</td>\n",
       "      <td>0</td>\n",
       "      <td>0</td>\n",
       "      <td>0</td>\n",
       "      <td>0</td>\n",
       "    </tr>\n",
       "    <tr>\n",
       "      <th>CancellationCode</th>\n",
       "      <td>NaN</td>\n",
       "      <td>NaN</td>\n",
       "      <td>NaN</td>\n",
       "      <td>NaN</td>\n",
       "      <td>NaN</td>\n",
       "    </tr>\n",
       "    <tr>\n",
       "      <th>Diverted</th>\n",
       "      <td>0</td>\n",
       "      <td>0</td>\n",
       "      <td>0</td>\n",
       "      <td>0</td>\n",
       "      <td>0</td>\n",
       "    </tr>\n",
       "    <tr>\n",
       "      <th>CarrierDelay</th>\n",
       "      <td>NaN</td>\n",
       "      <td>NaN</td>\n",
       "      <td>NaN</td>\n",
       "      <td>NaN</td>\n",
       "      <td>2</td>\n",
       "    </tr>\n",
       "    <tr>\n",
       "      <th>WeatherDelay</th>\n",
       "      <td>NaN</td>\n",
       "      <td>NaN</td>\n",
       "      <td>NaN</td>\n",
       "      <td>NaN</td>\n",
       "      <td>0</td>\n",
       "    </tr>\n",
       "    <tr>\n",
       "      <th>NASDelay</th>\n",
       "      <td>NaN</td>\n",
       "      <td>NaN</td>\n",
       "      <td>NaN</td>\n",
       "      <td>NaN</td>\n",
       "      <td>0</td>\n",
       "    </tr>\n",
       "    <tr>\n",
       "      <th>SecurityDelay</th>\n",
       "      <td>NaN</td>\n",
       "      <td>NaN</td>\n",
       "      <td>NaN</td>\n",
       "      <td>NaN</td>\n",
       "      <td>0</td>\n",
       "    </tr>\n",
       "    <tr>\n",
       "      <th>LateAircraftDelay</th>\n",
       "      <td>NaN</td>\n",
       "      <td>NaN</td>\n",
       "      <td>NaN</td>\n",
       "      <td>NaN</td>\n",
       "      <td>32</td>\n",
       "    </tr>\n",
       "  </tbody>\n",
       "</table>\n",
       "</div>"
      ],
      "text/plain": [
       "                        0       1       2       3       4\n",
       "Year                 2008    2008    2008    2008    2008\n",
       "Month                   1       1       1       1       1\n",
       "DayofMonth              3       3       3       3       3\n",
       "DayOfWeek               4       4       4       4       4\n",
       "DepTime              2003     754     628     926    1829\n",
       "CRSDepTime           1955     735     620     930    1755\n",
       "ArrTime              2211    1002     804    1054    1959\n",
       "CRSArrTime           2225    1000     750    1100    1925\n",
       "UniqueCarrier          WN      WN      WN      WN      WN\n",
       "FlightNum             335    3231     448    1746    3920\n",
       "TailNum            N712SW  N772SW  N428WN  N612SW  N464WN\n",
       "ActualElapsedTime     128     128      96      88      90\n",
       "CRSElapsedTime        150     145      90      90      90\n",
       "AirTime               116     113      76      78      77\n",
       "ArrDelay              -14       2      14      -6      34\n",
       "DepDelay                8      19       8      -4      34\n",
       "Origin                IAD     IAD     IND     IND     IND\n",
       "Dest                  TPA     TPA     BWI     BWI     BWI\n",
       "Distance              810     810     515     515     515\n",
       "TaxiIn                  4       5       3       3       3\n",
       "TaxiOut                 8      10      17       7      10\n",
       "Cancelled               0       0       0       0       0\n",
       "CancellationCode      NaN     NaN     NaN     NaN     NaN\n",
       "Diverted                0       0       0       0       0\n",
       "CarrierDelay          NaN     NaN     NaN     NaN       2\n",
       "WeatherDelay          NaN     NaN     NaN     NaN       0\n",
       "NASDelay              NaN     NaN     NaN     NaN       0\n",
       "SecurityDelay         NaN     NaN     NaN     NaN       0\n",
       "LateAircraftDelay     NaN     NaN     NaN     NaN      32"
      ]
     },
     "execution_count": 4,
     "metadata": {},
     "output_type": "execute_result"
    }
   ],
   "source": [
    "flights_df.head().T"
   ]
  },
  {
   "cell_type": "code",
   "execution_count": 5,
   "metadata": {
    "collapsed": false
   },
   "outputs": [
    {
     "data": {
      "text/html": [
       "<div>\n",
       "<table border=\"1\" class=\"dataframe\">\n",
       "  <thead>\n",
       "    <tr style=\"text-align: right;\">\n",
       "      <th></th>\n",
       "      <th>Year</th>\n",
       "      <th>Month</th>\n",
       "      <th>DayofMonth</th>\n",
       "      <th>DayOfWeek</th>\n",
       "      <th>DepTime</th>\n",
       "      <th>CRSDepTime</th>\n",
       "      <th>ArrTime</th>\n",
       "      <th>CRSArrTime</th>\n",
       "      <th>FlightNum</th>\n",
       "      <th>ActualElapsedTime</th>\n",
       "      <th>...</th>\n",
       "      <th>Distance</th>\n",
       "      <th>TaxiIn</th>\n",
       "      <th>TaxiOut</th>\n",
       "      <th>Cancelled</th>\n",
       "      <th>Diverted</th>\n",
       "      <th>CarrierDelay</th>\n",
       "      <th>WeatherDelay</th>\n",
       "      <th>NASDelay</th>\n",
       "      <th>SecurityDelay</th>\n",
       "      <th>LateAircraftDelay</th>\n",
       "    </tr>\n",
       "  </thead>\n",
       "  <tbody>\n",
       "    <tr>\n",
       "      <th>count</th>\n",
       "      <td>7009728</td>\n",
       "      <td>7009728.000000</td>\n",
       "      <td>7009728.000000</td>\n",
       "      <td>7009728.000000</td>\n",
       "      <td>6873482.000000</td>\n",
       "      <td>7009728.000000</td>\n",
       "      <td>6858079.000000</td>\n",
       "      <td>7009728.000000</td>\n",
       "      <td>7009728.000000</td>\n",
       "      <td>6855029.000000</td>\n",
       "      <td>...</td>\n",
       "      <td>7009728.000000</td>\n",
       "      <td>6858079.000000</td>\n",
       "      <td>6872670.000000</td>\n",
       "      <td>7009728.000000</td>\n",
       "      <td>7009728.000000</td>\n",
       "      <td>1524735.000000</td>\n",
       "      <td>1524735.000000</td>\n",
       "      <td>1524735.000000</td>\n",
       "      <td>1524735.000000</td>\n",
       "      <td>1524735.000000</td>\n",
       "    </tr>\n",
       "    <tr>\n",
       "      <th>mean</th>\n",
       "      <td>2008</td>\n",
       "      <td>6.375130</td>\n",
       "      <td>15.728015</td>\n",
       "      <td>3.924182</td>\n",
       "      <td>1333.830046</td>\n",
       "      <td>1326.085663</td>\n",
       "      <td>1481.258227</td>\n",
       "      <td>1494.801154</td>\n",
       "      <td>2224.200105</td>\n",
       "      <td>127.322424</td>\n",
       "      <td>...</td>\n",
       "      <td>726.387029</td>\n",
       "      <td>6.860852</td>\n",
       "      <td>16.453045</td>\n",
       "      <td>0.019606</td>\n",
       "      <td>0.002463</td>\n",
       "      <td>15.772063</td>\n",
       "      <td>3.039031</td>\n",
       "      <td>17.164623</td>\n",
       "      <td>0.074974</td>\n",
       "      <td>20.770981</td>\n",
       "    </tr>\n",
       "    <tr>\n",
       "      <th>std</th>\n",
       "      <td>0</td>\n",
       "      <td>3.406737</td>\n",
       "      <td>8.797068</td>\n",
       "      <td>1.988259</td>\n",
       "      <td>478.068895</td>\n",
       "      <td>464.250911</td>\n",
       "      <td>505.225129</td>\n",
       "      <td>482.672822</td>\n",
       "      <td>1961.715999</td>\n",
       "      <td>70.187308</td>\n",
       "      <td>...</td>\n",
       "      <td>562.101803</td>\n",
       "      <td>4.933649</td>\n",
       "      <td>11.332799</td>\n",
       "      <td>0.138643</td>\n",
       "      <td>0.049568</td>\n",
       "      <td>40.099116</td>\n",
       "      <td>19.502874</td>\n",
       "      <td>31.894955</td>\n",
       "      <td>1.837940</td>\n",
       "      <td>39.259636</td>\n",
       "    </tr>\n",
       "    <tr>\n",
       "      <th>min</th>\n",
       "      <td>2008</td>\n",
       "      <td>1.000000</td>\n",
       "      <td>1.000000</td>\n",
       "      <td>1.000000</td>\n",
       "      <td>1.000000</td>\n",
       "      <td>0.000000</td>\n",
       "      <td>1.000000</td>\n",
       "      <td>0.000000</td>\n",
       "      <td>1.000000</td>\n",
       "      <td>12.000000</td>\n",
       "      <td>...</td>\n",
       "      <td>11.000000</td>\n",
       "      <td>0.000000</td>\n",
       "      <td>0.000000</td>\n",
       "      <td>0.000000</td>\n",
       "      <td>0.000000</td>\n",
       "      <td>0.000000</td>\n",
       "      <td>0.000000</td>\n",
       "      <td>0.000000</td>\n",
       "      <td>0.000000</td>\n",
       "      <td>0.000000</td>\n",
       "    </tr>\n",
       "    <tr>\n",
       "      <th>25%</th>\n",
       "      <td>2008</td>\n",
       "      <td>3.000000</td>\n",
       "      <td>8.000000</td>\n",
       "      <td>2.000000</td>\n",
       "      <td>928.000000</td>\n",
       "      <td>925.000000</td>\n",
       "      <td>1107.000000</td>\n",
       "      <td>1115.000000</td>\n",
       "      <td>622.000000</td>\n",
       "      <td>77.000000</td>\n",
       "      <td>...</td>\n",
       "      <td>325.000000</td>\n",
       "      <td>4.000000</td>\n",
       "      <td>10.000000</td>\n",
       "      <td>0.000000</td>\n",
       "      <td>0.000000</td>\n",
       "      <td>0.000000</td>\n",
       "      <td>0.000000</td>\n",
       "      <td>0.000000</td>\n",
       "      <td>0.000000</td>\n",
       "      <td>0.000000</td>\n",
       "    </tr>\n",
       "    <tr>\n",
       "      <th>50%</th>\n",
       "      <td>2008</td>\n",
       "      <td>6.000000</td>\n",
       "      <td>16.000000</td>\n",
       "      <td>4.000000</td>\n",
       "      <td>1325.000000</td>\n",
       "      <td>1320.000000</td>\n",
       "      <td>1512.000000</td>\n",
       "      <td>1517.000000</td>\n",
       "      <td>1571.000000</td>\n",
       "      <td>110.000000</td>\n",
       "      <td>...</td>\n",
       "      <td>581.000000</td>\n",
       "      <td>6.000000</td>\n",
       "      <td>14.000000</td>\n",
       "      <td>0.000000</td>\n",
       "      <td>0.000000</td>\n",
       "      <td>0.000000</td>\n",
       "      <td>0.000000</td>\n",
       "      <td>6.000000</td>\n",
       "      <td>0.000000</td>\n",
       "      <td>0.000000</td>\n",
       "    </tr>\n",
       "    <tr>\n",
       "      <th>75%</th>\n",
       "      <td>2008</td>\n",
       "      <td>9.000000</td>\n",
       "      <td>23.000000</td>\n",
       "      <td>6.000000</td>\n",
       "      <td>1728.000000</td>\n",
       "      <td>1715.000000</td>\n",
       "      <td>1909.000000</td>\n",
       "      <td>1907.000000</td>\n",
       "      <td>3518.000000</td>\n",
       "      <td>157.000000</td>\n",
       "      <td>...</td>\n",
       "      <td>954.000000</td>\n",
       "      <td>8.000000</td>\n",
       "      <td>19.000000</td>\n",
       "      <td>0.000000</td>\n",
       "      <td>0.000000</td>\n",
       "      <td>16.000000</td>\n",
       "      <td>0.000000</td>\n",
       "      <td>21.000000</td>\n",
       "      <td>0.000000</td>\n",
       "      <td>26.000000</td>\n",
       "    </tr>\n",
       "    <tr>\n",
       "      <th>max</th>\n",
       "      <td>2008</td>\n",
       "      <td>12.000000</td>\n",
       "      <td>31.000000</td>\n",
       "      <td>7.000000</td>\n",
       "      <td>2400.000000</td>\n",
       "      <td>2359.000000</td>\n",
       "      <td>2400.000000</td>\n",
       "      <td>2400.000000</td>\n",
       "      <td>9743.000000</td>\n",
       "      <td>1379.000000</td>\n",
       "      <td>...</td>\n",
       "      <td>4962.000000</td>\n",
       "      <td>308.000000</td>\n",
       "      <td>429.000000</td>\n",
       "      <td>1.000000</td>\n",
       "      <td>1.000000</td>\n",
       "      <td>2436.000000</td>\n",
       "      <td>1352.000000</td>\n",
       "      <td>1357.000000</td>\n",
       "      <td>392.000000</td>\n",
       "      <td>1316.000000</td>\n",
       "    </tr>\n",
       "  </tbody>\n",
       "</table>\n",
       "<p>8 rows × 24 columns</p>\n",
       "</div>"
      ],
      "text/plain": [
       "          Year           Month      DayofMonth       DayOfWeek  \\\n",
       "count  7009728  7009728.000000  7009728.000000  7009728.000000   \n",
       "mean      2008        6.375130       15.728015        3.924182   \n",
       "std          0        3.406737        8.797068        1.988259   \n",
       "min       2008        1.000000        1.000000        1.000000   \n",
       "25%       2008        3.000000        8.000000        2.000000   \n",
       "50%       2008        6.000000       16.000000        4.000000   \n",
       "75%       2008        9.000000       23.000000        6.000000   \n",
       "max       2008       12.000000       31.000000        7.000000   \n",
       "\n",
       "              DepTime      CRSDepTime         ArrTime      CRSArrTime  \\\n",
       "count  6873482.000000  7009728.000000  6858079.000000  7009728.000000   \n",
       "mean      1333.830046     1326.085663     1481.258227     1494.801154   \n",
       "std        478.068895      464.250911      505.225129      482.672822   \n",
       "min          1.000000        0.000000        1.000000        0.000000   \n",
       "25%        928.000000      925.000000     1107.000000     1115.000000   \n",
       "50%       1325.000000     1320.000000     1512.000000     1517.000000   \n",
       "75%       1728.000000     1715.000000     1909.000000     1907.000000   \n",
       "max       2400.000000     2359.000000     2400.000000     2400.000000   \n",
       "\n",
       "            FlightNum  ActualElapsedTime        ...                Distance  \\\n",
       "count  7009728.000000     6855029.000000        ...          7009728.000000   \n",
       "mean      2224.200105         127.322424        ...              726.387029   \n",
       "std       1961.715999          70.187308        ...              562.101803   \n",
       "min          1.000000          12.000000        ...               11.000000   \n",
       "25%        622.000000          77.000000        ...              325.000000   \n",
       "50%       1571.000000         110.000000        ...              581.000000   \n",
       "75%       3518.000000         157.000000        ...              954.000000   \n",
       "max       9743.000000        1379.000000        ...             4962.000000   \n",
       "\n",
       "               TaxiIn         TaxiOut       Cancelled        Diverted  \\\n",
       "count  6858079.000000  6872670.000000  7009728.000000  7009728.000000   \n",
       "mean         6.860852       16.453045        0.019606        0.002463   \n",
       "std          4.933649       11.332799        0.138643        0.049568   \n",
       "min          0.000000        0.000000        0.000000        0.000000   \n",
       "25%          4.000000       10.000000        0.000000        0.000000   \n",
       "50%          6.000000       14.000000        0.000000        0.000000   \n",
       "75%          8.000000       19.000000        0.000000        0.000000   \n",
       "max        308.000000      429.000000        1.000000        1.000000   \n",
       "\n",
       "         CarrierDelay    WeatherDelay        NASDelay   SecurityDelay  \\\n",
       "count  1524735.000000  1524735.000000  1524735.000000  1524735.000000   \n",
       "mean        15.772063        3.039031       17.164623        0.074974   \n",
       "std         40.099116       19.502874       31.894955        1.837940   \n",
       "min          0.000000        0.000000        0.000000        0.000000   \n",
       "25%          0.000000        0.000000        0.000000        0.000000   \n",
       "50%          0.000000        0.000000        6.000000        0.000000   \n",
       "75%         16.000000        0.000000       21.000000        0.000000   \n",
       "max       2436.000000     1352.000000     1357.000000      392.000000   \n",
       "\n",
       "       LateAircraftDelay  \n",
       "count     1524735.000000  \n",
       "mean           20.770981  \n",
       "std            39.259636  \n",
       "min             0.000000  \n",
       "25%             0.000000  \n",
       "50%             0.000000  \n",
       "75%            26.000000  \n",
       "max          1316.000000  \n",
       "\n",
       "[8 rows x 24 columns]"
      ]
     },
     "execution_count": 5,
     "metadata": {},
     "output_type": "execute_result"
    }
   ],
   "source": [
    "flights_df.describe()"
   ]
  },
  {
   "cell_type": "markdown",
   "metadata": {},
   "source": [
    "**Число уникальных рейсов:**"
   ]
  },
  {
   "cell_type": "code",
   "execution_count": 6,
   "metadata": {
    "collapsed": false
   },
   "outputs": [
    {
     "data": {
      "text/plain": [
       "7539"
      ]
     },
     "execution_count": 6,
     "metadata": {},
     "output_type": "execute_result"
    }
   ],
   "source": [
    "flights_df['FlightNum'].nunique()"
   ]
  },
  {
   "cell_type": "markdown",
   "metadata": {},
   "source": [
    "**Мы можем выполнять группировки для расчета различных аггрегированных статистик.**\n",
    "\n",
    "**Найдем топ-3 рейсов, совершивших самые длинные перелеты за 2008 год.**"
   ]
  },
  {
   "cell_type": "code",
   "execution_count": 7,
   "metadata": {
    "collapsed": false
   },
   "outputs": [
    {
     "data": {
      "text/plain": [
       "FlightNum\n",
       "1     7793942\n",
       "15    7639878\n",
       "2     6888300\n",
       "Name: Distance, dtype: int64"
      ]
     },
     "execution_count": 7,
     "metadata": {},
     "output_type": "execute_result"
    }
   ],
   "source": [
    "flights_df.groupby('FlightNum')['Distance']\\\n",
    "  .sum().sort_values(ascending=False)\\\n",
    "  .iloc[0:3]"
   ]
  },
  {
   "cell_type": "markdown",
   "metadata": {},
   "source": [
    "**Или так:**"
   ]
  },
  {
   "cell_type": "code",
   "execution_count": 8,
   "metadata": {
    "collapsed": false
   },
   "outputs": [
    {
     "data": {
      "text/html": [
       "<div>\n",
       "<table border=\"1\" class=\"dataframe\">\n",
       "  <thead>\n",
       "    <tr>\n",
       "      <th></th>\n",
       "      <th>Cancelled</th>\n",
       "      <th colspan=\"3\" halign=\"left\">Distance</th>\n",
       "    </tr>\n",
       "    <tr>\n",
       "      <th></th>\n",
       "      <th>_total</th>\n",
       "      <th>mean</th>\n",
       "      <th>sum</th>\n",
       "      <th>count</th>\n",
       "    </tr>\n",
       "    <tr>\n",
       "      <th>FlightNum</th>\n",
       "      <th></th>\n",
       "      <th></th>\n",
       "      <th></th>\n",
       "      <th></th>\n",
       "    </tr>\n",
       "  </thead>\n",
       "  <tbody>\n",
       "    <tr>\n",
       "      <th>1</th>\n",
       "      <td>42</td>\n",
       "      <td>1925.380929</td>\n",
       "      <td>7793942</td>\n",
       "      <td>4048</td>\n",
       "    </tr>\n",
       "    <tr>\n",
       "      <th>15</th>\n",
       "      <td>51</td>\n",
       "      <td>1823.795178</td>\n",
       "      <td>7639878</td>\n",
       "      <td>4189</td>\n",
       "    </tr>\n",
       "    <tr>\n",
       "      <th>2</th>\n",
       "      <td>53</td>\n",
       "      <td>1873.347838</td>\n",
       "      <td>6888300</td>\n",
       "      <td>3677</td>\n",
       "    </tr>\n",
       "  </tbody>\n",
       "</table>\n",
       "</div>"
      ],
      "text/plain": [
       "          Cancelled     Distance               \n",
       "             _total         mean      sum count\n",
       "FlightNum                                      \n",
       "1                42  1925.380929  7793942  4048\n",
       "15               51  1823.795178  7639878  4189\n",
       "2                53  1873.347838  6888300  3677"
      ]
     },
     "execution_count": 8,
     "metadata": {},
     "output_type": "execute_result"
    }
   ],
   "source": [
    "flights_df.groupby('FlightNum')\\\n",
    "  .agg({'Distance': [np.mean, np.sum, 'count'],\n",
    "        'Cancelled': {'_total': np.sum}})\\\n",
    "  .sort_values(('Distance', 'sum'), ascending=False)\\\n",
    "  .iloc[0:3]"
   ]
  },
  {
   "cell_type": "markdown",
   "metadata": {},
   "source": [
    "**Построение сводной таблицы:**"
   ]
  },
  {
   "cell_type": "code",
   "execution_count": 9,
   "metadata": {
    "collapsed": false
   },
   "outputs": [
    {
     "data": {
      "text/html": [
       "<div>\n",
       "<table border=\"1\" class=\"dataframe\">\n",
       "  <thead>\n",
       "    <tr style=\"text-align: right;\">\n",
       "      <th>DayOfWeek</th>\n",
       "      <th>1</th>\n",
       "      <th>2</th>\n",
       "      <th>3</th>\n",
       "      <th>4</th>\n",
       "      <th>5</th>\n",
       "      <th>6</th>\n",
       "      <th>7</th>\n",
       "    </tr>\n",
       "    <tr>\n",
       "      <th>Month</th>\n",
       "      <th></th>\n",
       "      <th></th>\n",
       "      <th></th>\n",
       "      <th></th>\n",
       "      <th></th>\n",
       "      <th></th>\n",
       "      <th></th>\n",
       "    </tr>\n",
       "  </thead>\n",
       "  <tbody>\n",
       "    <tr>\n",
       "      <th>1</th>\n",
       "      <td>80807</td>\n",
       "      <td>97298</td>\n",
       "      <td>100080</td>\n",
       "      <td>102043</td>\n",
       "      <td>81940</td>\n",
       "      <td>67178</td>\n",
       "      <td>76419</td>\n",
       "    </tr>\n",
       "    <tr>\n",
       "      <th>2</th>\n",
       "      <td>81504</td>\n",
       "      <td>79700</td>\n",
       "      <td>80587</td>\n",
       "      <td>82158</td>\n",
       "      <td>102726</td>\n",
       "      <td>66462</td>\n",
       "      <td>76099</td>\n",
       "    </tr>\n",
       "    <tr>\n",
       "      <th>3</th>\n",
       "      <td>103210</td>\n",
       "      <td>81159</td>\n",
       "      <td>82307</td>\n",
       "      <td>82831</td>\n",
       "      <td>82936</td>\n",
       "      <td>86153</td>\n",
       "      <td>97494</td>\n",
       "    </tr>\n",
       "    <tr>\n",
       "      <th>4</th>\n",
       "      <td>82463</td>\n",
       "      <td>100785</td>\n",
       "      <td>102586</td>\n",
       "      <td>82799</td>\n",
       "      <td>82964</td>\n",
       "      <td>68304</td>\n",
       "      <td>78225</td>\n",
       "    </tr>\n",
       "    <tr>\n",
       "      <th>5</th>\n",
       "      <td>80626</td>\n",
       "      <td>79884</td>\n",
       "      <td>81264</td>\n",
       "      <td>102572</td>\n",
       "      <td>102878</td>\n",
       "      <td>84493</td>\n",
       "      <td>74576</td>\n",
       "    </tr>\n",
       "    <tr>\n",
       "      <th>6</th>\n",
       "      <td>104168</td>\n",
       "      <td>82160</td>\n",
       "      <td>82902</td>\n",
       "      <td>83617</td>\n",
       "      <td>83930</td>\n",
       "      <td>72322</td>\n",
       "      <td>99566</td>\n",
       "    </tr>\n",
       "    <tr>\n",
       "      <th>7</th>\n",
       "      <td>84095</td>\n",
       "      <td>103429</td>\n",
       "      <td>103315</td>\n",
       "      <td>105035</td>\n",
       "      <td>79349</td>\n",
       "      <td>72219</td>\n",
       "      <td>80489</td>\n",
       "    </tr>\n",
       "    <tr>\n",
       "      <th>8</th>\n",
       "      <td>82983</td>\n",
       "      <td>80895</td>\n",
       "      <td>81773</td>\n",
       "      <td>82625</td>\n",
       "      <td>103878</td>\n",
       "      <td>86155</td>\n",
       "      <td>93970</td>\n",
       "    </tr>\n",
       "    <tr>\n",
       "      <th>9</th>\n",
       "      <td>94300</td>\n",
       "      <td>91533</td>\n",
       "      <td>74057</td>\n",
       "      <td>75589</td>\n",
       "      <td>75881</td>\n",
       "      <td>58343</td>\n",
       "      <td>71205</td>\n",
       "    </tr>\n",
       "    <tr>\n",
       "      <th>10</th>\n",
       "      <td>75131</td>\n",
       "      <td>72195</td>\n",
       "      <td>91900</td>\n",
       "      <td>94123</td>\n",
       "      <td>93894</td>\n",
       "      <td>58168</td>\n",
       "      <td>70794</td>\n",
       "    </tr>\n",
       "    <tr>\n",
       "      <th>11</th>\n",
       "      <td>74214</td>\n",
       "      <td>72443</td>\n",
       "      <td>73653</td>\n",
       "      <td>68071</td>\n",
       "      <td>70484</td>\n",
       "      <td>76031</td>\n",
       "      <td>88376</td>\n",
       "    </tr>\n",
       "    <tr>\n",
       "      <th>12</th>\n",
       "      <td>92700</td>\n",
       "      <td>90568</td>\n",
       "      <td>85241</td>\n",
       "      <td>70761</td>\n",
       "      <td>74306</td>\n",
       "      <td>61708</td>\n",
       "      <td>69674</td>\n",
       "    </tr>\n",
       "  </tbody>\n",
       "</table>\n",
       "</div>"
      ],
      "text/plain": [
       "DayOfWeek       1       2       3       4       5      6      7\n",
       "Month                                                          \n",
       "1           80807   97298  100080  102043   81940  67178  76419\n",
       "2           81504   79700   80587   82158  102726  66462  76099\n",
       "3          103210   81159   82307   82831   82936  86153  97494\n",
       "4           82463  100785  102586   82799   82964  68304  78225\n",
       "5           80626   79884   81264  102572  102878  84493  74576\n",
       "6          104168   82160   82902   83617   83930  72322  99566\n",
       "7           84095  103429  103315  105035   79349  72219  80489\n",
       "8           82983   80895   81773   82625  103878  86155  93970\n",
       "9           94300   91533   74057   75589   75881  58343  71205\n",
       "10          75131   72195   91900   94123   93894  58168  70794\n",
       "11          74214   72443   73653   68071   70484  76031  88376\n",
       "12          92700   90568   85241   70761   74306  61708  69674"
      ]
     },
     "execution_count": 9,
     "metadata": {},
     "output_type": "execute_result"
    }
   ],
   "source": [
    "pd.crosstab(flights_df.Month, flights_df.DayOfWeek)"
   ]
  },
  {
   "cell_type": "markdown",
   "metadata": {},
   "source": [
    "**Бывает удобно \"раскрашивать\" такие сводные таблицы:**"
   ]
  },
  {
   "cell_type": "code",
   "execution_count": 10,
   "metadata": {
    "collapsed": false
   },
   "outputs": [
    {
     "data": {
      "text/plain": [
       "<matplotlib.image.AxesImage at 0x112207550>"
      ]
     },
     "execution_count": 10,
     "metadata": {},
     "output_type": "execute_result"
    },
    {
     "data": {
      "image/png": "[encoded data removed]",
      "text/plain": [
       "<matplotlib.figure.Figure at 0x109ce7c10>"
      ]
     },
     "metadata": {},
     "output_type": "display_data"
    }
   ],
   "source": [
    "plt.imshow(pd.crosstab(flights_df.Month, flights_df.DayOfWeek),\n",
    "           cmap='seismic',interpolation='none')"
   ]
  },
  {
   "cell_type": "markdown",
   "metadata": {},
   "source": [
    "**Гистограмма длин перелетов.**"
   ]
  },
  {
   "cell_type": "code",
   "execution_count": 11,
   "metadata": {
    "collapsed": false
   },
   "outputs": [
    {
     "data": {
      "text/plain": [
       "array([[<matplotlib.axes._subplots.AxesSubplot object at 0x10e3be390>]], dtype=object)"
      ]
     },
     "execution_count": 11,
     "metadata": {},
     "output_type": "execute_result"
    },
    {
     "data": {
      "image/png": "[encoded data removed]",
      "text/plain": [
       "<matplotlib.figure.Figure at 0x10e3c6910>"
      ]
     },
     "metadata": {},
     "output_type": "display_data"
    }
   ],
   "source": [
    "flights_df.hist('Distance', bins=20)"
   ]
  },
  {
   "cell_type": "markdown",
   "metadata": {},
   "source": [
    "**Гистограмма частот перелетов в зависимости от даты.**"
   ]
  },
  {
   "cell_type": "code",
   "execution_count": 12,
   "metadata": {
    "collapsed": false
   },
   "outputs": [],
   "source": [
    "flights_df['Date'] = pd.to_datetime(flights_df.Year*10000 + \n",
    "                                    flights_df.Month*100 + \n",
    "                                    flights_df.DayofMonth, \n",
    "                            format='%Y%m%d')"
   ]
  },
  {
   "cell_type": "code",
   "execution_count": 13,
   "metadata": {
    "collapsed": true
   },
   "outputs": [],
   "source": [
    "num_flights_by_date = flights_df.groupby('Date')['FlightNum'].agg('count')"
   ]
  },
  {
   "cell_type": "code",
   "execution_count": 14,
   "metadata": {
    "collapsed": false
   },
   "outputs": [
    {
     "data": {
      "text/plain": [
       "<matplotlib.axes._subplots.AxesSubplot at 0x10e408f90>"
      ]
     },
     "execution_count": 14,
     "metadata": {},
     "output_type": "execute_result"
    },
    {
     "data": {
      "image/png": "[encoded data removed]",
      "text/plain": [
       "<matplotlib.figure.Figure at 0x10e39fa50>"
      ]
     },
     "metadata": {},
     "output_type": "display_data"
    }
   ],
   "source": [
    "num_flights_by_date.plot()"
   ]
  },
  {
   "cell_type": "code",
   "execution_count": 15,
   "metadata": {
    "collapsed": false
   },
   "outputs": [
    {
     "data": {
      "text/plain": [
       "<matplotlib.axes._subplots.AxesSubplot at 0x121ea0490>"
      ]
     },
     "execution_count": 15,
     "metadata": {},
     "output_type": "execute_result"
    },
    {
     "data": {
      "image/png": "[encoded data removed]",
      "text/plain": [
       "<matplotlib.figure.Figure at 0x121e5bc90>"
      ]
     },
     "metadata": {},
     "output_type": "display_data"
    }
   ],
   "source": [
    "pd.rolling_mean(num_flights_by_date, 7).plot()"
   ]
  },
  {
   "cell_type": "markdown",
   "metadata": {},
   "source": [
    "**1. Найдите топ-10 массовых перевозчиков.**"
   ]
  },
  {
   "cell_type": "code",
   "execution_count": 16,
   "metadata": {
    "collapsed": false
   },
   "outputs": [
    {
     "data": {
      "text/plain": [
       "WN    1201754\n",
       "AA     604885\n",
       "OO     567159\n",
       "MQ     490693\n",
       "US     453589\n",
       "DL     451931\n",
       "UA     449515\n",
       "XE     374510\n",
       "NW     347652\n",
       "CO     298455\n",
       "Name: UniqueCarrier, dtype: int64"
      ]
     },
     "execution_count": 16,
     "metadata": {},
     "output_type": "execute_result"
    }
   ],
   "source": [
    "flights_df['UniqueCarrier'].value_counts().iloc[0:10,]"
   ]
  },
  {
   "cell_type": "markdown",
   "metadata": {},
   "source": [
    "**2. Постройте распределение причин отмены рейсов.**"
   ]
  },
  {
   "cell_type": "code",
   "execution_count": 17,
   "metadata": {
    "collapsed": false
   },
   "outputs": [
    {
     "data": {
      "text/plain": [
       "<matplotlib.axes._subplots.AxesSubplot at 0x10fd76490>"
      ]
     },
     "execution_count": 17,
     "metadata": {},
     "output_type": "execute_result"
    },
    {
     "data": {
      "image/png": "[encoded data removed]",
      "text/plain": [
       "<matplotlib.figure.Figure at 0x10fd87f10>"
      ]
     },
     "metadata": {},
     "output_type": "display_data"
    }
   ],
   "source": [
    "flights_df['CancellationCode'].value_counts()\\\n",
    "    .plot(kind='bar', title=\"Cancellation codes\")"
   ]
  },
  {
   "cell_type": "markdown",
   "metadata": {},
   "source": [
    "В описании признаков указано, что значения кодов причин задержек: B - из-за погоды, A - из-за перевозчика, C - по решению National Air System, D - из соображений безопасности. "
   ]
  },
  {
   "cell_type": "markdown",
   "metadata": {},
   "source": [
    "**3. Найдите самый популярный маршрут, отобразите статистику по данному маршруту.**"
   ]
  },
  {
   "cell_type": "code",
   "execution_count": 22,
   "metadata": {
    "collapsed": false
   },
   "outputs": [
    {
     "name": "stdout",
     "output_type": "stream",
     "text": [
      "SFO->LAX\n"
     ]
    },
    {
     "data": {
      "text/html": [
       "<div>\n",
       "<table border=\"1\" class=\"dataframe\">\n",
       "  <thead>\n",
       "    <tr style=\"text-align: right;\">\n",
       "      <th></th>\n",
       "      <th>Year</th>\n",
       "      <th>Month</th>\n",
       "      <th>DayofMonth</th>\n",
       "      <th>DayOfWeek</th>\n",
       "      <th>DepTime</th>\n",
       "      <th>CRSDepTime</th>\n",
       "      <th>ArrTime</th>\n",
       "      <th>CRSArrTime</th>\n",
       "      <th>FlightNum</th>\n",
       "      <th>ActualElapsedTime</th>\n",
       "      <th>...</th>\n",
       "      <th>Distance</th>\n",
       "      <th>TaxiIn</th>\n",
       "      <th>TaxiOut</th>\n",
       "      <th>Cancelled</th>\n",
       "      <th>Diverted</th>\n",
       "      <th>CarrierDelay</th>\n",
       "      <th>WeatherDelay</th>\n",
       "      <th>NASDelay</th>\n",
       "      <th>SecurityDelay</th>\n",
       "      <th>LateAircraftDelay</th>\n",
       "    </tr>\n",
       "  </thead>\n",
       "  <tbody>\n",
       "    <tr>\n",
       "      <th>count</th>\n",
       "      <td>13788</td>\n",
       "      <td>13788.000000</td>\n",
       "      <td>13788.000000</td>\n",
       "      <td>13788.000000</td>\n",
       "      <td>13299.000000</td>\n",
       "      <td>13788.000000</td>\n",
       "      <td>13286.000000</td>\n",
       "      <td>13788.000000</td>\n",
       "      <td>13788.000000</td>\n",
       "      <td>13285.000000</td>\n",
       "      <td>...</td>\n",
       "      <td>13788</td>\n",
       "      <td>13286.000000</td>\n",
       "      <td>13299.000000</td>\n",
       "      <td>13788.000000</td>\n",
       "      <td>13788.000000</td>\n",
       "      <td>3142.000000</td>\n",
       "      <td>3142.000000</td>\n",
       "      <td>3142.000000</td>\n",
       "      <td>3142.000000</td>\n",
       "      <td>3142.000000</td>\n",
       "    </tr>\n",
       "    <tr>\n",
       "      <th>mean</th>\n",
       "      <td>2008</td>\n",
       "      <td>6.337322</td>\n",
       "      <td>15.730418</td>\n",
       "      <td>3.862997</td>\n",
       "      <td>1371.032408</td>\n",
       "      <td>1356.596388</td>\n",
       "      <td>1481.378820</td>\n",
       "      <td>1493.550116</td>\n",
       "      <td>1862.825573</td>\n",
       "      <td>82.417840</td>\n",
       "      <td>...</td>\n",
       "      <td>337</td>\n",
       "      <td>9.912163</td>\n",
       "      <td>17.273554</td>\n",
       "      <td>0.035466</td>\n",
       "      <td>0.001015</td>\n",
       "      <td>9.689688</td>\n",
       "      <td>0.360280</td>\n",
       "      <td>7.630808</td>\n",
       "      <td>0.026416</td>\n",
       "      <td>42.157225</td>\n",
       "    </tr>\n",
       "    <tr>\n",
       "      <th>std</th>\n",
       "      <td>0</td>\n",
       "      <td>3.358147</td>\n",
       "      <td>8.791381</td>\n",
       "      <td>1.973866</td>\n",
       "      <td>489.328348</td>\n",
       "      <td>472.940974</td>\n",
       "      <td>502.009856</td>\n",
       "      <td>473.465680</td>\n",
       "      <td>1999.167552</td>\n",
       "      <td>10.184247</td>\n",
       "      <td>...</td>\n",
       "      <td>0</td>\n",
       "      <td>5.120369</td>\n",
       "      <td>7.126813</td>\n",
       "      <td>0.184960</td>\n",
       "      <td>0.031850</td>\n",
       "      <td>27.959199</td>\n",
       "      <td>8.216006</td>\n",
       "      <td>16.685259</td>\n",
       "      <td>1.009160</td>\n",
       "      <td>46.774688</td>\n",
       "    </tr>\n",
       "    <tr>\n",
       "      <th>min</th>\n",
       "      <td>2008</td>\n",
       "      <td>1.000000</td>\n",
       "      <td>1.000000</td>\n",
       "      <td>1.000000</td>\n",
       "      <td>3.000000</td>\n",
       "      <td>540.000000</td>\n",
       "      <td>1.000000</td>\n",
       "      <td>5.000000</td>\n",
       "      <td>4.000000</td>\n",
       "      <td>58.000000</td>\n",
       "      <td>...</td>\n",
       "      <td>337</td>\n",
       "      <td>1.000000</td>\n",
       "      <td>4.000000</td>\n",
       "      <td>0.000000</td>\n",
       "      <td>0.000000</td>\n",
       "      <td>0.000000</td>\n",
       "      <td>0.000000</td>\n",
       "      <td>0.000000</td>\n",
       "      <td>0.000000</td>\n",
       "      <td>0.000000</td>\n",
       "    </tr>\n",
       "    <tr>\n",
       "      <th>25%</th>\n",
       "      <td>2008</td>\n",
       "      <td>3.000000</td>\n",
       "      <td>8.000000</td>\n",
       "      <td>2.000000</td>\n",
       "      <td>941.000000</td>\n",
       "      <td>945.000000</td>\n",
       "      <td>1054.000000</td>\n",
       "      <td>1110.000000</td>\n",
       "      <td>817.000000</td>\n",
       "      <td>75.000000</td>\n",
       "      <td>...</td>\n",
       "      <td>337</td>\n",
       "      <td>7.000000</td>\n",
       "      <td>12.000000</td>\n",
       "      <td>0.000000</td>\n",
       "      <td>0.000000</td>\n",
       "      <td>0.000000</td>\n",
       "      <td>0.000000</td>\n",
       "      <td>0.000000</td>\n",
       "      <td>0.000000</td>\n",
       "      <td>5.000000</td>\n",
       "    </tr>\n",
       "    <tr>\n",
       "      <th>50%</th>\n",
       "      <td>2008</td>\n",
       "      <td>6.000000</td>\n",
       "      <td>16.000000</td>\n",
       "      <td>4.000000</td>\n",
       "      <td>1355.000000</td>\n",
       "      <td>1315.000000</td>\n",
       "      <td>1507.000000</td>\n",
       "      <td>1443.000000</td>\n",
       "      <td>1153.000000</td>\n",
       "      <td>81.000000</td>\n",
       "      <td>...</td>\n",
       "      <td>337</td>\n",
       "      <td>9.000000</td>\n",
       "      <td>16.000000</td>\n",
       "      <td>0.000000</td>\n",
       "      <td>0.000000</td>\n",
       "      <td>0.000000</td>\n",
       "      <td>0.000000</td>\n",
       "      <td>1.000000</td>\n",
       "      <td>0.000000</td>\n",
       "      <td>28.000000</td>\n",
       "    </tr>\n",
       "    <tr>\n",
       "      <th>75%</th>\n",
       "      <td>2008</td>\n",
       "      <td>9.000000</td>\n",
       "      <td>23.000000</td>\n",
       "      <td>5.000000</td>\n",
       "      <td>1809.000000</td>\n",
       "      <td>1756.000000</td>\n",
       "      <td>1919.000000</td>\n",
       "      <td>1920.000000</td>\n",
       "      <td>1957.000000</td>\n",
       "      <td>88.000000</td>\n",
       "      <td>...</td>\n",
       "      <td>337</td>\n",
       "      <td>12.000000</td>\n",
       "      <td>20.000000</td>\n",
       "      <td>0.000000</td>\n",
       "      <td>0.000000</td>\n",
       "      <td>7.000000</td>\n",
       "      <td>0.000000</td>\n",
       "      <td>11.000000</td>\n",
       "      <td>0.000000</td>\n",
       "      <td>64.000000</td>\n",
       "    </tr>\n",
       "    <tr>\n",
       "      <th>max</th>\n",
       "      <td>2008</td>\n",
       "      <td>12.000000</td>\n",
       "      <td>31.000000</td>\n",
       "      <td>7.000000</td>\n",
       "      <td>2400.000000</td>\n",
       "      <td>2240.000000</td>\n",
       "      <td>2400.000000</td>\n",
       "      <td>2359.000000</td>\n",
       "      <td>7815.000000</td>\n",
       "      <td>196.000000</td>\n",
       "      <td>...</td>\n",
       "      <td>337</td>\n",
       "      <td>106.000000</td>\n",
       "      <td>84.000000</td>\n",
       "      <td>1.000000</td>\n",
       "      <td>1.000000</td>\n",
       "      <td>339.000000</td>\n",
       "      <td>406.000000</td>\n",
       "      <td>401.000000</td>\n",
       "      <td>54.000000</td>\n",
       "      <td>373.000000</td>\n",
       "    </tr>\n",
       "  </tbody>\n",
       "</table>\n",
       "<p>8 rows × 24 columns</p>\n",
       "</div>"
      ],
      "text/plain": [
       "        Year         Month    DayofMonth     DayOfWeek       DepTime  \\\n",
       "count  13788  13788.000000  13788.000000  13788.000000  13299.000000   \n",
       "mean    2008      6.337322     15.730418      3.862997   1371.032408   \n",
       "std        0      3.358147      8.791381      1.973866    489.328348   \n",
       "min     2008      1.000000      1.000000      1.000000      3.000000   \n",
       "25%     2008      3.000000      8.000000      2.000000    941.000000   \n",
       "50%     2008      6.000000     16.000000      4.000000   1355.000000   \n",
       "75%     2008      9.000000     23.000000      5.000000   1809.000000   \n",
       "max     2008     12.000000     31.000000      7.000000   2400.000000   \n",
       "\n",
       "         CRSDepTime       ArrTime    CRSArrTime     FlightNum  \\\n",
       "count  13788.000000  13286.000000  13788.000000  13788.000000   \n",
       "mean    1356.596388   1481.378820   1493.550116   1862.825573   \n",
       "std      472.940974    502.009856    473.465680   1999.167552   \n",
       "min      540.000000      1.000000      5.000000      4.000000   \n",
       "25%      945.000000   1054.000000   1110.000000    817.000000   \n",
       "50%     1315.000000   1507.000000   1443.000000   1153.000000   \n",
       "75%     1756.000000   1919.000000   1920.000000   1957.000000   \n",
       "max     2240.000000   2400.000000   2359.000000   7815.000000   \n",
       "\n",
       "       ActualElapsedTime        ...          Distance        TaxiIn  \\\n",
       "count       13285.000000        ...             13788  13286.000000   \n",
       "mean           82.417840        ...               337      9.912163   \n",
       "std            10.184247        ...                 0      5.120369   \n",
       "min            58.000000        ...               337      1.000000   \n",
       "25%            75.000000        ...               337      7.000000   \n",
       "50%            81.000000        ...               337      9.000000   \n",
       "75%            88.000000        ...               337     12.000000   \n",
       "max           196.000000        ...               337    106.000000   \n",
       "\n",
       "            TaxiOut     Cancelled      Diverted  CarrierDelay  WeatherDelay  \\\n",
       "count  13299.000000  13788.000000  13788.000000   3142.000000   3142.000000   \n",
       "mean      17.273554      0.035466      0.001015      9.689688      0.360280   \n",
       "std        7.126813      0.184960      0.031850     27.959199      8.216006   \n",
       "min        4.000000      0.000000      0.000000      0.000000      0.000000   \n",
       "25%       12.000000      0.000000      0.000000      0.000000      0.000000   \n",
       "50%       16.000000      0.000000      0.000000      0.000000      0.000000   \n",
       "75%       20.000000      0.000000      0.000000      7.000000      0.000000   \n",
       "max       84.000000      1.000000      1.000000    339.000000    406.000000   \n",
       "\n",
       "          NASDelay  SecurityDelay  LateAircraftDelay  \n",
       "count  3142.000000    3142.000000        3142.000000  \n",
       "mean      7.630808       0.026416          42.157225  \n",
       "std      16.685259       1.009160          46.774688  \n",
       "min       0.000000       0.000000           0.000000  \n",
       "25%       0.000000       0.000000           5.000000  \n",
       "50%       1.000000       0.000000          28.000000  \n",
       "75%      11.000000       0.000000          64.000000  \n",
       "max     401.000000      54.000000         373.000000  \n",
       "\n",
       "[8 rows x 24 columns]"
      ]
     },
     "execution_count": 22,
     "metadata": {},
     "output_type": "execute_result"
    }
   ],
   "source": [
    "flights_df['Route'] = flights_df['Origin'] + '->' + flights_df['Dest']\n",
    "popular_route = flights_df['Route'].mode().values[0]\n",
    "print(popular_route)\n",
    "pop_flight = flights_df[flights_df['Route'] == popular_route]\n",
    "pop_flight.describe()"
   ]
  },
  {
   "cell_type": "markdown",
   "metadata": {},
   "source": [
    "**4. Найдите топ-5 рейсов по каждому из типов delay. Каким перевозчикам они принадлежат?**"
   ]
  },
  {
   "cell_type": "code",
   "execution_count": 23,
   "metadata": {
    "collapsed": false
   },
   "outputs": [
    {
     "name": "stdout",
     "output_type": "stream",
     "text": [
      "Delay type: CarrierDelay\n",
      "Carriers: ['WN' 'XE' 'UA' 'US' 'DL' 'F9' 'FL' 'HA' 'NW' 'AA' 'AQ' 'AS' 'B6' 'CO']\n",
      "Delay type: WeatherDelay\n",
      "Carriers: ['WN' 'OH' 'UA' 'US' 'DL' 'F9' 'FL' 'NW' '9E' 'AA' 'AS' 'B6' 'CO' 'EV']\n",
      "Delay type: NASDelay\n",
      "Carriers: ['WN' 'XE' 'UA' 'US' 'DL' 'F9' 'FL' 'HA' 'NW' 'AA' 'AS' 'B6' 'CO']\n",
      "Delay type: SecurityDelay\n",
      "Carriers: ['WN' 'XE' 'YV' 'UA' 'US' 'DL' 'F9' 'FL' 'HA' 'NW' 'AA' 'AQ' 'AS' 'B6' 'CO'\n",
      " '9E' 'OO']\n",
      "Delay type: LateAircraftDelay\n",
      "Carriers: ['WN' 'XE' 'UA' 'US' 'DL' 'FL' 'HA' 'NW' 'AA' 'AS' 'B6' 'CO']\n"
     ]
    }
   ],
   "source": [
    "delay_types = ['CarrierDelay', 'WeatherDelay', 'NASDelay', \n",
    "               'SecurityDelay', 'LateAircraftDelay']\n",
    "top_races = []\n",
    "for delay_type in delay_types:\n",
    "    top_races.append(flights_df.groupby('FlightNum')[delay_type]\\\n",
    "      .sum().sort_values(ascending = False).iloc[0:5].index.values)\n",
    "\n",
    "for delay_type, flight_nums in  zip(delay_types, top_races):\n",
    "    carriers = flights_df[flights_df.FlightNum.isin(flight_nums)]['UniqueCarrier'].unique()\n",
    "    print(\"Delay type: %s\" % delay_type)\n",
    "    print(\"Carriers:\", carriers)"
   ]
  },
  {
   "cell_type": "markdown",
   "metadata": {},
   "source": [
    "**5. Определите, как распределено количество рейсов в зависимости от времени дня?**"
   ]
  },
  {
   "cell_type": "code",
   "execution_count": 24,
   "metadata": {
    "collapsed": false
   },
   "outputs": [
    {
     "data": {
      "text/plain": [
       "<matplotlib.axes._subplots.AxesSubplot at 0x112136b90>"
      ]
     },
     "execution_count": 24,
     "metadata": {},
     "output_type": "execute_result"
    },
    {
     "data": {
      "image/png": "[encoded data removed]",
      "text/plain": [
       "<matplotlib.figure.Figure at 0x111f41e50>"
      ]
     },
     "metadata": {},
     "output_type": "display_data"
    }
   ],
   "source": [
    "flights_df['DepHour'] = (flights_df['DepTime'] / 100).apply(np.floor) \n",
    "flights_df['DepHour'].value_counts(sort=False).plot(kind='bar',\n",
    "        title=\"Number of flights depending on departure hour\")"
   ]
  },
  {
   "cell_type": "markdown",
   "metadata": {},
   "source": [
    "**6. Найдите и опишите \"тенденцию\" для временных рядов по количеству вылетов на каждый день недели и в каждом месяце.**"
   ]
  },
  {
   "cell_type": "markdown",
   "metadata": {},
   "source": [
    "По выходным перелетов меньше."
   ]
  },
  {
   "cell_type": "code",
   "execution_count": 25,
   "metadata": {
    "collapsed": false
   },
   "outputs": [
    {
     "data": {
      "text/plain": [
       "<matplotlib.axes._subplots.AxesSubplot at 0x112069fd0>"
      ]
     },
     "execution_count": 25,
     "metadata": {},
     "output_type": "execute_result"
    },
    {
     "data": {
      "image/png": "[encoded data removed]",
      "text/plain": [
       "<matplotlib.figure.Figure at 0x16d40c190>"
      ]
     },
     "metadata": {},
     "output_type": "display_data"
    }
   ],
   "source": [
    "num_flights_by_day_of_week = flights_df.groupby('DayOfWeek')['FlightNum'].agg('count')\n",
    "num_flights_by_day_of_week.plot(kind='bar')"
   ]
  },
  {
   "cell_type": "markdown",
   "metadata": {},
   "source": [
    "Кстати, любопытный эффект из серии \"как врать с помощью статистики\" (сравните следующую картинку с предыдущей):"
   ]
  },
  {
   "cell_type": "code",
   "execution_count": 26,
   "metadata": {
    "collapsed": false
   },
   "outputs": [
    {
     "data": {
      "text/plain": [
       "<matplotlib.axes._subplots.AxesSubplot at 0x16d61a2d0>"
      ]
     },
     "execution_count": 26,
     "metadata": {},
     "output_type": "execute_result"
    },
    {
     "data": {
      "image/png": "[encoded data removed]",
      "text/plain": [
       "<matplotlib.figure.Figure at 0x1120f7c50>"
      ]
     },
     "metadata": {},
     "output_type": "display_data"
    }
   ],
   "source": [
    "num_flights_by_day_of_week.plot()"
   ]
  },
  {
   "cell_type": "markdown",
   "metadata": {},
   "source": [
    "Зимой перелетов меньше, чем летом."
   ]
  },
  {
   "cell_type": "code",
   "execution_count": 27,
   "metadata": {
    "collapsed": false
   },
   "outputs": [
    {
     "data": {
      "text/plain": [
       "<matplotlib.axes._subplots.AxesSubplot at 0x10fcf45d0>"
      ]
     },
     "execution_count": 27,
     "metadata": {},
     "output_type": "execute_result"
    },
    {
     "data": {
      "image/png": "[encoded data removed]",
      "text/plain": [
       "<matplotlib.figure.Figure at 0x16d4d8590>"
      ]
     },
     "metadata": {},
     "output_type": "display_data"
    }
   ],
   "source": [
    "num_flights_by_month = flights_df.groupby('Month').agg({'FlightNum':np.size})\n",
    "num_flights_by_month.plot(kind='bar')"
   ]
  },
  {
   "cell_type": "markdown",
   "metadata": {},
   "source": [
    "Зависимости от дня в месяце нет (перелетов 30го и 31го меньше только потому, что не во все месяцы есть эти дни)."
   ]
  },
  {
   "cell_type": "code",
   "execution_count": 28,
   "metadata": {
    "collapsed": false
   },
   "outputs": [
    {
     "data": {
      "text/plain": [
       "<matplotlib.axes._subplots.AxesSubplot at 0x16d78df50>"
      ]
     },
     "execution_count": 28,
     "metadata": {},
     "output_type": "execute_result"
    },
    {
     "data": {
      "image/png": "[encoded data removed]",
      "text/plain": [
       "<matplotlib.figure.Figure at 0x16d4db750>"
      ]
     },
     "metadata": {},
     "output_type": "display_data"
    }
   ],
   "source": [
    "num_flights_by_day_of_month = flights_df.groupby('DayofMonth')['FlightNum'].agg('count')\n",
    "num_flights_by_day_of_month.plot(kind='bar')"
   ]
  }
 ],
 "metadata": {
  "kernelspec": {
   "display_name": "Python 2",
   "language": "python",
   "name": "python2"
  },
  "language_info": {
   "codemirror_mode": {
    "name": "ipython",
    "version": 2
   },
   "file_extension": ".py",
   "mimetype": "text/x-python",
   "name": "python",
   "nbconvert_exporter": "python",
   "pygments_lexer": "ipython2",
   "version": "2.7.11"
  }
 },
 "nbformat": 4,
 "nbformat_minor": 0
}
