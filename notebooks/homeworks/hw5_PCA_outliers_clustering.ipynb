{
 "cells": [
  {
   "cell_type": "markdown",
   "metadata": {},
   "source": [
    "<center>\n",
    "<img src=\"../../img/ml_theme.png\">\n",
    "# Дополнительное профессиональное <br> образование НИУ ВШЭ\n",
    "#### Программа \"Машинное обучение и майнинг данных\"\n",
    "<img src=\"../../img/faculty_logo.jpg\" height=\"240\" width=\"240\">\n",
    "## Автор материала: преподаватель Факультета Компьютерных Наук НИУ ВШЭ Кашницкий Юрий\n",
    "</center>\n",
    "Материал распространяется на условиях лицензии <a href=\"https://opensource.org/licenses/MS-RL\">Ms-RL</a>. Можно использовать в любых целях, кроме коммерческих, но с обязательным упоминанием автора материала."
   ]
  },
  {
   "cell_type": "markdown",
   "metadata": {},
   "source": [
    "# Занятие 5. Задача восстановления регрессии. Обучение без учителя"
   ]
  },
  {
   "cell_type": "markdown",
   "metadata": {},
   "source": [
    "## Домашнее задание 5. Визуализация многомерных данных в 2D, поиск выбросов и кластеризация"
   ]
  },
  {
   "cell_type": "code",
   "execution_count": 1,
   "metadata": {
    "collapsed": false
   },
   "outputs": [
    {
     "name": "stdout",
     "output_type": "stream",
     "text": [
      "Populating the interactive namespace from numpy and matplotlib\n"
     ]
    }
   ],
   "source": [
    "from __future__ import division, print_function\n",
    "import warnings\n",
    "warnings.filterwarnings('ignore')\n",
    "%pylab inline\n",
    "import numpy as np\n",
    "import sys\n",
    "if sys.version_info.major == 2:\n",
    "    from urllib import urlopen\n",
    "if sys.version_info.major == 3:    \n",
    "    from urllib.request import urlopen"
   ]
  },
  {
   "cell_type": "markdown",
   "metadata": {},
   "source": [
    "**Загружаем датасет Breaset Canser Wisconsin. Метки классов нужны только для оценки качества кластеризации.**"
   ]
  },
  {
   "cell_type": "code",
   "execution_count": 2,
   "metadata": {
    "collapsed": false
   },
   "outputs": [
    {
     "data": {
      "text/plain": [
       "((569, 30), (569,))"
      ]
     },
     "execution_count": 2,
     "metadata": {},
     "output_type": "execute_result"
    }
   ],
   "source": [
    "url = \"https://archive.ics.uci.edu/ml/machine-learning-databases/breast-cancer-wisconsin/\"\n",
    "raw_data = urlopen(url + \"wdbc.data\")\n",
    "data = np.loadtxt(raw_data, delimiter=\",\", converters = {1: lambda x: int(x == b'M')})\n",
    "X = data[:, 2:]\n",
    "y = data[:, 1]\n",
    "\n",
    "shape(X), shape(y)"
   ]
  },
  {
   "cell_type": "markdown",
   "metadata": {},
   "source": [
    "**Отмасштабируйте данные.**"
   ]
  },
  {
   "cell_type": "code",
   "execution_count": 3,
   "metadata": {
    "collapsed": true
   },
   "outputs": [],
   "source": [
    "from sklearn.preprocessing import StandardScaler\n",
    "X_scaled = # Ваш код здесь"
   ]
  },
  {
   "cell_type": "markdown",
   "metadata": {},
   "source": [
    "**Визуализируйте данные в 2D-проекции, используя PCA.**"
   ]
  },
  {
   "cell_type": "code",
   "execution_count": null,
   "metadata": {
    "collapsed": false
   },
   "outputs": [],
   "source": [
    "from sklearn.decomposition import PCA\n",
    "\n",
    "# Apply PCA to X with n_components=2\n",
    "X_reduced = # Ваш код здесь\n",
    "\n",
    "# Plot X in 2D-projection\n",
    "# Ваш код здесь"
   ]
  },
  {
   "cell_type": "markdown",
   "metadata": {},
   "source": [
    "**При желании визуализируйте данные с помощью алгоритма t-SNE.**"
   ]
  },
  {
   "cell_type": "code",
   "execution_count": null,
   "metadata": {
    "collapsed": true
   },
   "outputs": [],
   "source": [
    "from sklearn.manifold import TSNE\n",
    "tsne = TSNE(random_state=42)\n",
    "tsne_representation = # Ваш код здесь"
   ]
  },
  {
   "cell_type": "code",
   "execution_count": null,
   "metadata": {
    "collapsed": false
   },
   "outputs": [],
   "source": [
    "figsize(16, 12)\n",
    "scatter # Ваш код здесь"
   ]
  },
  {
   "cell_type": "markdown",
   "metadata": {},
   "source": [
    "**Примените OneClassSVM для поиска выбросов и отобразите выбросы в 2D-проекции. После этого удалите выбросы из выборки (долю выбросов выберите сами). Все ли найденные выбросы выглядят как выбросы в 2D-проекции?**"
   ]
  },
  {
   "cell_type": "code",
   "execution_count": null,
   "metadata": {
    "collapsed": true
   },
   "outputs": [],
   "source": [
    "from sklearn.svm import OneClassSVM\n",
    "from scipy.stats import scoreatpercentile\n",
    "\n",
    "OUT_FRAC = # Ваш код здесь\n",
    "\n",
    "# Fit one-class SVM\n",
    "ocsvm = # Ваш код здесь\n",
    "\n",
    "# Detect outliers\n",
    "dist_to_border = ocsvm.decision_function(X).ravel()\n",
    "is_outlier = # Ваш код здесь\n",
    "\n",
    "# Plot outliers in 2D-projection\n",
    "# Ваш код здесь"
   ]
  },
  {
   "cell_type": "markdown",
   "metadata": {},
   "source": [
    "**Уберите выбросы. Дальше работайте с выборками без выбросов.**"
   ]
  },
  {
   "cell_type": "code",
   "execution_count": null,
   "metadata": {
    "collapsed": false
   },
   "outputs": [],
   "source": [
    "X_scaled_no_out = # Ваш код здесь\n",
    "y_no_out = # Ваш код здесь"
   ]
  },
  {
   "cell_type": "markdown",
   "metadata": {},
   "source": [
    "**Попробуйте использовать различные алгоритмы кластеризации (хотя бы 2) на этом наборе данных (после удаления выбросов). Визуализируйте результаты в проекции на первые две главных компоненты.**"
   ]
  },
  {
   "cell_type": "code",
   "execution_count": null,
   "metadata": {
    "collapsed": true
   },
   "outputs": [],
   "source": [
    "# Import several clustering algorithms\n",
    "from sklearn.cluster import KMeans \n",
    "# Ваш код здесь\n",
    "\n",
    "# Fit clustering algorithms to X\n",
    "kmeans = # Ваш код здесь\n",
    "\n",
    "\n",
    "algs = ['K-means', # Ваш код здесь \n",
    "y_pred = [kmeans.labels_, # Ваш код здесь\n",
    "\n",
    "# Plot clustering results in 2D projection\n",
    "for i in range(len(alg)):\n",
    "    # Ваш код здесь"
   ]
  },
  {
   "cell_type": "markdown",
   "metadata": {},
   "source": [
    "**При желании.**\n",
    "\n",
    "**Для каждого из алгоритмов вычислите метрики качества кластеризации: ARI, AMI, гомогенность, полноту и силуэт. Эти показатели не зависят от самих значений меток, поэтому можно не заботиться о том, какой кластер какому классу соответствует. Сравните полученные результаты. Какой алгоритм сработал лучше на этом наборе данных?**"
   ]
  },
  {
   "cell_type": "code",
   "execution_count": null,
   "metadata": {
    "collapsed": true
   },
   "outputs": [],
   "source": [
    "from sklearn import metrics\n",
    "\n",
    "# Compute clustering quantity metrics for each algorithm\n",
    "for i in range(len(algs)):\n",
    "    print('\\nAlgorithm name: ' + algs[i])\n",
    "    # Ваш код здесь"
   ]
  }
 ],
 "metadata": {
  "kernelspec": {
   "display_name": "Python 2",
   "language": "python",
   "name": "python2"
  },
  "language_info": {
   "codemirror_mode": {
    "name": "ipython",
    "version": 2
   },
   "file_extension": ".py",
   "mimetype": "text/x-python",
   "name": "python",
   "nbconvert_exporter": "python",
   "pygments_lexer": "ipython2",
   "version": "2.7.11"
  },
  "name": "2_1_7_regul.ipynb"
 },
 "nbformat": 4,
 "nbformat_minor": 0
}
