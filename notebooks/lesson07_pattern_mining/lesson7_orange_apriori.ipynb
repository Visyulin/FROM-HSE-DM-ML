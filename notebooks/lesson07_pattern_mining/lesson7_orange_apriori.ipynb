{
 "cells": [
  {
   "cell_type": "markdown",
   "metadata": {},
   "source": [
    "<center>\n",
    "<img src=\"../../img/ml_theme.png\">\n",
    "# Дополнительное профессиональное <br> образование НИУ ВШЭ\n",
    "#### Программа \"Машинное обучение и майнинг данных\"\n",
    "<img src=\"../../img/faculty_logo.jpg\" height=\"240\" width=\"240\">\n",
    "## Автор материала: преподаватель Факультета Компьютерных Наук НИУ ВШЭ Кашницкий Юрий\n",
    "</center>\n",
    "Материал распространяется на условиях лицензии <a href=\"https://opensource.org/licenses/MS-RL\">Ms-RL</a>. Можно использовать в любых целях, кроме коммерческих, но с обязательным упоминанием автора материала."
   ]
  },
  {
   "cell_type": "markdown",
   "metadata": {},
   "source": [
    "## Занятие 7. Поиск ассоциативных правил и частых множеств признаков"
   ]
  },
  {
   "cell_type": "code",
   "execution_count": 1,
   "metadata": {
    "collapsed": true
   },
   "outputs": [],
   "source": [
    "import Orange"
   ]
  },
  {
   "cell_type": "markdown",
   "metadata": {},
   "source": [
    "**Загружаем данные из набора c покупками.**"
   ]
  },
  {
   "cell_type": "code",
   "execution_count": 2,
   "metadata": {
    "collapsed": false
   },
   "outputs": [
    {
     "data": {
      "text/plain": [
       "[[], {\"Bread\":1.000, \"Milk\":1.000},\n",
       " [], {\"Bread\":1.000, \"Diapers\":1.000, \"Beer\":1.000, \"Eggs\":1.000},\n",
       " [], {\"Milk\":1.000, \"Diapers\":1.000, \"Beer\":1.000, \"Cola\":1.000},\n",
       " [], {\"Bread\":1.000, \"Milk\":1.000, \"Diapers\":1.000, \"Beer\":1.000},\n",
       " [], {\"Bread\":1.000, \"Milk\":1.000, \"Diapers\":1.000, \"Cola\":1.000}]"
      ]
     },
     "execution_count": 2,
     "metadata": {},
     "output_type": "execute_result"
    }
   ],
   "source": [
    "basket_data = Orange.data.Table(\"market-basket.basket\")\n",
    "basket_data[:]"
   ]
  },
  {
   "cell_type": "markdown",
   "metadata": {},
   "source": [
    "**Находим все ассоциативные правила с поддержкой не менее 0.3.**"
   ]
  },
  {
   "cell_type": "code",
   "execution_count": 3,
   "metadata": {
    "collapsed": false
   },
   "outputs": [],
   "source": [
    "rules = Orange.associate.AssociationRulesSparseInducer(basket_data, support=0.3)"
   ]
  },
  {
   "cell_type": "markdown",
   "metadata": {},
   "source": [
    "**Выводим 5 правил и значения поддержки и достоверности.**"
   ]
  },
  {
   "cell_type": "code",
   "execution_count": 4,
   "metadata": {
    "collapsed": false
   },
   "outputs": [
    {
     "name": "stdout",
     "output_type": "stream",
     "text": [
      "Supp Conf  Rule\n",
      " 0.4  1.0  Cola -> Diapers\n",
      " 0.4  0.5  Diapers -> Cola\n",
      " 0.4  1.0  Cola -> Diapers Milk\n",
      " 0.4  1.0  Cola Diapers -> Milk\n",
      " 0.4  1.0  Cola Milk -> Diapers\n"
     ]
    }
   ],
   "source": [
    "print \"%4s %4s  %s\" % (\"Supp\", \"Conf\", \"Rule\")\n",
    "for r in rules[:5]:\n",
    "    print \"%4.1f %4.1f  %s\" % (r.support, r.confidence, r)"
   ]
  },
  {
   "cell_type": "markdown",
   "metadata": {},
   "source": [
    "**Найдем частые множества товаров, встречающиеся как минмимум в 40% покупок.**"
   ]
  },
  {
   "cell_type": "code",
   "execution_count": 5,
   "metadata": {
    "collapsed": false
   },
   "outputs": [
    {
     "name": "stdout",
     "output_type": "stream",
     "text": [
      "(0.40) Cola\n",
      "(0.40) Cola Diapers\n",
      "(0.40) Cola Diapers Milk\n",
      "(0.40) Cola Milk\n",
      "(0.60) Beer\n"
     ]
    }
   ],
   "source": [
    "rules = Orange.associate.AssociationRulesSparseInducer(support=0.4, storeExamples = True)\n",
    "itemsets = rules.get_itemsets(basket_data)\n",
    "# относительная поддержка и частые множества\n",
    "for itemset, tids in itemsets[:5]:\n",
    "    print \"(%4.2f) %s\" % (len(tids) / float(len(basket_data)),\n",
    "                          \" \".join(basket_data.domain[item].name for item in itemset))"
   ]
  },
  {
   "cell_type": "markdown",
   "metadata": {},
   "source": [
    "**Теперь жизненный пример.**"
   ]
  },
  {
   "cell_type": "markdown",
   "metadata": {},
   "source": [
    "Данные Weka о транзакциях в супермаркете. Неофициальное [описание](http://weka.8497.n7.nabble.com/question-of-using-supermarket-arff-for-academic-research-td2573.html), [тьюториал](http://machinelearningmastery.com/market-basket-analysis-with-association-rule-learning/) с Weka по поиску ассоциативных правил."
   ]
  },
  {
   "cell_type": "code",
   "execution_count": 6,
   "metadata": {
    "collapsed": true
   },
   "outputs": [],
   "source": [
    "supermarket_data = Orange.data.Table(\"../../data/supermarket.arff\")"
   ]
  },
  {
   "cell_type": "code",
   "execution_count": 7,
   "metadata": {
    "collapsed": false
   },
   "outputs": [
    {
     "data": {
      "text/plain": [
       "[department1, department2, department3, department4, department5, department6, department7, department8, department9, grocery misc, department11, baby needs, bread and cake, baking needs, coupons, juice-sat-cord-ms, tea, biscuits, canned fish-meat, canned fruit, canned vegetables, breakfast food, cigs-tobacco pkts, cigarette cartons, cleaners-polishers, coffee, sauces-gravy-pkle, confectionary, puddings-deserts, dishcloths-scour, deod-disinfectant, frozen foods, razor blades, fuels-garden aids, spices, jams-spreads, insecticides, pet foods, laundry needs, party snack foods, tissues-paper prd, wrapping, dried vegetables, pkt-canned soup, soft drinks, health food other, beverages hot, health&beauty misc, deodorants-soap, mens toiletries, medicines, haircare, dental needs, lotions-creams, sanitary pads, cough-cold-pain, department57, meat misc, cheese, chickens, milk-cream, cold-meats, deli gourmet, margarine, salads, small goods, dairy foods, fruit drinks, delicatessen misc, department70, beef, hogget, lamb, pet food, pork, poultry, veal, gourmet meat, department79, department80, department81, produce misc, fruit, plants, potatoes, vegetables, flowers, department88, department89, variety misc, brushware, electrical, haberdashery, kitchen, manchester, pantyhose, plasticware, department98, stationary, department100, department101, department102, prepared meals, preserving needs, condiments, cooking oils, department107, department108, department109, department110, department111, department112, department113, department114, health food bulk, department116, department117, department118, department119, department120, bake off products, department122, department123, department124, department125, department126, department127, department128, department129, department130, small goods2, offal, mutton, trim pork, trim lamb, imported cheese, department137, department138, department139, department140, department141, department142, department143, department144, department145, department146, department147, department148, department149, department150, department151, department152, department153, department154, department155, department156, department157, department158, department159, department160, department161, department162, department163, department164, department165, department166, department167, department168, department169, department170, department171, department172, department173, department174, department175, department176, department177, department178, department179, casks white wine, casks red wine, 750ml white nz, 750ml red nz, 750ml white imp, 750ml red imp, sparkling nz, sparkling imp, brew kits/accesry, department189, port and sherry, ctrled label wine, department192, department193, department194, department195, department196, department197, department198, department199, non host support, department201, department202, department203, department204, department205, department206, department207, department208, department209, department210, department211, department212, department213, department214, department215, department216, total]"
      ]
     },
     "execution_count": 7,
     "metadata": {},
     "output_type": "execute_result"
    }
   ],
   "source": [
    "supermarket_data.domain"
   ]
  },
  {
   "cell_type": "code",
   "execution_count": 8,
   "metadata": {
    "collapsed": false
   },
   "outputs": [
    {
     "name": "stdout",
     "output_type": "stream",
     "text": [
      "(0.72) bread and cake\n",
      "(0.51) bread and cake milk-cream\n",
      "(0.51) bread and cake milk-cream total\n",
      "(0.50) bread and cake fruit\n",
      "(0.50) bread and cake fruit total\n",
      "(0.72) bread and cake total\n",
      "(0.60) baking needs\n",
      "(0.60) baking needs total\n",
      "(0.53) juice-sat-cord-ms\n",
      "(0.53) juice-sat-cord-ms total\n",
      "(0.56) biscuits\n",
      "(0.56) biscuits total\n",
      "(0.59) frozen foods\n",
      "(0.59) frozen foods total\n",
      "(0.50) party snack foods\n",
      "(0.50) party snack foods total\n",
      "(0.64) milk-cream\n",
      "(0.64) milk-cream total\n",
      "(0.64) fruit\n",
      "(0.64) fruit total\n",
      "(0.64) vegetables\n",
      "(0.64) vegetables total\n",
      "(1.00) total\n"
     ]
    }
   ],
   "source": [
    "rules = Orange.associate.AssociationRulesSparseInducer(support=0.5, storeExamples=True)\n",
    "itemsets = rules.get_itemsets(supermarket_data)\n",
    "# относительная поддержка и частые множества\n",
    "for itemset, tids in itemsets:\n",
    "    print \"(%4.2f) %s\" % (len(tids) / float(len(supermarket_data)),\n",
    "                          \" \".join(supermarket_data.domain[item].name for item in itemset))"
   ]
  },
  {
   "cell_type": "markdown",
   "metadata": {},
   "source": [
    "### Классифицирующие ассоциативные правила"
   ]
  },
  {
   "cell_type": "code",
   "execution_count": 9,
   "metadata": {
    "collapsed": false
   },
   "outputs": [
    {
     "name": "stdout",
     "output_type": "stream",
     "text": [
      "Association rules:\n",
      "0.333  0.533  lenses=none -> prescription=hypermetrope\n",
      "0.333  0.667  prescription=hypermetrope -> lenses=none\n",
      "0.333  0.533  lenses=none -> astigmatic=yes\n",
      "0.333  0.667  astigmatic=yes -> lenses=none\n",
      "0.500  0.800  lenses=none -> tear_rate=reduced\n",
      "0.500  1.000  tear_rate=reduced -> lenses=none\n",
      "\n",
      "Classification rules\n",
      "0.333  0.667  prescription=hypermetrope -> lenses=none\n",
      "0.333  0.667  astigmatic=yes -> lenses=none\n",
      "0.500  1.000  tear_rate=reduced -> lenses=none\n"
     ]
    }
   ],
   "source": [
    "lenses_data = Orange.data.Table(\"lenses\")\n",
    "print \"Association rules:\"\n",
    "rules = Orange.associate.AssociationRulesInducer(lenses_data, support=0.3)\n",
    "for r in rules:\n",
    "    print \"%5.3f  %5.3f  %s\" % (r.support, r.confidence, r)\n",
    "    \n",
    "print \"\\nClassification rules\"\n",
    "rules = Orange.associate.AssociationRulesInducer(lenses_data, support = 0.3, classificationRules = 1)\n",
    "for r in rules:\n",
    "    print \"%5.3f  %5.3f  %s\" % (r.support, r.confidence, r)"
   ]
  }
 ],
 "metadata": {
  "kernelspec": {
   "display_name": "Python 2",
   "language": "python",
   "name": "python2"
  },
  "language_info": {
   "codemirror_mode": {
    "name": "ipython",
    "version": 2
   },
   "file_extension": ".py",
   "mimetype": "text/x-python",
   "name": "python",
   "nbconvert_exporter": "python",
   "pygments_lexer": "ipython2",
   "version": "2.7.11"
  },
  "name": "ARFIM.ipynb"
 },
 "nbformat": 4,
 "nbformat_minor": 0
}
