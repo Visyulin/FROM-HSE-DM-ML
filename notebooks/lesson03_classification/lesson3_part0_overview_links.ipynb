{
 "cells": [
  {
   "cell_type": "markdown",
   "metadata": {},
   "source": [
    "<center>\n",
    "<img src=\"../../img/ml_theme.png\">\n",
    "# Дополнительное профессиональное <br> образование НИУ ВШЭ\n",
    "#### Программа \"Машинное обучение и майнинг данных\"\n",
    "<img src=\"../../img/faculty_logo.jpg\" height=\"240\" width=\"240\">\n",
    "## Автор материала: преподаватель Факультета Компьютерных Наук НИУ ВШЭ Кашницкий Юрий\n",
    "</center>\n",
    "Материал распространяется на условиях лицензии <a href=\"https://opensource.org/licenses/MS-RL\">Ms-RL</a>. Можно использовать в любых целях, кроме коммерческих, но с обязательным упоминанием автора материала."
   ]
  },
  {
   "cell_type": "markdown",
   "metadata": {},
   "source": [
    "# Занятие 3. Обучение с учителем. Методы классификации"
   ]
  },
  {
   "cell_type": "markdown",
   "metadata": {},
   "source": [
    "## План занятия"
   ]
  },
  {
   "cell_type": "markdown",
   "metadata": {},
   "source": [
    "- Практическое задание. Визуальный анализ данных пассажиров \"Титаника\"\n",
    "- Обзор библиотеки Scikit-learn\n",
    "- Дерево решений в задаче классификации\n",
    "- Дерево решений в соревновании Kaggle Inclass по автострахованию\n",
    "- Извлечение признаков. Пример с набором данных Titanic\n",
    "- Создание признаков и случайный лес в задаче Kaggle \"Forest Cover Type Prediction\"\n",
    "- Метод ближайших соседей\n",
    "- Логистическая регрессия\n",
    "- Домашнее задание 3. Дерево решений и случайный лес в задаче предсказания выживания пассажиров \"Титаника\""
   ]
  },
  {
   "cell_type": "markdown",
   "metadata": {},
   "source": [
    "## Полезные ссылки"
   ]
  },
  {
   "cell_type": "markdown",
   "metadata": {},
   "source": [
    "- Статья <a href=\"http://habrahabr.ru/post/171759/\">\"Энтропия и деревья принятия решений\"</a>  на Хабрахабре\n",
    "- Статьи <a href=\"https://en.wikipedia.org/wiki/Decision_tree_learning\">\"Decision tree learning\"</a>, <a href=\"https://ru.wikipedia.org/wiki/C4.5\">\"C4.5\"</a> и <a href=\"https://ru.wikipedia.org/wiki/ID3_(%D0%B0%D0%BB%D0%B3%D0%BE%D1%80%D0%B8%D1%82%D0%BC)\">\"ID3 (алгоритм)\"</a> на Википедии \n",
    "- <a href=\"http://cis-linux1.temple.edu/~giorgio/cis587/readings/id3-c45.html\">Статья</a> \"Building Classification Models: ID3 and C4.5\" \n",
    "- Use Case: Дерево решений (<a href=\"http://www.nytimes.com/imagepages/2008/04/16/us/20080416_OBAMA_GRAPHIC.html\">нарисовано</a>) для предсказания итогов выборов президента США (когда Барак Обама победил Хилари Клинтон) \n",
    "- [Соревнование](https://inclass.kaggle.com/c/hse-addprofeduc-ml-contest) по предсказанию типа выплат при автостраховании на сайте Kaggle Inclass\n",
    "- Исходное <a href=\"http://microsoftbi.ru/2015/06/06/hackathon2015ml/\">описание</a> задачи предсказания типа выплат при автостраховании\n",
    "- [Метод ближайших соседей](http://www.machinelearning.ru/wiki/index.php?title=KNN) на MachineLearning.ru\n",
    "- Логистическая регрессия: [MachineLearning.ru](http://www.machinelearning.ru/wiki/index.php?title=%D0%9B%D0%BE%D0%B3%D0%B8%D1%81%D1%82%D0%B8%D1%87%D0%B5%D1%81%D0%BA%D0%B0%D1%8F_%D1%80%D0%B5%D0%B3%D1%80%D0%B5%D1%81%D1%81%D0%B8%D1%8F), [блог Marcel Caraciolo](http://aimotion.blogspot.ru/2011/11/machine-learning-with-python-logistic.html)\n",
    "- [Тьюториал](https://basegroup.ru/community/articles/logis-medic-scoring) \"Применение логистической регрессии в медицине и скоринге\"\n",
    "- [Тьюториал](https://basegroup.ru/community/articles/logistic) \"Логистическая регрессия и ROC-анализ — математический аппарат\"\n",
    "-  Документация Scikit-learn по классам <a href=\"http://scikit-learn.org/stable/modules/generated/sklearn.tree.DecisionTreeClassifier.html\">DecisionTreeClassifier</a> и <a href=\"http://scikit-learn.org/stable/modules/generated/sklearn.ensemble.RandomForestClassifier.html\">RandomForestClassifier</a>\n",
    "- [Соревнование](https://www.kaggle.com/c/titanic) Kaggle \"Titanic: Machine Learning from a Disaster\"\n",
    "- <a href=\"https://www.dataquest.io/mission/74/getting-started-with-kaggle/\">Тьюториал</a> Dataquest по задаче Kaggle \"Titanic: Machine Learning from Disaster\""
   ]
  }
 ],
 "metadata": {
  "kernelspec": {
   "display_name": "Python 2",
   "language": "python",
   "name": "python2"
  },
  "language_info": {
   "codemirror_mode": {
    "name": "ipython",
    "version": 2
   },
   "file_extension": ".py",
   "mimetype": "text/x-python",
   "name": "python",
   "nbconvert_exporter": "python",
   "pygments_lexer": "ipython2",
   "version": "2.7.11"
  },
  "name": "seminar02_part2_pandas.ipynb"
 },
 "nbformat": 4,
 "nbformat_minor": 0
}
