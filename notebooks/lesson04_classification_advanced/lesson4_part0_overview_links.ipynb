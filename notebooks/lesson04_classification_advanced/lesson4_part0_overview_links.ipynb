{
 "cells": [
  {
   "cell_type": "markdown",
   "metadata": {},
   "source": [
    "<center>\n",
    "<img src=\"../../img/ml_theme.png\">\n",
    "# Дополнительное профессиональное <br> образование НИУ ВШЭ\n",
    "#### Программа \"Машинное обучение и майнинг данных\"\n",
    "<img src=\"../../img/faculty_logo.jpg\" height=\"240\" width=\"240\">\n",
    "## Автор материала: преподаватель Факультета Компьютерных Наук НИУ ВШЭ Кашницкий Юрий\n",
    "</center>\n",
    "Материал распространяется на условиях лицензии <a href=\"https://opensource.org/licenses/MS-RL\">Ms-RL</a>. Можно использовать в любых целях, кроме коммерческих, но с обязательным упоминанием автора материала."
   ]
  },
  {
   "cell_type": "markdown",
   "metadata": {},
   "source": [
    "# Занятие 4. Продвинутые методы классификации и регрессии. Переобучение"
   ]
  },
  {
   "cell_type": "markdown",
   "metadata": {},
   "source": [
    "## План занятия"
   ]
  },
  {
   "cell_type": "markdown",
   "metadata": {},
   "source": [
    "- Бэггинг\n",
    "- Случайный лес\n",
    "- Определение важности признаков с помощью случайного леса\n",
    "- Случайный лес на примере набора данных соревнования Kaggle \"Forest Cover Type Prediction\"\n",
    "- Бустинг. Градиентный бустинг\n",
    "- Введение в нейронные сети\n",
    "- Переобучение. Кривые валидации и обучения\n",
    "- Домашнее задание. Случайный лес в соревновании Kaggle Inclass по автострахованию"
   ]
  },
  {
   "cell_type": "markdown",
   "metadata": {},
   "source": [
    "## Полезные ссылки"
   ]
  },
  {
   "cell_type": "markdown",
   "metadata": {},
   "source": [
    "- [Bootstrapping](href=\"https://en.wikipedia.org/wiki/Bootstrapping_(statistics)\n",
    "- [Лекция](http://www.machinelearning.ru/wiki/images/c/cd/Voron-ML-Compositions-slides.pdf) К.В. Воронцова по композиционным методам классификации\n",
    "- [Публикации](http://machine-learning.martinsewell.com/ensembles/bagging/) по бэггингу\n",
    "- [Тьюториал](http://machinelearningmastery.com/improve-machine-learning-results-with-boosting-bagging-and-blending-ensemble-methods-in-weka/) по ансамблям в Weka\n",
    "- [Random forest](https://en.wikipedia.org/wiki/Random_forest) на Wiki\n",
    "- [Статья](http://blog.yhathq.com/posts/random-forests-in-python.html) Random Forests in Python\n",
    "- <a href=\"https://en.wikipedia.org/wiki/Boosting_(machine_learning)\">Boosting</a>\n",
    "- [Gradient boosting](https://en.wikipedia.org/wiki/Gradient_boosting)\n",
    "- <a href=\"https://github.com/dmlc/xgboost\">Xgboost</a>\n",
    "- <a href=\"https://github.com/ChenglongChen/Kaggle_CrowdFlower\">Обзор</a> решения победителя соревнования Kaggle \"CrowdFlower\" по предсказанию релевантности выдачи поисковика товаров. Решение на основе Xgboost\n",
    "- [Тьюториал](http://mlwave.com/kaggle-ensembling-guide/) \"Kaggle Ensembling Guide\""
   ]
  }
 ],
 "metadata": {
  "kernelspec": {
   "display_name": "Python 2",
   "language": "python",
   "name": "python2"
  },
  "language_info": {
   "codemirror_mode": {
    "name": "ipython",
    "version": 2
   },
   "file_extension": ".py",
   "mimetype": "text/x-python",
   "name": "python",
   "nbconvert_exporter": "python",
   "pygments_lexer": "ipython2",
   "version": "2.7.11"
  },
  "name": "seminar02_part2_pandas.ipynb"
 },
 "nbformat": 4,
 "nbformat_minor": 0
}
