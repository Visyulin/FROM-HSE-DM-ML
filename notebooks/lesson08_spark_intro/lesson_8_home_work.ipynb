{
 "cells": [
  {
   "cell_type": "markdown",
   "metadata": {},
   "source": [
    "## Домашнее задание № 1"
   ]
  },
  {
   "cell_type": "markdown",
   "metadata": {},
   "source": [
    "Импорт и инициализация SparkContext"
   ]
  },
  {
   "cell_type": "code",
   "execution_count": 1,
   "metadata": {
    "collapsed": true
   },
   "outputs": [],
   "source": [
    "from pyspark import SparkContext, SQLContext\n",
    "sc = SparkContext()\n",
    "sqlContext = SQLContext(sc)"
   ]
  },
  {
   "cell_type": "markdown",
   "metadata": {},
   "source": [
    "#### Создайте RDD `alice` из текстового файла '../data/alice.txt' и выведите первые 5 строк."
   ]
  },
  {
   "cell_type": "code",
   "execution_count": 3,
   "metadata": {
    "collapsed": false
   },
   "outputs": [
    {
     "data": {
      "text/plain": [
       "[u\"ALICE'S ADVENTURES IN WONDERLAND\",\n",
       " u'',\n",
       " u'Lewis Carroll',\n",
       " u'',\n",
       " u'THE MILLENNIUM FULCRUM EDITION 3.0']"
      ]
     },
     "execution_count": 3,
     "metadata": {},
     "output_type": "execute_result"
    }
   ],
   "source": [
    "# Ваш код здесь"
   ]
  },
  {
   "cell_type": "markdown",
   "metadata": {},
   "source": [
    "#### Используя функцию removePunctuation удалите лишние символы из строк в RDD alice и присвоить значение новому RDD alice_2. Отобразите 10 элементов RDD."
   ]
  },
  {
   "cell_type": "code",
   "execution_count": 19,
   "metadata": {
    "collapsed": false,
    "scrolled": true
   },
   "outputs": [
    {
     "data": {
      "text/plain": [
       "[u'alices adventures in wonderland',\n",
       " u'',\n",
       " u'lewis carroll',\n",
       " u'',\n",
       " u'the millennium fulcrum edition 30',\n",
       " u'',\n",
       " u'',\n",
       " u'',\n",
       " u'',\n",
       " u'chapter i down the rabbithole']"
      ]
     },
     "execution_count": 19,
     "metadata": {},
     "output_type": "execute_result"
    }
   ],
   "source": [
    "import re\n",
    "def removePunctuation(line):\n",
    "    return re.sub('[^a-zA-Z 0-9]','',line.lower().strip())\n",
    "\n",
    "# Ваш код здесь"
   ]
  },
  {
   "cell_type": "markdown",
   "metadata": {},
   "source": [
    "#### Разделите строки на слова и преобразуйте их в формат (ключ, значение): tuple (слово, 1) . Присвойте значение новому RDD alice_3. Отобразите 10 элементов RDD."
   ]
  },
  {
   "cell_type": "code",
   "execution_count": 23,
   "metadata": {
    "collapsed": false
   },
   "outputs": [
    {
     "data": {
      "text/plain": [
       "[(u'alices', 1),\n",
       " (u'adventures', 1),\n",
       " (u'in', 1),\n",
       " (u'wonderland', 1),\n",
       " (u'lewis', 1),\n",
       " (u'carroll', 1),\n",
       " (u'the', 1),\n",
       " (u'millennium', 1),\n",
       " (u'fulcrum', 1),\n",
       " (u'edition', 1)]"
      ]
     },
     "execution_count": 23,
     "metadata": {},
     "output_type": "execute_result"
    }
   ],
   "source": [
    "# Ваш код здесь"
   ]
  },
  {
   "cell_type": "markdown",
   "metadata": {},
   "source": [
    "#### Найдите количество встречаний каждого слова  и присвоите значение новому RDD alice_4. Отобразить 10 элементов RDD."
   ]
  },
  {
   "cell_type": "code",
   "execution_count": 27,
   "metadata": {
    "collapsed": false
   },
   "outputs": [
    {
     "data": {
      "text/plain": [
       "[(u'pardon', 6),\n",
       " (u'four', 6),\n",
       " (u'sleep', 6),\n",
       " (u'ringlets', 2),\n",
       " (u'hate', 1),\n",
       " (u'treading', 2),\n",
       " (u'lory', 7),\n",
       " (u'paris', 2),\n",
       " (u'presents', 2),\n",
       " (u'yetits', 1)]"
      ]
     },
     "execution_count": 27,
     "metadata": {},
     "output_type": "execute_result"
    }
   ],
   "source": [
    "from operator import add\n",
    "\n",
    "# Ваш код здесь"
   ]
  },
  {
   "cell_type": "markdown",
   "metadata": {},
   "source": [
    "#### Разверните tuple в (count, word) и упорядочите их в порядке уменьшения ключа, присвойте значение новому RDD alice_5. Отобразите 10 элементов RDD."
   ]
  },
  {
   "cell_type": "code",
   "execution_count": 37,
   "metadata": {
    "collapsed": false
   },
   "outputs": [
    {
     "data": {
      "text/plain": [
       "[(1631, u'the'),\n",
       " (844, u'and'),\n",
       " (721, u'to'),\n",
       " (627, u'a'),\n",
       " (537, u'she'),\n",
       " (526, u'it'),\n",
       " (508, u'of'),\n",
       " (462, u'said'),\n",
       " (400, u'i'),\n",
       " (385, u'alice')]"
      ]
     },
     "execution_count": 37,
     "metadata": {},
     "output_type": "execute_result"
    }
   ],
   "source": [
    "# Ваш код здесь"
   ]
  },
  {
   "cell_type": "markdown",
   "metadata": {},
   "source": [
    "#### Отобразите только те слова, которые встретились в документе ровно 20 раз."
   ]
  },
  {
   "cell_type": "code",
   "execution_count": 62,
   "metadata": {
    "collapsed": false
   },
   "outputs": [
    {
     "data": {
      "text/plain": [
       "[(20, u'sort'), (20, u'cried'), (20, u'however'), (20, u'hand')]"
      ]
     },
     "execution_count": 62,
     "metadata": {},
     "output_type": "execute_result"
    }
   ],
   "source": [
    "# Ваш код здесь"
   ]
  },
  {
   "cell_type": "markdown",
   "metadata": {},
   "source": [
    "#### Подсчитайте количество уникальных слов в документе."
   ]
  },
  {
   "cell_type": "code",
   "execution_count": 48,
   "metadata": {
    "collapsed": false
   },
   "outputs": [
    {
     "data": {
      "text/plain": [
       "2756"
      ]
     },
     "execution_count": 48,
     "metadata": {},
     "output_type": "execute_result"
    }
   ],
   "source": [
    "# Ваш код здесь"
   ]
  },
  {
   "cell_type": "markdown",
   "metadata": {},
   "source": [
    "#### Найдите самое длинное слово в документе из RDD alice_2"
   ]
  },
  {
   "cell_type": "code",
   "execution_count": 60,
   "metadata": {
    "collapsed": false
   },
   "outputs": [
    {
     "data": {
      "text/plain": [
       "(u'importantunimportantunimportantimportant', 40)"
      ]
     },
     "execution_count": 60,
     "metadata": {},
     "output_type": "execute_result"
    }
   ],
   "source": [
    "# Ваш код здесь"
   ]
  },
  {
   "cell_type": "code",
   "execution_count": null,
   "metadata": {
    "collapsed": true
   },
   "outputs": [],
   "source": []
  }
 ],
 "metadata": {
  "anaconda-cloud": {},
  "kernelspec": {
   "display_name": "Python [default]",
   "language": "python",
   "name": "python2"
  },
  "language_info": {
   "codemirror_mode": {
    "name": "ipython",
    "version": 2
   },
   "file_extension": ".py",
   "mimetype": "text/x-python",
   "name": "python",
   "nbconvert_exporter": "python",
   "pygments_lexer": "ipython2",
   "version": "2.7.12"
  }
 },
 "nbformat": 4,
 "nbformat_minor": 0
}
