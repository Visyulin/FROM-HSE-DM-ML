{
 "cells": [
  {
   "cell_type": "markdown",
   "metadata": {},
   "source": [
    "<center>\n",
    "<img src=\"../../img/ml_theme.png\">\n",
    "# Дополнительное профессиональное <br> образование НИУ ВШЭ\n",
    "#### Программа \"Машинное обучение и майнинг данных\"\n",
    "<img src=\"../../img/faculty_logo.jpg\" height=\"240\" width=\"240\">\n",
    "## Автор материала: преподаватель Факультета Компьютерных Наук НИУ ВШЭ Кашницкий Юрий\n",
    "</center>\n",
    "Материал распространяется на условиях лицензии <a href=\"https://opensource.org/licenses/MS-RL\">Ms-RL</a>. Можно использовать в любых целях, кроме коммерческих, но с обязательным упоминанием автора материала."
   ]
  },
  {
   "cell_type": "markdown",
   "metadata": {},
   "source": [
    "# Занятие 2. Библиотеки и инструменты для анализа данных. Математика в машинном обучении"
   ]
  },
  {
   "cell_type": "markdown",
   "metadata": {},
   "source": [
    "## Часть 1. План занятия"
   ]
  },
  {
   "cell_type": "markdown",
   "metadata": {},
   "source": [
    "- Работа с векторами в библиотеке NumPy\n",
    "- Задача по линейной алгебре\n",
    "- Обзор математических методов в машинном обучении. Библиотека SciPy \n",
    "- Обзор библиотеки Pandas\n",
    "- Пример первичного анализа данных с Pandas\n",
    "- Обзор библиотеки Matplotlib\n",
    "- Обзор библиотеки Seaborn\n",
    "- Пример визуального анализа данных с Pandas и Seaborn \n",
    "- Практическое задание. Анализ данных пассажиров \"Титаника\"\n",
    "- Домашнее задание 2. Анализ данных по перелетам между городами США в 2008 году с помощью Pandas и Seaborn"
   ]
  },
  {
   "cell_type": "markdown",
   "metadata": {},
   "source": [
    "**Numpy** - это библиотека Python для вычислительно эффективных операций с многомерными массивами, предназначенная в основном для научных вычислений."
   ]
  },
  {
   "cell_type": "markdown",
   "metadata": {},
   "source": [
    "**SciPy** - это библиотека для Python, содержащая множество математических алгоритмов и предназначенная для выполнения научных расчётов. С его помощью можно решать широкий класс математических задач, возникающих в ходе научной деятельности."
   ]
  },
  {
   "cell_type": "markdown",
   "metadata": {},
   "source": [
    "**Pandas** - это библиотека Python, предоставляющая широкие возможности для анализа данных. С ее помощью очень удобно загружать, обрабатывать и анализировать табличные данные с помощью SQL-подобных запросов. В связке с библиотеками Matplotlib и Seaborn появляется возможность удобного визуального анализа табличных данных."
   ]
  },
  {
   "cell_type": "markdown",
   "metadata": {},
   "source": [
    "**Matplotlib** - библиотека  Python для визуализации данных двух- и трехмерной графикой. Обладает большим набором возможностей контроля каждого элемента изображения. "
   ]
  },
  {
   "cell_type": "markdown",
   "metadata": {},
   "source": [
    "**Seaborn** - надстройка над библиотекой Matplotlib. Позволяет чуть проще, чем с Matplotlib, делать \"стильные\" и информативные статистические графики. Поддерживает структуры данных NumPy и Pandas, а также статистические методы, реализованные в SciPy и statmodels."
   ]
  },
  {
   "cell_type": "markdown",
   "metadata": {},
   "source": [
    "## Полезные ссылки"
   ]
  },
  {
   "cell_type": "markdown",
   "metadata": {},
   "source": [
    "- [Документация](http://docs.scipy.org/doc/numpy/) NumPy\n",
    "- [Пособие](http://habrahabr.ru/post/121031/) по NumPy на Хабрахабре\n",
    "- Множество гайдов и уроков по пакету Pandas представлено на [сайте](http://pandas.pydata.org/pandas-docs/stable/tutorials.html) с документацией\n",
    "- [Тьюториал](http://pandas.pydata.org/pandas-docs/stable/10min.html) \"10 minutes to Pandas\"\n",
    "- [Pandas Cheat Sheet](http://www.analyticsvidhya.com/blog/2015/07/11-steps-perform-data-analysis-pandas-python/)\n",
    "- [Сайт](http://matplotlib.org/) Matplotlib\n",
    "- [Сайт](http://stanford.edu/~mwaskom/software/seaborn/) Seaborn\n",
    "- [«Data science IPython notebooks»](https://github.com/donnemartin/data-science-ipython-notebooks), [ipython-notebooks](https://github.com/jdwittenauer/ipython-notebooks), [scientific-python-lectures](https://github.com/jrjohansson/scientific-python-lectures) - репозитории GitHub с тетрадками IPython по основным библиотекам Python для анализа данных — NumPy, SciPy, Pandas, Matplotlib, Scikit-learn и не только \n",
    "- Прогнозирование результатов выборов в США. Хороший пример анализа данных с Pandas. [Репозиторий](https://github.com/jseabold/538model/blob/master/historical_adjustment.ipynb) GitHub\n",
    "- [Обзор](https://habrahabr.ru/post/270449/) полезных репозиториев по языку программирования Python и машинному обучению "
   ]
  },
  {
   "cell_type": "code",
   "execution_count": 3,
   "metadata": {
    "collapsed": true
   },
   "outputs": [],
   "source": [
    "?sin"
   ]
  },
  {
   "cell_type": "code",
   "execution_count": null,
   "metadata": {
    "collapsed": true
   },
   "outputs": [],
   "source": []
  }
 ],
 "metadata": {
  "kernelspec": {
   "display_name": "Python 2",
   "language": "python",
   "name": "python2"
  },
  "language_info": {
   "codemirror_mode": {
    "name": "ipython",
    "version": 2
   },
   "file_extension": ".py",
   "mimetype": "text/x-python",
   "name": "python",
   "nbconvert_exporter": "python",
   "pygments_lexer": "ipython2",
   "version": "2.7.11"
  },
  "name": "seminar02_part2_pandas.ipynb"
 },
 "nbformat": 4,
 "nbformat_minor": 0
}
