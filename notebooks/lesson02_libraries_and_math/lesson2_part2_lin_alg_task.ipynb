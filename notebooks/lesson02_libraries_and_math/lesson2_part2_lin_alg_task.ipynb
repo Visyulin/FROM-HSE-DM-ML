{
 "cells": [
  {
   "cell_type": "markdown",
   "metadata": {},
   "source": [
    "<center>\n",
    "<img src=\"../../img/ml_theme.png\">\n",
    "# Дополнительное профессиональное <br> образование НИУ ВШЭ\n",
    "#### Программа \"Машинное обучение и майнинг данных\"\n",
    "<img src=\"../../img/faculty_logo.jpg\" height=\"240\" width=\"240\">\n",
    "## Автор материала: преподаватель Факультета Компьютерных Наук НИУ ВШЭ Кашницкий Юрий\n",
    "</center>\n",
    "Материал распространяется на условиях лицензии <a href=\"https://opensource.org/licenses/MS-RL\">Ms-RL</a>. Можно использовать в любых целях, кроме коммерческих, но с обязательным упоминанием автора материала."
   ]
  },
  {
   "cell_type": "markdown",
   "metadata": {},
   "source": [
    "# Занятие 2. Библиотеки и инструменты для анализа данных. Математика в машинном обучении\n",
    "## Часть 2. Задача по линейной алгебре"
   ]
  },
  {
   "cell_type": "markdown",
   "metadata": {},
   "source": [
    "**Задача дается не просто так, ее решение позволит интуитивно понять принцип работы метода опорных векторов.**"
   ]
  },
  {
   "cell_type": "markdown",
   "metadata": {},
   "source": [
    "Даны координаты 4 точек на плоскости - $P_1(x_1, y_1)$, $P_2(x_2, y_2)$, $Q_3(x_3, y_3)$, $Q_4(x_4, y_4)$. Проведены прямые $P_1P_2$ и $Q_1Q_2$. \n",
    "\n",
    "Пусть (для опеределенности) $P_1$ ближе к прямой $Q_1Q_2$, чем $P_2$, то есть $\\rho(P_1, Q_1Q_2) < \\rho(P_2, Q_1Q_2)$, а $Q_1$ ближе к прямой $P_1P_2$, чем $Q_2$, то есть $\\rho(Q_1, P_1P_2) < \\rho(Q_2, P_1P_2)$. \n",
    "\n",
    "Обозначим $P_1H_1 = \\rho(P_1, Q_1Q_2)$ и $Q_1H_2 = \\rho(Q_1, P_1P_2)$.\n",
    "\n",
    "Найти $max(P_1H_1, Q_1H_2)$.\n",
    "\n",
    "<img src=\"../../img/linalg_task.png\">"
   ]
  },
  {
   "cell_type": "markdown",
   "metadata": {},
   "source": [
    "**Решение**. \n",
    "\n",
    "Расстояние от точки, заданной вектором $\\vec{a}$ до прямой с единичным направляющим вектором $\\vec{i}$, проходящей через $(0, 0)$, \n",
    "\n",
    "равно $|\\vec{a}| \\ sin(\\vec{a}, \\vec{i}) = |\\vec{a} \\times \\vec{i}|$, где $\\times$ - оператор векторного произведения.\n",
    "\n",
    "<img src=\"../../img/linalg_task2.png\">\n",
    "\n",
    "Тогда расстояние от точки $A$ с координатами $x, y$ до прямой $m$ с направляющим вектором $w_1, w_2$, проходящей через точку $x_0, y_0$, равно:\n",
    "\n",
    "$$\\rho(A, m) = \\frac{|(x-x_0, y-y_0) \\times(w_1, w_2)|}{||(w_1, w_2)||}$$\n",
    "\n",
    "<img src=\"../../img/linalg_task3.png\">"
   ]
  },
  {
   "cell_type": "markdown",
   "metadata": {},
   "source": [
    "Тогда $P_1, H_1 = \\frac{|(x_1-x_3, y_1-y_3) \\times(x_4-x_3, y_4-y_3)|}{||(x_4-x_3, y_4-y_3)||} = \\sqrt{\\frac{(x_1-x_3)(y4-y3) - (x_4 - x_3)(y_1-y_3)}{(x_4-x_3)^2 + (y_4-y_3)^2}}$ "
   ]
  },
  {
   "cell_type": "markdown",
   "metadata": {},
   "source": [
    "Аналогично $Q_2, H_2 = \\frac{|(x_3-x_1, y_3-y_1) \\times(x_2-x_1, y_2-y_1)|}{||(x_2-x_1, y_2-y_1)||} = \\sqrt{\\frac{(x_3-x_1)(y_2-y_1) - (x_2 - x_1)(y_3-y_1)}{(x_2-x_1)^2 + (y_2-y_1)^2}}$ "
   ]
  },
  {
   "cell_type": "markdown",
   "metadata": {},
   "source": [
    "Например, для $(x_1, y_1) = (0, 4), (x_2, y_2) = (0.5, 8), (x_3, y_3) = (0, 0), (x_4, y_4) = (3, 1)$"
   ]
  },
  {
   "cell_type": "code",
   "execution_count": 1,
   "metadata": {
    "collapsed": false
   },
   "outputs": [
    {
     "name": "stdout",
     "output_type": "stream",
     "text": [
      "Populating the interactive namespace from numpy and matplotlib\n"
     ]
    },
    {
     "data": {
      "text/plain": [
       "[<matplotlib.lines.Line2D at 0x1087b4f90>]"
      ]
     },
     "execution_count": 1,
     "metadata": {},
     "output_type": "execute_result"
    },
    {
     "data": {
      "image/png": "[encoded data removed]",
      "text/plain": [
       "<matplotlib.figure.Figure at 0x1046900d0>"
      ]
     },
     "metadata": {},
     "output_type": "display_data"
    }
   ],
   "source": [
    "# Python 2 and 3 compatibility\n",
    "from __future__ import (absolute_import, division,\n",
    "                        print_function, unicode_literals)\n",
    "# отключим предупреждения Anaconda\n",
    "import warnings\n",
    "warnings.simplefilter('ignore')\n",
    "%pylab inline\n",
    "import seaborn as sns\n",
    "figsize(12, 8)\n",
    "P = np.array([[0, 4], [.5, 8]])\n",
    "Q = np.array([[0, 0], [3, 1]])\n",
    "scatter(P[:, 0], P[:, 1], c = 'g', s = 100)\n",
    "scatter(Q[:, 0], Q[:, 1], c = 'r', s = 100)\n",
    "plot([i*8 + 4 for i in range(2)], color=\"green\")\n",
    "plot([i*8 for i in range(2)], color=\"green\")\n",
    "plot([i*1/3 for i in range(5)], color=\"red\")\n",
    "plot([i*1/3 + 4 for i in range(5)], color=\"red\")\n",
    "# plt.show()"
   ]
  }
 ],
 "metadata": {
  "kernelspec": {
   "display_name": "Python 2",
   "language": "python",
   "name": "python2"
  },
  "language_info": {
   "codemirror_mode": {
    "name": "ipython",
    "version": 2
   },
   "file_extension": ".py",
   "mimetype": "text/x-python",
   "name": "python",
   "nbconvert_exporter": "python",
   "pygments_lexer": "ipython2",
   "version": "2.7.11"
  },
  "name": "lesson5_linalg_task.ipynb"
 },
 "nbformat": 4,
 "nbformat_minor": 0
}
